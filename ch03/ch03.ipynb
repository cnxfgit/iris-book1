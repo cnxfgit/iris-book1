{
 "cells": [
  {
   "cell_type": "code",
   "execution_count": 3,
   "id": "a0666bb6-4c49-47a5-8c88-d7ec13555693",
   "metadata": {},
   "outputs": [
    {
     "name": "stdout",
     "output_type": "stream",
     "text": [
      "12\n"
     ]
    }
   ],
   "source": [
    "print(12)"
   ]
  },
  {
   "cell_type": "code",
   "execution_count": 5,
   "id": "c03a309f-69e1-4b63-ba6b-351c6d6fa80e",
   "metadata": {},
   "outputs": [
    {
     "name": "stdout",
     "output_type": "stream",
     "text": [
      "CPU times: total: 0 ns\n",
      "Wall time: 0 ns\n",
      "123\n"
     ]
    }
   ],
   "source": [
    "%time\n",
    "\n",
    "print(123)"
   ]
  },
  {
   "cell_type": "markdown",
   "id": "921b76b4-66e1-4966-b903-b9f05f16ec96",
   "metadata": {},
   "source": [
    "$$A_{m\\times n} = \n",
    "\\begin{bmatrix}\n",
    " a_{1,1} & a_{1,2} & \\cdots & a_{1,n} \\\\\n",
    " a_{2,1} & a_{2,2} & \\cdots & a_{2,n} \\\\\n",
    " \\vdots & \\vdots & \\ddots & \\vdots \\\\\n",
    " a_{m,1} & a_{m,2} & \\cdots & a_{m,n} \n",
    "\\end{bmatrix}$$"
   ]
  },
  {
   "cell_type": "markdown",
   "id": "b8a3a308-6892-4c50-8c2c-1e00dcae1065",
   "metadata": {},
   "source": [
    "$\\Pr(A\\vert B)={\\frac {\\Pr(B\\vert \n",
    "A)\\Pr(A)}{\\Pr(B)}}$"
   ]
  },
  {
   "cell_type": "code",
   "execution_count": null,
   "id": "0cef3a29-24b4-4b14-ae5a-e1d844a61d5a",
   "metadata": {},
   "outputs": [],
   "source": []
  }
 ],
 "metadata": {
  "kernelspec": {
   "display_name": "Python 3 (ipykernel)",
   "language": "python",
   "name": "python3"
  },
  "language_info": {
   "codemirror_mode": {
    "name": "ipython",
    "version": 3
   },
   "file_extension": ".py",
   "mimetype": "text/x-python",
   "name": "python",
   "nbconvert_exporter": "python",
   "pygments_lexer": "ipython3",
   "version": "3.10.9"
  }
 },
 "nbformat": 4,
 "nbformat_minor": 5
}
