{
 "cells": [
  {
   "cell_type": "code",
   "execution_count": 1,
   "id": "50d89aa4-7754-4a9c-add1-72420bb65b70",
   "metadata": {},
   "outputs": [],
   "source": [
    "import pandas as pd\n",
    "import requests"
   ]
  },
  {
   "cell_type": "code",
   "execution_count": 2,
   "id": "0c4554f9-b96d-4763-8d51-8506407fab81",
   "metadata": {},
   "outputs": [],
   "source": [
    "url = 'https://fred.stlouisfed.org/data/SP500.txt'"
   ]
  },
  {
   "cell_type": "code",
   "execution_count": 3,
   "id": "02b1d629-9117-4c73-b618-79225d3b86ac",
   "metadata": {},
   "outputs": [],
   "source": [
    "response = requests.get(url)"
   ]
  },
  {
   "cell_type": "code",
   "execution_count": 4,
   "id": "f3be299d-acac-4d6e-94dc-f4382f303b80",
   "metadata": {},
   "outputs": [],
   "source": [
    "if response.status_code == 200:\n",
    "    df = pd.read_csv(url, skiprows=44, sep='\\s+')\n",
    "else:\n",
    "    print(\"Failed to fetch data from the source\")"
   ]
  },
  {
   "cell_type": "code",
   "execution_count": 5,
   "id": "dd3414dd-69e5-40de-afec-cc68f492653c",
   "metadata": {},
   "outputs": [],
   "source": [
    "df['DATE'] = pd.to_datetime(df['DATE'])\n",
    "df.set_index('DATE', inplace=True)"
   ]
  },
  {
   "cell_type": "code",
   "execution_count": 7,
   "id": "965c5c54-0710-4492-8822-93d516b9f712",
   "metadata": {},
   "outputs": [
    {
     "name": "stdout",
     "output_type": "stream",
     "text": [
      "              VALUE\n",
      "DATE               \n",
      "2014-03-17  1858.83\n",
      "2014-03-18  1872.25\n",
      "2014-03-19  1860.77\n",
      "2014-03-20  1872.01\n",
      "2014-03-21  1866.52\n",
      "...             ...\n",
      "2024-03-08  5123.69\n",
      "2024-03-11  5117.94\n",
      "2024-03-12  5175.27\n",
      "2024-03-13  5165.31\n",
      "2024-03-14  5150.48\n",
      "\n",
      "[2609 rows x 1 columns]\n"
     ]
    }
   ],
   "source": []
  },
  {
   "cell_type": "code",
   "execution_count": null,
   "id": "543f3d0d-ae78-41cd-a7e5-4946c9ff9739",
   "metadata": {},
   "outputs": [],
   "source": []
  }
 ],
 "metadata": {
  "kernelspec": {
   "display_name": "Python 3 (ipykernel)",
   "language": "python",
   "name": "python3"
  },
  "language_info": {
   "codemirror_mode": {
    "name": "ipython",
    "version": 3
   },
   "file_extension": ".py",
   "mimetype": "text/x-python",
   "name": "python",
   "nbconvert_exporter": "python",
   "pygments_lexer": "ipython3",
   "version": "3.10.9"
  }
 },
 "nbformat": 4,
 "nbformat_minor": 5
}
