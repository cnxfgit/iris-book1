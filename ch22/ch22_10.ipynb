{
 "cells": [
  {
   "cell_type": "code",
   "execution_count": 1,
   "id": "e6bd365d-4913-4278-905f-dde296da0617",
   "metadata": {},
   "outputs": [],
   "source": [
    "import pandas as pd\n",
    "import numpy as np"
   ]
  },
  {
   "cell_type": "code",
   "execution_count": 2,
   "id": "4dc2eb5e-d39e-45d5-8f09-579caf9eb4e3",
   "metadata": {},
   "outputs": [],
   "source": [
    "classes = ['A', 'B']\n",
    "student_ids = [1,2,3,4]\n",
    "subjects = ['Art', 'Math', 'Science']"
   ]
  },
  {
   "cell_type": "code",
   "execution_count": 3,
   "id": "0309c7b3-46b1-4a78-a667-5d3a0dacf5dd",
   "metadata": {},
   "outputs": [],
   "source": [
    "length = len(classes)*len(student_ids)*len(subjects)"
   ]
  },
  {
   "cell_type": "code",
   "execution_count": 4,
   "id": "16f4b62b-c52f-4aeb-98b6-1b0d21a10e9f",
   "metadata": {},
   "outputs": [],
   "source": [
    "scores = np.random.randint(3, 6, size=(length))"
   ]
  },
  {
   "cell_type": "code",
   "execution_count": 5,
   "id": "8325db68-1053-4b21-8ac2-da49c2bb7b0e",
   "metadata": {},
   "outputs": [],
   "source": [
    "index = pd.MultiIndex.from_product(\n",
    "    [classes, student_ids, subjects],\n",
    "    names=['Class', 'Student ID', 'Subject'])"
   ]
  },
  {
   "cell_type": "code",
   "execution_count": 6,
   "id": "0dcfe41d-a578-4480-9114-9a34a6251ecc",
   "metadata": {},
   "outputs": [],
   "source": [
    "df = pd.DataFrame(scores, index=index,\n",
    "                 columns=['Final'])"
   ]
  },
  {
   "cell_type": "code",
   "execution_count": 7,
   "id": "ac801186-0d8a-4f4d-9022-1f743f825c70",
   "metadata": {},
   "outputs": [
    {
     "data": {
      "text/html": [
       "<div>\n",
       "<style scoped>\n",
       "    .dataframe tbody tr th:only-of-type {\n",
       "        vertical-align: middle;\n",
       "    }\n",
       "\n",
       "    .dataframe tbody tr th {\n",
       "        vertical-align: top;\n",
       "    }\n",
       "\n",
       "    .dataframe thead tr th {\n",
       "        text-align: left;\n",
       "    }\n",
       "\n",
       "    .dataframe thead tr:last-of-type th {\n",
       "        text-align: right;\n",
       "    }\n",
       "</style>\n",
       "<table border=\"1\" class=\"dataframe\">\n",
       "  <thead>\n",
       "    <tr>\n",
       "      <th></th>\n",
       "      <th></th>\n",
       "      <th colspan=\"2\" halign=\"left\">Final</th>\n",
       "    </tr>\n",
       "    <tr>\n",
       "      <th></th>\n",
       "      <th>Class</th>\n",
       "      <th>A</th>\n",
       "      <th>B</th>\n",
       "    </tr>\n",
       "    <tr>\n",
       "      <th>Student ID</th>\n",
       "      <th>Subject</th>\n",
       "      <th></th>\n",
       "      <th></th>\n",
       "    </tr>\n",
       "  </thead>\n",
       "  <tbody>\n",
       "    <tr>\n",
       "      <th rowspan=\"3\" valign=\"top\">1</th>\n",
       "      <th>Art</th>\n",
       "      <td>5</td>\n",
       "      <td>3</td>\n",
       "    </tr>\n",
       "    <tr>\n",
       "      <th>Math</th>\n",
       "      <td>3</td>\n",
       "      <td>4</td>\n",
       "    </tr>\n",
       "    <tr>\n",
       "      <th>Science</th>\n",
       "      <td>5</td>\n",
       "      <td>4</td>\n",
       "    </tr>\n",
       "    <tr>\n",
       "      <th rowspan=\"3\" valign=\"top\">2</th>\n",
       "      <th>Art</th>\n",
       "      <td>3</td>\n",
       "      <td>4</td>\n",
       "    </tr>\n",
       "    <tr>\n",
       "      <th>Math</th>\n",
       "      <td>5</td>\n",
       "      <td>3</td>\n",
       "    </tr>\n",
       "    <tr>\n",
       "      <th>Science</th>\n",
       "      <td>3</td>\n",
       "      <td>5</td>\n",
       "    </tr>\n",
       "    <tr>\n",
       "      <th rowspan=\"3\" valign=\"top\">3</th>\n",
       "      <th>Art</th>\n",
       "      <td>3</td>\n",
       "      <td>3</td>\n",
       "    </tr>\n",
       "    <tr>\n",
       "      <th>Math</th>\n",
       "      <td>3</td>\n",
       "      <td>4</td>\n",
       "    </tr>\n",
       "    <tr>\n",
       "      <th>Science</th>\n",
       "      <td>3</td>\n",
       "      <td>4</td>\n",
       "    </tr>\n",
       "    <tr>\n",
       "      <th rowspan=\"3\" valign=\"top\">4</th>\n",
       "      <th>Art</th>\n",
       "      <td>5</td>\n",
       "      <td>4</td>\n",
       "    </tr>\n",
       "    <tr>\n",
       "      <th>Math</th>\n",
       "      <td>5</td>\n",
       "      <td>5</td>\n",
       "    </tr>\n",
       "    <tr>\n",
       "      <th>Science</th>\n",
       "      <td>4</td>\n",
       "      <td>3</td>\n",
       "    </tr>\n",
       "  </tbody>\n",
       "</table>\n",
       "</div>"
      ],
      "text/plain": [
       "                   Final   \n",
       "Class                  A  B\n",
       "Student ID Subject         \n",
       "1          Art         5  3\n",
       "           Math        3  4\n",
       "           Science     5  4\n",
       "2          Art         3  4\n",
       "           Math        5  3\n",
       "           Science     3  5\n",
       "3          Art         3  3\n",
       "           Math        3  4\n",
       "           Science     3  4\n",
       "4          Art         5  4\n",
       "           Math        5  5\n",
       "           Science     4  3"
      ]
     },
     "execution_count": 7,
     "metadata": {},
     "output_type": "execute_result"
    }
   ],
   "source": [
    "df.unstack('Class')"
   ]
  },
  {
   "cell_type": "code",
   "execution_count": null,
   "id": "29d3d8f7-3845-4d53-9294-ae4b8ffebfb9",
   "metadata": {},
   "outputs": [],
   "source": []
  }
 ],
 "metadata": {
  "kernelspec": {
   "display_name": "Python 3 (ipykernel)",
   "language": "python",
   "name": "python3"
  },
  "language_info": {
   "codemirror_mode": {
    "name": "ipython",
    "version": 3
   },
   "file_extension": ".py",
   "mimetype": "text/x-python",
   "name": "python",
   "nbconvert_exporter": "python",
   "pygments_lexer": "ipython3",
   "version": "3.10.9"
  }
 },
 "nbformat": 4,
 "nbformat_minor": 5
}
