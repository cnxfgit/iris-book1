{
 "cells": [
  {
   "cell_type": "code",
   "execution_count": 1,
   "id": "1c75b6b3-2fd5-4205-87f7-5a3971956d4e",
   "metadata": {},
   "outputs": [],
   "source": [
    "import pandas as pd\n",
    "import numpy as np"
   ]
  },
  {
   "cell_type": "code",
   "execution_count": 2,
   "id": "77aee228-7dc9-4747-abc1-af479ab82b0e",
   "metadata": {},
   "outputs": [],
   "source": [
    "classes = ['A', 'B']\n",
    "stu_ids = [1,2,3,4]\n",
    "subjects = ['Art', 'Math', 'Science']"
   ]
  },
  {
   "cell_type": "code",
   "execution_count": 3,
   "id": "ce973bf6-1463-489a-a188-a8bc05f03e0a",
   "metadata": {},
   "outputs": [],
   "source": [
    "np.random.seed(0)\n",
    "length = len(classes) * len(subjects) *len(stu_ids)\n",
    "data = np.random.randint(3,6,size=(length))"
   ]
  },
  {
   "cell_type": "code",
   "execution_count": 4,
   "id": "3aff892d-818d-435e-9700-d535ea297ed6",
   "metadata": {},
   "outputs": [],
   "source": [
    "index = pd.MultiIndex.from_product(\n",
    "    [classes, stu_ids, subjects],\n",
    "    names=['Class', 'Student ID', 'Subject'])"
   ]
  },
  {
   "cell_type": "code",
   "execution_count": 5,
   "id": "e73c005c-6eb7-4bad-96fd-6a2824d65405",
   "metadata": {},
   "outputs": [],
   "source": [
    "df = pd.DataFrame(data, index=index, columns=['Score'])"
   ]
  },
  {
   "cell_type": "code",
   "execution_count": 6,
   "id": "65474aac-f452-4469-9b5e-eaef1a780b9e",
   "metadata": {},
   "outputs": [],
   "source": [
    "class_subject_avg = df.groupby(\n",
    "    ['Class', 'Subject'])['Score'].mean()"
   ]
  },
  {
   "cell_type": "code",
   "execution_count": 8,
   "id": "72e9d455-febd-4f89-8ea1-8eaa79428f64",
   "metadata": {},
   "outputs": [],
   "source": [
    "class_student_avg = df.groupby(\n",
    "    ['Class', 'Student ID'])['Score'].mean()"
   ]
  },
  {
   "cell_type": "code",
   "execution_count": 9,
   "id": "c7d5bf1a-846b-4727-9e6c-de3bdedc5e33",
   "metadata": {},
   "outputs": [],
   "source": [
    "both_class_avg = df.groupby(\n",
    "    ['Subject'])['Score'].mean()"
   ]
  },
  {
   "cell_type": "code",
   "execution_count": 10,
   "id": "ed3e64b4-61b9-4864-8ed8-e55acf8bd9e5",
   "metadata": {},
   "outputs": [],
   "source": [
    "student_total_score = df.groupby(\n",
    "    ['Class', 'Student ID'])['Score'].sum().sort_values(ascending=False)"
   ]
  },
  {
   "cell_type": "code",
   "execution_count": 11,
   "id": "4a751a1e-4ed8-42dc-88b0-d762a40e6c04",
   "metadata": {},
   "outputs": [
    {
     "data": {
      "text/plain": [
       "Class  Student ID\n",
       "A      1             3.333333\n",
       "       2             4.333333\n",
       "       3             3.666667\n",
       "       4             3.666667\n",
       "B      1             4.666667\n",
       "       2             3.666667\n",
       "       3             3.666667\n",
       "       4             3.333333\n",
       "Name: Score, dtype: float64"
      ]
     },
     "execution_count": 11,
     "metadata": {},
     "output_type": "execute_result"
    }
   ],
   "source": [
    "class_student_avg"
   ]
  },
  {
   "cell_type": "code",
   "execution_count": 12,
   "id": "c871cb88-e7e2-41f6-af62-0426c8d87193",
   "metadata": {},
   "outputs": [
    {
     "data": {
      "text/plain": [
       "Class  Subject\n",
       "A      Art        3.25\n",
       "       Math       4.00\n",
       "       Science    4.00\n",
       "B      Art        3.75\n",
       "       Math       4.00\n",
       "       Science    3.75\n",
       "Name: Score, dtype: float64"
      ]
     },
     "execution_count": 12,
     "metadata": {},
     "output_type": "execute_result"
    }
   ],
   "source": [
    "class_subject_avg"
   ]
  },
  {
   "cell_type": "code",
   "execution_count": 13,
   "id": "2fdf237e-b9b7-4886-88ac-09d868ddbe8b",
   "metadata": {},
   "outputs": [
    {
     "data": {
      "text/plain": [
       "Class  Student ID\n",
       "B      1             14\n",
       "A      2             13\n",
       "       3             11\n",
       "       4             11\n",
       "B      2             11\n",
       "       3             11\n",
       "A      1             10\n",
       "B      4             10\n",
       "Name: Score, dtype: int32"
      ]
     },
     "execution_count": 13,
     "metadata": {},
     "output_type": "execute_result"
    }
   ],
   "source": [
    "student_total_score"
   ]
  },
  {
   "cell_type": "code",
   "execution_count": null,
   "id": "b76429f6-6139-4dfa-ac66-c58cd8e7d110",
   "metadata": {},
   "outputs": [],
   "source": []
  }
 ],
 "metadata": {
  "kernelspec": {
   "display_name": "Python 3 (ipykernel)",
   "language": "python",
   "name": "python3"
  },
  "language_info": {
   "codemirror_mode": {
    "name": "ipython",
    "version": 3
   },
   "file_extension": ".py",
   "mimetype": "text/x-python",
   "name": "python",
   "nbconvert_exporter": "python",
   "pygments_lexer": "ipython3",
   "version": "3.10.9"
  }
 },
 "nbformat": 4,
 "nbformat_minor": 5
}
