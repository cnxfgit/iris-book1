{
 "cells": [
  {
   "cell_type": "code",
   "execution_count": 1,
   "id": "bcc4e1bf-fd0d-4c42-91d1-7370b95b37e8",
   "metadata": {},
   "outputs": [],
   "source": [
    "import seaborn as sns\n",
    "import pandas as pd"
   ]
  },
  {
   "cell_type": "code",
   "execution_count": 2,
   "id": "7c66b267-c14a-4c61-a4b5-c876d7ae07d3",
   "metadata": {},
   "outputs": [],
   "source": [
    "iris_df = sns.load_dataset(\"iris\")"
   ]
  },
  {
   "cell_type": "code",
   "execution_count": 3,
   "id": "2549a04f-2e53-4202-b3b3-bdfad88c69fe",
   "metadata": {},
   "outputs": [],
   "source": [
    "def map_fnc(sepal_length):\n",
    "    if sepal_length < 5:\n",
    "        return 'D'\n",
    "    elif 5 <= sepal_length < 6:\n",
    "        return 'C'\n",
    "    elif 6 <= sepal_length < 7:\n",
    "        return 'B'\n",
    "    else:\n",
    "        return 'A'"
   ]
  },
  {
   "cell_type": "code",
   "execution_count": 4,
   "id": "7f466220-7c6a-4d89-847f-aff0e6bdf7bb",
   "metadata": {},
   "outputs": [],
   "source": [
    "iris_df['ctg'] = iris_df['sepal_length'].apply(map_fnc)"
   ]
  },
  {
   "cell_type": "code",
   "execution_count": 5,
   "id": "b0b7b294-fed4-4ae9-9b0b-fedde94ce875",
   "metadata": {},
   "outputs": [
    {
     "data": {
      "text/plain": [
       "0      C\n",
       "1      D\n",
       "2      D\n",
       "3      D\n",
       "4      C\n",
       "      ..\n",
       "145    B\n",
       "146    B\n",
       "147    B\n",
       "148    B\n",
       "149    C\n",
       "Name: ctg, Length: 150, dtype: object"
      ]
     },
     "execution_count": 5,
     "metadata": {},
     "output_type": "execute_result"
    }
   ],
   "source": [
    "iris_df['ctg']"
   ]
  },
  {
   "cell_type": "code",
   "execution_count": null,
   "id": "f246a190-1df8-4cf7-8b0a-7ffd149e3703",
   "metadata": {},
   "outputs": [],
   "source": []
  }
 ],
 "metadata": {
  "kernelspec": {
   "display_name": "Python 3 (ipykernel)",
   "language": "python",
   "name": "python3"
  },
  "language_info": {
   "codemirror_mode": {
    "name": "ipython",
    "version": 3
   },
   "file_extension": ".py",
   "mimetype": "text/x-python",
   "name": "python",
   "nbconvert_exporter": "python",
   "pygments_lexer": "ipython3",
   "version": "3.10.9"
  }
 },
 "nbformat": 4,
 "nbformat_minor": 5
}
