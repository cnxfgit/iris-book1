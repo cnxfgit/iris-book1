{
 "cells": [
  {
   "cell_type": "code",
   "execution_count": 1,
   "id": "7cab37e6-5177-4b55-980b-65e725ea115a",
   "metadata": {},
   "outputs": [],
   "source": [
    "import pandas as pd"
   ]
  },
  {
   "cell_type": "code",
   "execution_count": 2,
   "id": "55bf7485-7b5a-4301-b401-a5ceab37f1ff",
   "metadata": {},
   "outputs": [],
   "source": [
    "data = {\n",
    "    ('A', 'Art'): [4,3,5,4],\n",
    "    ('A', 'Math'): [3,4,5,3],\n",
    "    ('A', 'Science'): [5,4,3,4],\n",
    "    ('B', 'Art'): [3,4,5,4],\n",
    "    ('B', 'Math'): [4,5,3,3],\n",
    "    ('B', 'Science'): [5,3,4,5]}"
   ]
  },
  {
   "cell_type": "code",
   "execution_count": 3,
   "id": "98bb4d4b-6c3f-4bfb-9f1d-49d8c89939ba",
   "metadata": {},
   "outputs": [],
   "source": [
    "df = pd.DataFrame(data, index=[1,2,3,4])"
   ]
  },
  {
   "cell_type": "code",
   "execution_count": 4,
   "id": "85e0ee67-f7ce-4669-adf2-57d60201481d",
   "metadata": {},
   "outputs": [],
   "source": [
    "df.columns.names = ['Class', 'Subject']"
   ]
  },
  {
   "cell_type": "code",
   "execution_count": 5,
   "id": "4c6dad6c-fd57-40c2-be52-263dd023c43d",
   "metadata": {},
   "outputs": [],
   "source": [
    "df.index.names = ['Student ID']"
   ]
  },
  {
   "cell_type": "code",
   "execution_count": 6,
   "id": "d79ef1e7-487b-4b01-bbc8-f0b5196028e6",
   "metadata": {},
   "outputs": [
    {
     "name": "stderr",
     "output_type": "stream",
     "text": [
      "C:\\Users\\Administrator\\AppData\\Local\\Temp\\ipykernel_216164\\401644220.py:1: FutureWarning: The previous implementation of stack is deprecated and will be removed in a future version of pandas. See the What's New notes for pandas 2.1.0 for details. Specify future_stack=True to adopt the new implementation and silence this warning.\n",
      "  stacked_df = df.stack(level='Class')\n"
     ]
    }
   ],
   "source": [
    "stacked_df = df.stack(level='Class')"
   ]
  },
  {
   "cell_type": "code",
   "execution_count": null,
   "id": "3f87e943-e1c1-4067-8511-8442c1e5e82c",
   "metadata": {},
   "outputs": [],
   "source": []
  }
 ],
 "metadata": {
  "kernelspec": {
   "display_name": "Python 3 (ipykernel)",
   "language": "python",
   "name": "python3"
  },
  "language_info": {
   "codemirror_mode": {
    "name": "ipython",
    "version": 3
   },
   "file_extension": ".py",
   "mimetype": "text/x-python",
   "name": "python",
   "nbconvert_exporter": "python",
   "pygments_lexer": "ipython3",
   "version": "3.10.9"
  }
 },
 "nbformat": 4,
 "nbformat_minor": 5
}
