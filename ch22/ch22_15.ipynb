{
 "cells": [
  {
   "cell_type": "code",
   "execution_count": 1,
   "id": "be02c185-1510-444d-b90a-8bb60a1ac834",
   "metadata": {},
   "outputs": [],
   "source": [
    "import seaborn as sns\n",
    "import pandas as pd"
   ]
  },
  {
   "cell_type": "code",
   "execution_count": 2,
   "id": "020e434a-718b-45d8-a127-87c8a042386f",
   "metadata": {},
   "outputs": [],
   "source": [
    "iris_df = sns.load_dataset(\"iris\")"
   ]
  },
  {
   "cell_type": "code",
   "execution_count": 3,
   "id": "005701fd-650d-459f-93f7-4689b8e89d0b",
   "metadata": {},
   "outputs": [],
   "source": [
    "mean_X2_by_species = iris_df.groupby(\n",
    "    'species')['petal_width'].mean()"
   ]
  },
  {
   "cell_type": "code",
   "execution_count": 4,
   "id": "8100f943-4ab9-46e3-b2a8-7cea992fcbc6",
   "metadata": {},
   "outputs": [],
   "source": [
    "def map_petal_width(petal_width, species):\n",
    "    if petal_width > mean_X2_by_species[species]:\n",
    "        return \"YES\"\n",
    "    else:\n",
    "        return \"NO\""
   ]
  },
  {
   "cell_type": "code",
   "execution_count": 5,
   "id": "6ba69c57-8c0e-44d9-aec1-33c513c69e0f",
   "metadata": {},
   "outputs": [],
   "source": [
    "iris_df['greater_than_mean'] = iris_df.apply(\n",
    "    lambda row: map_petal_width(row['petal_width'], \n",
    "                               row['species']), axis=1)"
   ]
  },
  {
   "cell_type": "code",
   "execution_count": 6,
   "id": "e2c41c02-4c76-4c80-9e6c-5995113c3fd8",
   "metadata": {},
   "outputs": [
    {
     "data": {
      "text/plain": [
       "0       NO\n",
       "1       NO\n",
       "2       NO\n",
       "3       NO\n",
       "4       NO\n",
       "      ... \n",
       "145    YES\n",
       "146     NO\n",
       "147     NO\n",
       "148    YES\n",
       "149     NO\n",
       "Name: greater_than_mean, Length: 150, dtype: object"
      ]
     },
     "execution_count": 6,
     "metadata": {},
     "output_type": "execute_result"
    }
   ],
   "source": [
    "iris_df['greater_than_mean']"
   ]
  },
  {
   "cell_type": "code",
   "execution_count": null,
   "id": "295aae5e-354a-4dad-8756-13fd47ee5aef",
   "metadata": {},
   "outputs": [],
   "source": []
  }
 ],
 "metadata": {
  "kernelspec": {
   "display_name": "Python 3 (ipykernel)",
   "language": "python",
   "name": "python3"
  },
  "language_info": {
   "codemirror_mode": {
    "name": "ipython",
    "version": 3
   },
   "file_extension": ".py",
   "mimetype": "text/x-python",
   "name": "python",
   "nbconvert_exporter": "python",
   "pygments_lexer": "ipython3",
   "version": "3.10.9"
  }
 },
 "nbformat": 4,
 "nbformat_minor": 5
}
