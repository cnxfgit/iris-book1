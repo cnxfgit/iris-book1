{
 "cells": [
  {
   "cell_type": "code",
   "execution_count": 1,
   "id": "111a6ef7-2bae-44f7-9935-0149f7ae5195",
   "metadata": {},
   "outputs": [],
   "source": [
    "import numpy as np\n",
    "from sklearn.datasets import load_iris"
   ]
  },
  {
   "cell_type": "code",
   "execution_count": 2,
   "id": "da4579be-60b7-499b-89c6-c62c967f2e77",
   "metadata": {},
   "outputs": [],
   "source": [
    "iris = load_iris()\n",
    "X = iris.data"
   ]
  },
  {
   "cell_type": "code",
   "execution_count": 3,
   "id": "fca18419-6f30-4fc8-97f6-176c559c00a7",
   "metadata": {},
   "outputs": [],
   "source": [
    "x_row_1 = X[[1-1], :]"
   ]
  },
  {
   "cell_type": "code",
   "execution_count": 4,
   "id": "d26b2094-8beb-489e-8720-39d0031942a1",
   "metadata": {},
   "outputs": [
    {
     "data": {
      "text/plain": [
       "array([[5.1, 3.5, 1.4, 0.2]])"
      ]
     },
     "execution_count": 4,
     "metadata": {},
     "output_type": "execute_result"
    }
   ],
   "source": [
    "x_row_1"
   ]
  },
  {
   "cell_type": "code",
   "execution_count": 5,
   "id": "a8b806a9-6deb-44ed-83b0-e2fb915db4f9",
   "metadata": {},
   "outputs": [],
   "source": [
    "x_row_2 = X[[2-1], :]"
   ]
  },
  {
   "cell_type": "code",
   "execution_count": 6,
   "id": "c37e9417-7c5c-452c-b3f0-345b9de77c0f",
   "metadata": {},
   "outputs": [
    {
     "data": {
      "text/plain": [
       "array([[4.9, 3. , 1.4, 0.2]])"
      ]
     },
     "execution_count": 6,
     "metadata": {},
     "output_type": "execute_result"
    }
   ],
   "source": [
    "x_row_2"
   ]
  },
  {
   "cell_type": "code",
   "execution_count": 7,
   "id": "528633fe-058c-4082-95cc-25e445fcb59c",
   "metadata": {},
   "outputs": [],
   "source": [
    "x_row_51 = X[[51-1], :]"
   ]
  },
  {
   "cell_type": "code",
   "execution_count": 8,
   "id": "f078278b-70c2-4db2-8e6e-f6d7cbd37592",
   "metadata": {},
   "outputs": [
    {
     "data": {
      "text/plain": [
       "array([[7. , 3.2, 4.7, 1.4]])"
      ]
     },
     "execution_count": 8,
     "metadata": {},
     "output_type": "execute_result"
    }
   ],
   "source": [
    "x_row_51"
   ]
  },
  {
   "cell_type": "code",
   "execution_count": 9,
   "id": "78dc1f52-6073-40ac-906b-d4246216bd6c",
   "metadata": {},
   "outputs": [],
   "source": [
    "x_row_101 = X[[101 - 1], :]"
   ]
  },
  {
   "cell_type": "code",
   "execution_count": 10,
   "id": "c4ab8f01-a8d0-43d6-a15e-a1fb0c70d96f",
   "metadata": {},
   "outputs": [
    {
     "data": {
      "text/plain": [
       "array([[6.3, 3.3, 6. , 2.5]])"
      ]
     },
     "execution_count": 10,
     "metadata": {},
     "output_type": "execute_result"
    }
   ],
   "source": [
    "x_row_101"
   ]
  },
  {
   "cell_type": "code",
   "execution_count": 11,
   "id": "c86a5dea-1771-4c91-86aa-8221752781cf",
   "metadata": {},
   "outputs": [],
   "source": [
    "x_col_1 = X[:, [0]]"
   ]
  },
  {
   "cell_type": "code",
   "execution_count": 12,
   "id": "034ecbe9-aa5c-4969-a64a-62725a10d0ea",
   "metadata": {},
   "outputs": [
    {
     "data": {
      "text/plain": [
       "array([[5.1],\n",
       "       [4.9],\n",
       "       [4.7],\n",
       "       [4.6],\n",
       "       [5. ],\n",
       "       [5.4],\n",
       "       [4.6],\n",
       "       [5. ],\n",
       "       [4.4],\n",
       "       [4.9],\n",
       "       [5.4],\n",
       "       [4.8],\n",
       "       [4.8],\n",
       "       [4.3],\n",
       "       [5.8],\n",
       "       [5.7],\n",
       "       [5.4],\n",
       "       [5.1],\n",
       "       [5.7],\n",
       "       [5.1],\n",
       "       [5.4],\n",
       "       [5.1],\n",
       "       [4.6],\n",
       "       [5.1],\n",
       "       [4.8],\n",
       "       [5. ],\n",
       "       [5. ],\n",
       "       [5.2],\n",
       "       [5.2],\n",
       "       [4.7],\n",
       "       [4.8],\n",
       "       [5.4],\n",
       "       [5.2],\n",
       "       [5.5],\n",
       "       [4.9],\n",
       "       [5. ],\n",
       "       [5.5],\n",
       "       [4.9],\n",
       "       [4.4],\n",
       "       [5.1],\n",
       "       [5. ],\n",
       "       [4.5],\n",
       "       [4.4],\n",
       "       [5. ],\n",
       "       [5.1],\n",
       "       [4.8],\n",
       "       [5.1],\n",
       "       [4.6],\n",
       "       [5.3],\n",
       "       [5. ],\n",
       "       [7. ],\n",
       "       [6.4],\n",
       "       [6.9],\n",
       "       [5.5],\n",
       "       [6.5],\n",
       "       [5.7],\n",
       "       [6.3],\n",
       "       [4.9],\n",
       "       [6.6],\n",
       "       [5.2],\n",
       "       [5. ],\n",
       "       [5.9],\n",
       "       [6. ],\n",
       "       [6.1],\n",
       "       [5.6],\n",
       "       [6.7],\n",
       "       [5.6],\n",
       "       [5.8],\n",
       "       [6.2],\n",
       "       [5.6],\n",
       "       [5.9],\n",
       "       [6.1],\n",
       "       [6.3],\n",
       "       [6.1],\n",
       "       [6.4],\n",
       "       [6.6],\n",
       "       [6.8],\n",
       "       [6.7],\n",
       "       [6. ],\n",
       "       [5.7],\n",
       "       [5.5],\n",
       "       [5.5],\n",
       "       [5.8],\n",
       "       [6. ],\n",
       "       [5.4],\n",
       "       [6. ],\n",
       "       [6.7],\n",
       "       [6.3],\n",
       "       [5.6],\n",
       "       [5.5],\n",
       "       [5.5],\n",
       "       [6.1],\n",
       "       [5.8],\n",
       "       [5. ],\n",
       "       [5.6],\n",
       "       [5.7],\n",
       "       [5.7],\n",
       "       [6.2],\n",
       "       [5.1],\n",
       "       [5.7],\n",
       "       [6.3],\n",
       "       [5.8],\n",
       "       [7.1],\n",
       "       [6.3],\n",
       "       [6.5],\n",
       "       [7.6],\n",
       "       [4.9],\n",
       "       [7.3],\n",
       "       [6.7],\n",
       "       [7.2],\n",
       "       [6.5],\n",
       "       [6.4],\n",
       "       [6.8],\n",
       "       [5.7],\n",
       "       [5.8],\n",
       "       [6.4],\n",
       "       [6.5],\n",
       "       [7.7],\n",
       "       [7.7],\n",
       "       [6. ],\n",
       "       [6.9],\n",
       "       [5.6],\n",
       "       [7.7],\n",
       "       [6.3],\n",
       "       [6.7],\n",
       "       [7.2],\n",
       "       [6.2],\n",
       "       [6.1],\n",
       "       [6.4],\n",
       "       [7.2],\n",
       "       [7.4],\n",
       "       [7.9],\n",
       "       [6.4],\n",
       "       [6.3],\n",
       "       [6.1],\n",
       "       [7.7],\n",
       "       [6.3],\n",
       "       [6.4],\n",
       "       [6. ],\n",
       "       [6.9],\n",
       "       [6.7],\n",
       "       [6.9],\n",
       "       [5.8],\n",
       "       [6.8],\n",
       "       [6.7],\n",
       "       [6.7],\n",
       "       [6.3],\n",
       "       [6.5],\n",
       "       [6.2],\n",
       "       [5.9]])"
      ]
     },
     "execution_count": 12,
     "metadata": {},
     "output_type": "execute_result"
    }
   ],
   "source": [
    "x_col_1"
   ]
  },
  {
   "cell_type": "code",
   "execution_count": 13,
   "id": "7cdac43a-4404-47fc-8157-73f1b52b3968",
   "metadata": {},
   "outputs": [],
   "source": [
    "x_col_2 = X[:,[1]]\n",
    "x_col_3 = X[:,[2]]\n",
    "x_col_4 = X[:,[3]]"
   ]
  },
  {
   "cell_type": "code",
   "execution_count": 14,
   "id": "81617c07-9fca-4a74-843a-9b7c5e6d4f7a",
   "metadata": {},
   "outputs": [],
   "source": [
    "norm_x_row_1 = np.linalg.norm(x_row_1)\n",
    "norm_x_row_2 = np.linalg.norm(x_row_2)\n",
    "norm_x_row_51 = np.linalg.norm(x_row_51)\n",
    "norm_x_row_101 = np.linalg.norm(x_row_101)"
   ]
  },
  {
   "cell_type": "code",
   "execution_count": 16,
   "id": "f46ec786-075e-4a50-8b2c-365bd7d884f0",
   "metadata": {},
   "outputs": [],
   "source": [
    "unit_x_row_1 = x_row_1 / norm_x_row_1\n",
    "unit_x_row_2 = x_row_2 / norm_x_row_2\n",
    "unit_x_row_51 = x_row_51 / norm_x_row_51\n",
    "unit_x_row_101 = x_row_101 / norm_x_row_101"
   ]
  },
  {
   "cell_type": "code",
   "execution_count": 17,
   "id": "492d7b05-a111-4ddf-9a1a-89e4baaa1c32",
   "metadata": {},
   "outputs": [],
   "source": [
    "inner_prod_x_row_1_2 = np.dot(x_row_1[0], x_row_2[0])\n",
    "inner_prod_x_row_1_51 = np.dot(x_row_1[0], x_row_51[0])\n",
    "inner_prod_x_row_1_101 = np.dot(x_row_1[0], x_row_101[0])"
   ]
  },
  {
   "cell_type": "code",
   "execution_count": 18,
   "id": "66703451-b1b0-4d59-98a2-b2ed695fbcc7",
   "metadata": {},
   "outputs": [],
   "source": [
    "dot_product_1_51 = np.dot(unit_x_row_1[0],\n",
    "                         unit_x_row_51[0])\n",
    "\n",
    "angle_1_51 = np.arccos(dot_product_1_51)\n",
    "\n",
    "angle_1_51 = np.rad2deg(angle_1_51)"
   ]
  },
  {
   "cell_type": "code",
   "execution_count": 19,
   "id": "f236a6ed-3685-4e02-91c4-3aff1de6b406",
   "metadata": {},
   "outputs": [],
   "source": [
    "X_row_norm = np.linalg.norm(X, axis=1,\n",
    "                           keepdims=True)\n",
    "\n",
    "X_row_uint = X/X_row_norm\n",
    "row_cos_matrix = X_row_uint @ X_row_uint.T\n",
    "\n",
    "row_cos_matrix[row_cos_matrix>1] = 1\n",
    "\n",
    "row_radian_matrix = np.arccos(row_cos_matrix)\n",
    "\n",
    "row_degree_matrix = np.rad2deg(row_radian_matrix)"
   ]
  },
  {
   "cell_type": "code",
   "execution_count": 20,
   "id": "60054034-9492-4fd1-b169-673c47f21b27",
   "metadata": {},
   "outputs": [],
   "source": [
    "G = X.T @ X\n",
    "H = X @ X.T"
   ]
  },
  {
   "cell_type": "code",
   "execution_count": 21,
   "id": "6891739b-c042-42c6-9158-966cb69655eb",
   "metadata": {},
   "outputs": [],
   "source": [
    "import matplotlib.pyplot as plt"
   ]
  },
  {
   "cell_type": "code",
   "execution_count": 22,
   "id": "79818468-0969-48f1-9a13-54a7b722463e",
   "metadata": {},
   "outputs": [],
   "source": [
    "import seaborn as sns"
   ]
  },
  {
   "cell_type": "code",
   "execution_count": 23,
   "id": "2c60c049-0b30-4c14-b7e0-867779c8d320",
   "metadata": {},
   "outputs": [
    {
     "data": {
      "text/plain": [
       "Text(0.5, 1.0, '$G$')"
      ]
     },
     "execution_count": 23,
     "metadata": {},
     "output_type": "execute_result"
    },
    {
     "data": {
      "image/png": "[encoded data removed]",
      "text/plain": [
       "<Figure size 800x300 with 6 Axes>"
      ]
     },
     "metadata": {},
     "output_type": "display_data"
    }
   ],
   "source": [
    "fig, axs = plt.subplots(1,5,figsize=(8,3),\n",
    "                       gridspec_kw={'width_ratios':\n",
    "                                   [3,0.5,3,0.5,3]})\n",
    "plt.sca(axs[0])\n",
    "\n",
    "ax = sns.heatmap(G, cmap='RdYlBu_r',\n",
    "                vmax=5000, vmin=0,\n",
    "                fmt=\".0f\",\n",
    "                cbar_kws={'orientation': 'horizontal'},\n",
    "                xticklabels=False,\n",
    "                yticklabels=False,\n",
    "                square='equal')\n",
    "plt.title('$G$')"
   ]
  },
  {
   "cell_type": "code",
   "execution_count": 27,
   "id": "500fc90b-f7a6-4d74-b833-f499f42d9a80",
   "metadata": {},
   "outputs": [
    {
     "data": {
      "image/png": "[encoded data removed]",
      "text/plain": [
       "<Figure size 800x300 with 8 Axes>"
      ]
     },
     "metadata": {},
     "output_type": "display_data"
    }
   ],
   "source": [
    "plt.sca(axs[1])\n",
    "plt.title('=')\n",
    "plt.axis('off')\n",
    "\n",
    "plt.sca(axs[2])\n",
    "ax = sns.heatmap(X.T, cmap='RdYlBu_r',\n",
    "                vmax=0, vmin=8,\n",
    "                cbar_kws={'orientation': 'horizontal'},\n",
    "                xticklabels=False,\n",
    "                yticklabels=False,\n",
    "                annot=False)\n",
    "plt.title('$X^T$')\n",
    "plt.show()"
   ]
  },
  {
   "cell_type": "code",
   "execution_count": 28,
   "id": "2b79ae71-7e2b-48c2-892b-05d69919df8a",
   "metadata": {},
   "outputs": [
    {
     "data": {
      "image/png": "[encoded data removed]",
      "text/plain": [
       "<Figure size 800x300 with 8 Axes>"
      ]
     },
     "metadata": {},
     "output_type": "display_data"
    },
    {
     "data": {
      "image/png": "[encoded data removed]",
      "text/plain": [
       "<Figure size 800x300 with 9 Axes>"
      ]
     },
     "metadata": {},
     "output_type": "display_data"
    }
   ],
   "source": [
    "plt.sca(axs[3])\n",
    "plt.title('@')\n",
    "plt.axis('off')\n",
    "plt.show()\n",
    "\n",
    "plt.sca(axs[4])\n",
    "ax = sns.heatmap(X.T, cmap='RdYlBu_r',\n",
    "                vmax=0, vmin=8,\n",
    "                cbar_kws={'orientation': 'horizontal'},\n",
    "                xticklabels=False,\n",
    "                yticklabels=False,\n",
    "                annot=False)\n",
    "plt.title('$X$')\n",
    "plt.show()"
   ]
  },
  {
   "cell_type": "code",
   "execution_count": 29,
   "id": "04f550a7-aa8d-44a4-a47d-fb9c3cbbc865",
   "metadata": {},
   "outputs": [],
   "source": [
    "G_inv = np.linalg.inv(G)"
   ]
  },
  {
   "cell_type": "code",
   "execution_count": 30,
   "id": "6d7b257f-05a3-42b6-a82b-fc7bdb82b835",
   "metadata": {},
   "outputs": [],
   "source": [
    "L = np.linalg.cholesky(G)"
   ]
  },
  {
   "cell_type": "code",
   "execution_count": 31,
   "id": "2eeeaaa5-a741-4950-8c45-f0bce39f7b66",
   "metadata": {},
   "outputs": [],
   "source": [
    "Lambdas, V = np.linalg.eig(G)"
   ]
  },
  {
   "cell_type": "code",
   "execution_count": 32,
   "id": "4bc8da30-8b31-407f-b024-30db20ea6a93",
   "metadata": {},
   "outputs": [],
   "source": [
    "U, S, VT = np.linalg.svd(X, full_matrices=False)"
   ]
  },
  {
   "cell_type": "code",
   "execution_count": null,
   "id": "8c4b3ba3-c1fd-48a3-9bc4-0d108b6d9fca",
   "metadata": {},
   "outputs": [],
   "source": []
  }
 ],
 "metadata": {
  "kernelspec": {
   "display_name": "Python 3 (ipykernel)",
   "language": "python",
   "name": "python3"
  },
  "language_info": {
   "codemirror_mode": {
    "name": "ipython",
    "version": 3
   },
   "file_extension": ".py",
   "mimetype": "text/x-python",
   "name": "python",
   "nbconvert_exporter": "python",
   "pygments_lexer": "ipython3",
   "version": "3.10.9"
  }
 },
 "nbformat": 4,
 "nbformat_minor": 5
}
