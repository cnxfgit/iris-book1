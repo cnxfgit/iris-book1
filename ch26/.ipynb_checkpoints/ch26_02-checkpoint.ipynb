{
 "cells": [
  {
   "cell_type": "code",
   "execution_count": 1,
   "id": "2ca6cd71-840a-4be3-b44b-bcfa59faa574",
   "metadata": {},
   "outputs": [],
   "source": [
    "import matplotlib.pyplot as plt\n",
    "import numpy as np\n",
    "import seaborn as sns\n",
    "import string\n",
    "from scipy.spatial import distance_matrix"
   ]
  },
  {
   "cell_type": "code",
   "execution_count": 2,
   "id": "5d486f1c-9b37-4dd0-acf3-3211a6830213",
   "metadata": {},
   "outputs": [],
   "source": [
    "num = 26"
   ]
  },
  {
   "cell_type": "code",
   "execution_count": 3,
   "id": "2157c760-b60d-437f-bcd4-8f85dd14d3d6",
   "metadata": {},
   "outputs": [],
   "source": [
    "np.random.seed(0)"
   ]
  },
  {
   "cell_type": "code",
   "execution_count": 5,
   "id": "c01f1127-bed0-45e8-88b0-d539b8b5f8ee",
   "metadata": {},
   "outputs": [],
   "source": [
    "data = np.random.randint(10 + 1, size=(num, 2))\n",
    "labels = list(string.ascii_uppercase)"
   ]
  },
  {
   "cell_type": "raw",
   "id": "3a191432-3615-4219-8fd0-1135b6cd3b21",
   "metadata": {},
   "source": [
    "pairwise_ds = distance_matrix(data, data)"
   ]
  },
  {
   "cell_type": "code",
   "execution_count": null,
   "id": "1e96d8aa-5570-4b6e-a1ac-7aeb1976041e",
   "metadata": {},
   "outputs": [],
   "source": []
  }
 ],
 "metadata": {
  "kernelspec": {
   "display_name": "Python 3 (ipykernel)",
   "language": "python",
   "name": "python3"
  },
  "language_info": {
   "codemirror_mode": {
    "name": "ipython",
    "version": 3
   },
   "file_extension": ".py",
   "mimetype": "text/x-python",
   "name": "python",
   "nbconvert_exporter": "python",
   "pygments_lexer": "ipython3",
   "version": "3.10.9"
  }
 },
 "nbformat": 4,
 "nbformat_minor": 5
}
