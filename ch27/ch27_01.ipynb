{
 "cells": [
  {
   "cell_type": "code",
   "execution_count": 1,
   "id": "6e987b80-40e9-4059-8922-83c0d3315387",
   "metadata": {},
   "outputs": [],
   "source": [
    "import matplotlib.pyplot as plt\n",
    "import numpy as np\n",
    "import seaborn as sns\n",
    "from statsmodels.graphics.plot_grids import scatter_ellipse"
   ]
  },
  {
   "cell_type": "code",
   "execution_count": 2,
   "id": "cc8c851b-eb18-466f-9abd-5e64222dc8c7",
   "metadata": {},
   "outputs": [],
   "source": [
    "data_raw = sns.load_dataset(\"iris\")\n",
    "labels = ['Sepal length', 'Sepal width',\n",
    "         'Petal length', 'Petal width']"
   ]
  },
  {
   "cell_type": "code",
   "execution_count": 4,
   "id": "56c1258c-e9f2-4e88-8eef-50dd919a5377",
   "metadata": {},
   "outputs": [
    {
     "ename": "TypeError",
     "evalue": "Ellipse.__init__() takes 4 positional arguments but 5 were given",
     "output_type": "error",
     "traceback": [
      "\u001b[1;31m---------------------------------------------------------------------------\u001b[0m",
      "\u001b[1;31mTypeError\u001b[0m                                 Traceback (most recent call last)",
      "Cell \u001b[1;32mIn[4], line 2\u001b[0m\n\u001b[0;32m      1\u001b[0m fig \u001b[38;5;241m=\u001b[39m plt\u001b[38;5;241m.\u001b[39mfigure(figsize\u001b[38;5;241m=\u001b[39m(\u001b[38;5;241m8\u001b[39m,\u001b[38;5;241m8\u001b[39m))\n\u001b[1;32m----> 2\u001b[0m \u001b[43mscatter_ellipse\u001b[49m\u001b[43m(\u001b[49m\u001b[43mdata_raw\u001b[49m\u001b[38;5;241;43m.\u001b[39;49m\u001b[43miloc\u001b[49m\u001b[43m[\u001b[49m\u001b[43m:\u001b[49m\u001b[43m,\u001b[49m\u001b[43m:\u001b[49m\u001b[38;5;241;43m-\u001b[39;49m\u001b[38;5;241;43m1\u001b[39;49m\u001b[43m]\u001b[49m\u001b[43m,\u001b[49m\n\u001b[0;32m      3\u001b[0m \u001b[43m               \u001b[49m\u001b[43mvarnames\u001b[49m\u001b[38;5;241;43m=\u001b[39;49m\u001b[43mlabels\u001b[49m\u001b[43m,\u001b[49m\u001b[43m \u001b[49m\u001b[43mfig\u001b[49m\u001b[38;5;241;43m=\u001b[39;49m\u001b[43mfig\u001b[49m\u001b[43m)\u001b[49m\n\u001b[0;32m      5\u001b[0m fig\u001b[38;5;241m.\u001b[39msavefig(\u001b[38;5;124m'\u001b[39m\u001b[38;5;124m散点+椭圆.svg\u001b[39m\u001b[38;5;124m'\u001b[39m, \u001b[38;5;28mformat\u001b[39m\u001b[38;5;241m=\u001b[39m\u001b[38;5;124m'\u001b[39m\u001b[38;5;124msvg\u001b[39m\u001b[38;5;124m'\u001b[39m)\n\u001b[0;32m      7\u001b[0m \u001b[38;5;28;01mfor\u001b[39;00m s_idx \u001b[38;5;129;01min\u001b[39;00m data_raw\u001b[38;5;241m.\u001b[39mspecies\u001b[38;5;241m.\u001b[39munique():\n",
      "File \u001b[1;32m~\\CLionProjects\\iris-book1\\venv\\lib\\site-packages\\statsmodels\\graphics\\plot_grids.py:133\u001b[0m, in \u001b[0;36mscatter_ellipse\u001b[1;34m(data, level, varnames, ell_kwds, plot_kwds, add_titles, keep_ticks, fig)\u001b[0m\n\u001b[0;32m    131\u001b[0m     level \u001b[38;5;241m=\u001b[39m [level]\n\u001b[0;32m    132\u001b[0m \u001b[38;5;28;01mfor\u001b[39;00m alpha \u001b[38;5;129;01min\u001b[39;00m level:\n\u001b[1;32m--> 133\u001b[0m     _make_ellipse(dmean[idx], dcov[idx[:,\u001b[38;5;28;01mNone\u001b[39;00m], idx], ax, level\u001b[38;5;241m=\u001b[39malpha,\n\u001b[0;32m    134\u001b[0m              \u001b[38;5;241m*\u001b[39m\u001b[38;5;241m*\u001b[39mell_kwds_)\n\u001b[0;32m    136\u001b[0m \u001b[38;5;28;01mif\u001b[39;00m add_titles:\n\u001b[0;32m    137\u001b[0m     ax\u001b[38;5;241m.\u001b[39mset_title(\u001b[38;5;124m'\u001b[39m\u001b[38;5;132;01m%s\u001b[39;00m\u001b[38;5;124m-\u001b[39m\u001b[38;5;132;01m%s\u001b[39;00m\u001b[38;5;124m'\u001b[39m \u001b[38;5;241m%\u001b[39m (varnames[i], varnames[j]))\n",
      "File \u001b[1;32m~\\CLionProjects\\iris-book1\\venv\\lib\\site-packages\\statsmodels\\graphics\\plot_grids.py:31\u001b[0m, in \u001b[0;36m_make_ellipse\u001b[1;34m(mean, cov, ax, level, color)\u001b[0m\n\u001b[0;32m     29\u001b[0m angle \u001b[38;5;241m=\u001b[39m \u001b[38;5;241m180\u001b[39m \u001b[38;5;241m*\u001b[39m angle \u001b[38;5;241m/\u001b[39m np\u001b[38;5;241m.\u001b[39mpi \u001b[38;5;66;03m# convert to degrees\u001b[39;00m\n\u001b[0;32m     30\u001b[0m v \u001b[38;5;241m=\u001b[39m \u001b[38;5;241m2\u001b[39m \u001b[38;5;241m*\u001b[39m np\u001b[38;5;241m.\u001b[39msqrt(v \u001b[38;5;241m*\u001b[39m stats\u001b[38;5;241m.\u001b[39mchi2\u001b[38;5;241m.\u001b[39mppf(level, \u001b[38;5;241m2\u001b[39m)) \u001b[38;5;66;03m#get size corresponding to level\u001b[39;00m\n\u001b[1;32m---> 31\u001b[0m ell \u001b[38;5;241m=\u001b[39m \u001b[43mEllipse\u001b[49m\u001b[43m(\u001b[49m\u001b[43mmean\u001b[49m\u001b[43m[\u001b[49m\u001b[43m:\u001b[49m\u001b[38;5;241;43m2\u001b[39;49m\u001b[43m]\u001b[49m\u001b[43m,\u001b[49m\u001b[43m \u001b[49m\u001b[43mv\u001b[49m\u001b[43m[\u001b[49m\u001b[38;5;241;43m0\u001b[39;49m\u001b[43m]\u001b[49m\u001b[43m,\u001b[49m\u001b[43m \u001b[49m\u001b[43mv\u001b[49m\u001b[43m[\u001b[49m\u001b[38;5;241;43m1\u001b[39;49m\u001b[43m]\u001b[49m\u001b[43m,\u001b[49m\u001b[43m \u001b[49m\u001b[38;5;241;43m180\u001b[39;49m\u001b[43m \u001b[49m\u001b[38;5;241;43m+\u001b[39;49m\u001b[43m \u001b[49m\u001b[43mangle\u001b[49m\u001b[43m,\u001b[49m\u001b[43m \u001b[49m\u001b[43mfacecolor\u001b[49m\u001b[38;5;241;43m=\u001b[39;49m\u001b[38;5;124;43m'\u001b[39;49m\u001b[38;5;124;43mnone\u001b[39;49m\u001b[38;5;124;43m'\u001b[39;49m\u001b[43m,\u001b[49m\n\u001b[0;32m     32\u001b[0m \u001b[43m              \u001b[49m\u001b[43medgecolor\u001b[49m\u001b[38;5;241;43m=\u001b[39;49m\u001b[43mcolor\u001b[49m\u001b[43m,\u001b[49m\n\u001b[0;32m     33\u001b[0m \u001b[43m              \u001b[49m\u001b[38;5;66;43;03m#ls='dashed',  #for debugging\u001b[39;49;00m\n\u001b[0;32m     34\u001b[0m \u001b[43m              \u001b[49m\u001b[43mlw\u001b[49m\u001b[38;5;241;43m=\u001b[39;49m\u001b[38;5;241;43m1.5\u001b[39;49m\u001b[43m)\u001b[49m\n\u001b[0;32m     35\u001b[0m ell\u001b[38;5;241m.\u001b[39mset_clip_box(ax\u001b[38;5;241m.\u001b[39mbbox)\n\u001b[0;32m     36\u001b[0m ell\u001b[38;5;241m.\u001b[39mset_alpha(\u001b[38;5;241m0.5\u001b[39m)\n",
      "\u001b[1;31mTypeError\u001b[0m: Ellipse.__init__() takes 4 positional arguments but 5 were given"
     ]
    },
    {
     "data": {
      "image/png": "[encoded data removed]",
      "text/plain": [
       "<Figure size 800x800 with 1 Axes>"
      ]
     },
     "metadata": {},
     "output_type": "display_data"
    }
   ],
   "source": [
    "fig = plt.figure(figsize=(8,8))\n",
    "scatter_ellipse(data_raw.iloc[:,:-1],\n",
    "               varnames=labels, fig=fig)\n",
    "\n",
    "fig.savefig('散点+椭圆.svg', format='svg')\n",
    "\n",
    "for s_idx in data_raw.species.unique():\n",
    "    data = data_raw.loc[data_raw.species == s_idx].iloc[:,:-1]\n",
    "    fig = plt.figure(figsize=(8,8))\n",
    "    scatter_ellipse(data, varnames=labels, fig=fig)\n",
    "    fig.savefig('散点+椭圆 ' + s_idx + '.svg', format='svg')"
   ]
  },
  {
   "cell_type": "code",
   "execution_count": null,
   "id": "db1921a5-9d0c-47af-8044-09a4269309d3",
   "metadata": {},
   "outputs": [],
   "source": []
  }
 ],
 "metadata": {
  "kernelspec": {
   "display_name": "Python 3 (ipykernel)",
   "language": "python",
   "name": "python3"
  },
  "language_info": {
   "codemirror_mode": {
    "name": "ipython",
    "version": 3
   },
   "file_extension": ".py",
   "mimetype": "text/x-python",
   "name": "python",
   "nbconvert_exporter": "python",
   "pygments_lexer": "ipython3",
   "version": "3.10.9"
  }
 },
 "nbformat": 4,
 "nbformat_minor": 5
}
