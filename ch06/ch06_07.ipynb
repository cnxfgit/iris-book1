{
 "cells": [
  {
   "cell_type": "code",
   "execution_count": 1,
   "id": "bdd3dff0-3877-452d-957c-9e1e83b1a990",
   "metadata": {},
   "outputs": [],
   "source": [
    "import copy"
   ]
  },
  {
   "cell_type": "code",
   "execution_count": 2,
   "id": "ae5f7782-12e9-4d33-b1b5-2697d11d56d1",
   "metadata": {},
   "outputs": [],
   "source": [
    "a = [1,2,3]\n",
    "b = a\n",
    "c = [1,2,3]\n",
    "d = a.copy()"
   ]
  },
  {
   "cell_type": "code",
   "execution_count": 3,
   "id": "006e3d8d-6213-4443-a17e-7ff5dc8ed6c3",
   "metadata": {},
   "outputs": [
    {
     "name": "stdout",
     "output_type": "stream",
     "text": [
      "True\n"
     ]
    }
   ],
   "source": [
    "print(a is b)"
   ]
  },
  {
   "cell_type": "code",
   "execution_count": 4,
   "id": "44f761b8-1a78-441b-9368-1445f111bc43",
   "metadata": {},
   "outputs": [
    {
     "name": "stdout",
     "output_type": "stream",
     "text": [
      "True\n"
     ]
    }
   ],
   "source": [
    "print(a is not c)"
   ]
  },
  {
   "cell_type": "code",
   "execution_count": 5,
   "id": "5db77773-011a-49a6-bc4a-b11d60f85b37",
   "metadata": {},
   "outputs": [
    {
     "name": "stdout",
     "output_type": "stream",
     "text": [
      "True\n"
     ]
    }
   ],
   "source": [
    "print(a == c)"
   ]
  },
  {
   "cell_type": "code",
   "execution_count": 6,
   "id": "58f2d6be-5d98-415d-bbdf-b1e00e3a0803",
   "metadata": {},
   "outputs": [
    {
     "name": "stdout",
     "output_type": "stream",
     "text": [
      "True\n"
     ]
    }
   ],
   "source": [
    "print(a is not d)"
   ]
  },
  {
   "cell_type": "code",
   "execution_count": 7,
   "id": "9457559d-f211-4083-9769-dfa230b4c019",
   "metadata": {},
   "outputs": [
    {
     "name": "stdout",
     "output_type": "stream",
     "text": [
      "True\n"
     ]
    }
   ],
   "source": [
    "print(a == d)"
   ]
  },
  {
   "cell_type": "code",
   "execution_count": 8,
   "id": "feef950b-e313-4cd4-9250-d4ef89b0efd1",
   "metadata": {},
   "outputs": [],
   "source": [
    "a_2_layers = [1,2,[3,4]]\n",
    "d_2_layers = a_2_layers.copy()\n",
    "e_2_layers = copy.deepcopy(a_2_layers)"
   ]
  },
  {
   "cell_type": "code",
   "execution_count": 9,
   "id": "3f04f798-7a8a-4cd0-b35d-3a85d646aa59",
   "metadata": {},
   "outputs": [
    {
     "name": "stdout",
     "output_type": "stream",
     "text": [
      "False\n",
      "True\n"
     ]
    }
   ],
   "source": [
    "print(a_2_layers is d_2_layers)\n",
    "print(a_2_layers[2] is d_2_layers[2])"
   ]
  },
  {
   "cell_type": "code",
   "execution_count": 10,
   "id": "41ea132e-a2e2-43d9-9be9-311697d3add5",
   "metadata": {},
   "outputs": [
    {
     "name": "stdout",
     "output_type": "stream",
     "text": [
      "False\n",
      "False\n"
     ]
    }
   ],
   "source": [
    "print(a_2_layers is e_2_layers)\n",
    "print(a_2_layers[2] is e_2_layers[2])"
   ]
  },
  {
   "cell_type": "code",
   "execution_count": null,
   "id": "a7e39091-5e52-4ebe-acaf-aa4eb7cf8aed",
   "metadata": {},
   "outputs": [],
   "source": []
  }
 ],
 "metadata": {
  "kernelspec": {
   "display_name": "Python 3 (ipykernel)",
   "language": "python",
   "name": "python3"
  },
  "language_info": {
   "codemirror_mode": {
    "name": "ipython",
    "version": 3
   },
   "file_extension": ".py",
   "mimetype": "text/x-python",
   "name": "python",
   "nbconvert_exporter": "python",
   "pygments_lexer": "ipython3",
   "version": "3.10.9"
  }
 },
 "nbformat": 4,
 "nbformat_minor": 5
}
