{
 "cells": [
  {
   "cell_type": "code",
   "execution_count": 1,
   "id": "ff394b18-5ec4-407b-b8da-1dc1033efd2b",
   "metadata": {},
   "outputs": [],
   "source": [
    "x = 5\n",
    "y = 3"
   ]
  },
  {
   "cell_type": "code",
   "execution_count": 2,
   "id": "f44d9626-b157-4e66-8531-16e5ea051ef4",
   "metadata": {},
   "outputs": [
    {
     "name": "stdout",
     "output_type": "stream",
     "text": [
      "False\n",
      "True\n",
      "True\n",
      "False\n",
      "False\n"
     ]
    }
   ],
   "source": [
    "print(x == y)\n",
    "print(x == 5)\n",
    "print(x != y)\n",
    "print(x != 5)\n",
    "print(x != 5.0)"
   ]
  },
  {
   "cell_type": "code",
   "execution_count": 3,
   "id": "574d677e-1b3e-415f-b23a-d5d192191819",
   "metadata": {},
   "outputs": [
    {
     "name": "stdout",
     "output_type": "stream",
     "text": [
      "True\n",
      "False\n",
      "True\n",
      "True\n"
     ]
    }
   ],
   "source": [
    "print(x > y)\n",
    "print(x > 10)\n",
    "print(x >= y)\n",
    "print(x >= 5)"
   ]
  },
  {
   "cell_type": "code",
   "execution_count": 4,
   "id": "c6fb3ca3-ef1c-4447-b104-12e5dd2ee50d",
   "metadata": {},
   "outputs": [
    {
     "name": "stdout",
     "output_type": "stream",
     "text": [
      "False\n",
      "True\n",
      "False\n",
      "True\n"
     ]
    }
   ],
   "source": [
    "print(x < y)\n",
    "print(x < 10)\n",
    "print(x <= y)\n",
    "print(x <= 5)"
   ]
  }
 ],
 "metadata": {
  "kernelspec": {
   "display_name": "Python 3 (ipykernel)",
   "language": "python",
   "name": "python3"
  },
  "language_info": {
   "codemirror_mode": {
    "name": "ipython",
    "version": 3
   },
   "file_extension": ".py",
   "mimetype": "text/x-python",
   "name": "python",
   "nbconvert_exporter": "python",
   "pygments_lexer": "ipython3",
   "version": "3.10.9"
  }
 },
 "nbformat": 4,
 "nbformat_minor": 5
}
