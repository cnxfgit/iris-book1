{
 "cells": [
  {
   "cell_type": "code",
   "execution_count": 1,
   "id": "f494e6ea-1bec-4aa1-b2af-210e39175cbb",
   "metadata": {},
   "outputs": [],
   "source": [
    "from matplotlib.patches import Ellipse"
   ]
  },
  {
   "cell_type": "code",
   "execution_count": 5,
   "id": "d43fe6fb-6de5-430c-96ef-3909e37dd7bd",
   "metadata": {},
   "outputs": [],
   "source": [
    "def make_ellipses(gmm, ax):\n",
    "    # 可视化不同簇\n",
    "    for j in range(0,K):\n",
    "        # 四种不同的协方差矩阵\n",
    "        if gmm.covariance_type == 'full':\n",
    "            covariances = gmm.covariances_[j]\n",
    "        elif gmm.covariance_type == 'tied':\n",
    "            covariances = gmm.covariances_\n",
    "        elif gmm.covariance_type == 'diag':\n",
    "            covariances = np.diag(gmm.covariances_[j])\n",
    "        elif gmm.covariance_type == 'spherical':\n",
    "            covariances = np.eye(gmm.means_.shape[1])\n",
    "            covariances = covariances*gmm.covariances_[j]\n",
    "        \n",
    "        # 用奇异值分解完成特征值分解\n",
    "        U, S, V_T = np.linalg.svd(covariances)\n",
    "        # 计算长轴、短轴长度\n",
    "        major, minor = 2 * np.sqrt(S)\n",
    "        \n",
    "        # 计算椭圆长轴旋转角度\n",
    "        angle = np.arctan2(U[1,0], U[0,0])\n",
    "        angle = 180 * angle / np.pi \n",
    "        \n",
    "        # 多元高斯分布中心\n",
    "        ax.plot(gmm.means_[j, 0],gmm.means_[j, 1],\n",
    "        color = 'k',marker = 'x',markersize = 10)\n",
    "        # 绘制半长轴向量\n",
    "        ax.quiver(gmm.means_[j,0],gmm.means_[j,1],\n",
    "        U[0,0], U[1,0], scale = 5/minor)\n",
    "        # 绘制半短轴向量\n",
    "        ax.quiver(gmm.means_[j,0],gmm.means_[j,1],\n",
    "        U[0,1], U[1,1], scale = 5/major)\n",
    "    \n",
    "        # 绘制椭圆\n",
    "        for scale in np.array([3, 2, 1]):\n",
    "            ell = Ellipse(gmm.means_[j, :2],\n",
    "            scale*minor, scale*major, angle,color=rgb[j,:],\n",
    "                          alpha = 0.18)\n",
    "            ax.add_artist(ell)\n",
    "    "
   ]
  },
  {
   "cell_type": "code",
   "execution_count": 6,
   "id": "62123435-e755-44f4-862a-db079b06de66",
   "metadata": {},
   "outputs": [],
   "source": [
    "import matplotlib.pyplot as plt\n",
    "from matplotlib.colors import ListedColormap\n",
    "import numpy as np\n",
    "from sklearn import datasets\n",
    "from sklearn.mixture import GaussianMixture"
   ]
  },
  {
   "cell_type": "code",
   "execution_count": 7,
   "id": "4cf57eb0-4f7b-491c-96f8-0db71f528029",
   "metadata": {},
   "outputs": [],
   "source": [
    "# 创建色谱\n",
    "rgb = [[255, 51, 0],\n",
    " [0, 153, 255],\n",
    " [138,138,138]]\n",
    "rgb = np.array(rgb)/255.\n",
    "cmap_bold = ListedColormap(rgb)\n"
   ]
  },
  {
   "cell_type": "code",
   "execution_count": 8,
   "id": "3d2716bd-ee72-4065-84fc-66c10decef8c",
   "metadata": {},
   "outputs": [],
   "source": [
    "# 生成网格化数据\n",
    "x1_array = np.linspace(4,8,101)\n",
    "x2_array = np.linspace(1,5,101)\n",
    "xx1, xx2 = np.meshgrid(x1_array,x2_array)\n",
    "# 鸢尾花数据\n",
    "iris = datasets.load_iris(); X = iris.data[:, :2]"
   ]
  },
  {
   "cell_type": "code",
   "execution_count": 11,
   "id": "096aed71-6325-4527-acb5-7dd16c4c42f9",
   "metadata": {},
   "outputs": [],
   "source": [
    "# 协方差类型\n",
    "covariance_types = ['tied', 'spherical', 'diag', 'full']\n",
    "K=3"
   ]
  },
  {
   "cell_type": "code",
   "execution_count": 12,
   "id": "d90495d4-d755-405b-8dcc-8917d7bcb445",
   "metadata": {},
   "outputs": [
    {
     "ename": "TypeError",
     "evalue": "Ellipse.__init__() takes 4 positional arguments but 5 were given",
     "output_type": "error",
     "traceback": [
      "\u001b[1;31m---------------------------------------------------------------------------\u001b[0m",
      "\u001b[1;31mTypeError\u001b[0m                                 Traceback (most recent call last)",
      "Cell \u001b[1;32mIn[12], line 14\u001b[0m\n\u001b[0;32m     10\u001b[0m ax \u001b[38;5;241m=\u001b[39m fig\u001b[38;5;241m.\u001b[39madd_subplot(\u001b[38;5;241m1\u001b[39m,\u001b[38;5;241m2\u001b[39m,\u001b[38;5;241m1\u001b[39m)\n\u001b[0;32m     11\u001b[0m ax\u001b[38;5;241m.\u001b[39mscatter(x\u001b[38;5;241m=\u001b[39mX[:, \u001b[38;5;241m0\u001b[39m], y\u001b[38;5;241m=\u001b[39mX[:, \u001b[38;5;241m1\u001b[39m],\n\u001b[0;32m     12\u001b[0m color\u001b[38;5;241m=\u001b[39mnp\u001b[38;5;241m.\u001b[39marray([\u001b[38;5;241m0\u001b[39m, \u001b[38;5;241m68\u001b[39m, \u001b[38;5;241m138\u001b[39m])\u001b[38;5;241m/\u001b[39m\u001b[38;5;241m255.\u001b[39m,\n\u001b[0;32m     13\u001b[0m alpha\u001b[38;5;241m=\u001b[39m\u001b[38;5;241m1.0\u001b[39m,linewidth \u001b[38;5;241m=\u001b[39m \u001b[38;5;241m1\u001b[39m, edgecolor\u001b[38;5;241m=\u001b[39m[\u001b[38;5;241m1\u001b[39m,\u001b[38;5;241m1\u001b[39m,\u001b[38;5;241m1\u001b[39m])\n\u001b[1;32m---> 14\u001b[0m \u001b[43mmake_ellipses\u001b[49m\u001b[43m(\u001b[49m\u001b[43mgmm\u001b[49m\u001b[43m,\u001b[49m\u001b[43m \u001b[49m\u001b[43max\u001b[49m\u001b[43m)\u001b[49m\n\u001b[0;32m     15\u001b[0m ax\u001b[38;5;241m.\u001b[39mset_xlim(\u001b[38;5;241m4\u001b[39m, \u001b[38;5;241m8\u001b[39m); ax\u001b[38;5;241m.\u001b[39mset_ylim(\u001b[38;5;241m1\u001b[39m, \u001b[38;5;241m5\u001b[39m)\n\u001b[0;32m     16\u001b[0m ax\u001b[38;5;241m.\u001b[39mset_xlabel(iris\u001b[38;5;241m.\u001b[39mfeature_names[\u001b[38;5;241m0\u001b[39m])\n",
      "Cell \u001b[1;32mIn[5], line 36\u001b[0m, in \u001b[0;36mmake_ellipses\u001b[1;34m(gmm, ax)\u001b[0m\n\u001b[0;32m     34\u001b[0m \u001b[38;5;66;03m# 绘制椭圆\u001b[39;00m\n\u001b[0;32m     35\u001b[0m \u001b[38;5;28;01mfor\u001b[39;00m scale \u001b[38;5;129;01min\u001b[39;00m np\u001b[38;5;241m.\u001b[39marray([\u001b[38;5;241m3\u001b[39m, \u001b[38;5;241m2\u001b[39m, \u001b[38;5;241m1\u001b[39m]):\n\u001b[1;32m---> 36\u001b[0m     ell \u001b[38;5;241m=\u001b[39m \u001b[43mEllipse\u001b[49m\u001b[43m(\u001b[49m\u001b[43mgmm\u001b[49m\u001b[38;5;241;43m.\u001b[39;49m\u001b[43mmeans_\u001b[49m\u001b[43m[\u001b[49m\u001b[43mj\u001b[49m\u001b[43m,\u001b[49m\u001b[43m \u001b[49m\u001b[43m:\u001b[49m\u001b[38;5;241;43m2\u001b[39;49m\u001b[43m]\u001b[49m\u001b[43m,\u001b[49m\n\u001b[0;32m     37\u001b[0m \u001b[43m    \u001b[49m\u001b[43mscale\u001b[49m\u001b[38;5;241;43m*\u001b[39;49m\u001b[43mminor\u001b[49m\u001b[43m,\u001b[49m\u001b[43m \u001b[49m\u001b[43mscale\u001b[49m\u001b[38;5;241;43m*\u001b[39;49m\u001b[43mmajor\u001b[49m\u001b[43m,\u001b[49m\u001b[43m \u001b[49m\u001b[43mangle\u001b[49m\u001b[43m,\u001b[49m\u001b[43mcolor\u001b[49m\u001b[38;5;241;43m=\u001b[39;49m\u001b[43mrgb\u001b[49m\u001b[43m[\u001b[49m\u001b[43mj\u001b[49m\u001b[43m,\u001b[49m\u001b[43m:\u001b[49m\u001b[43m]\u001b[49m\u001b[43m,\u001b[49m\n\u001b[0;32m     38\u001b[0m \u001b[43m                  \u001b[49m\u001b[43malpha\u001b[49m\u001b[43m \u001b[49m\u001b[38;5;241;43m=\u001b[39;49m\u001b[43m \u001b[49m\u001b[38;5;241;43m0.18\u001b[39;49m\u001b[43m)\u001b[49m\n\u001b[0;32m     39\u001b[0m     ax\u001b[38;5;241m.\u001b[39madd_artist(ell)\n",
      "\u001b[1;31mTypeError\u001b[0m: Ellipse.__init__() takes 4 positional arguments but 5 were given"
     ]
    },
    {
     "data": {
      "image/png": "[encoded data removed]",
      "text/plain": [
       "<Figure size 1000x500 with 1 Axes>"
      ]
     },
     "metadata": {},
     "output_type": "display_data"
    }
   ],
   "source": [
    "for covariance_type in covariance_types:\n",
    "    # 采用GMM聚类\n",
    "    gmm = GaussianMixture(n_components=K,\n",
    "    covariance_type=covariance_type)\n",
    "    gmm.fit(X)\n",
    "    Z = gmm.predict(np.c_[xx1.ravel(), xx2.ravel()])\n",
    "    Z = Z.reshape(xx1.shape)\n",
    "    # 可视化\n",
    "    fig = plt.figure(figsize = (10,5))\n",
    "    ax = fig.add_subplot(1,2,1)\n",
    "    ax.scatter(x=X[:, 0], y=X[:, 1],\n",
    "    color=np.array([0, 68, 138])/255.,\n",
    "    alpha=1.0,linewidth = 1, edgecolor=[1,1,1])\n",
    "    make_ellipses(gmm, ax)\n",
    "    ax.set_xlim(4, 8); ax.set_ylim(1, 5)\n",
    "    ax.set_xlabel(iris.feature_names[0])\n",
    "    ax.set_ylabel(iris.feature_names[1])\n",
    "    ax.grid(linestyle='--', linewidth=0.25,\n",
    "    color=[0.5,0.5,0.5])\n",
    "    ax.set_aspect('equal', adjustable='box')\n",
    "    ax = fig.add_subplot(1,2,2)\n",
    "    ax.contourf(xx1, xx2, Z, cmap=cmap_bold, alpha = 0.18)\n",
    "    ax.contour(xx1, xx2, Z, levels=[0,1,2],\n",
    "    colors=np.array([0, 68, 138])/255.)\n",
    "    ax.scatter(x=X[:, 0], y=X[:, 1],\n",
    "    color=np.array([0, 68, 138])/255.,\n",
    "    alpha=1.0,\n",
    "    linewidth = 1, edgecolor=[1,1,1])\n",
    "    centroids = gmm.means_\n",
    "    ax.scatter(centroids[:, 0], centroids[:, 1],\n",
    "    marker=\"x\", s=100, linewidths=1.5,\n",
    "    color=\"k\") \n",
    "    ax.set_xlim(4, 8); ax.set_ylim(1, 5)\n",
    "    ax.set_xlabel(iris.feature_names[0])\n",
    "    ax.set_ylabel(iris.feature_names[1])\n",
    "    ax.grid(linestyle='--', linewidth=0.25,\n",
    "    color=[0.5,0.5,0.5])\n",
    "    ax.set_aspect('equal', adjustable='box')"
   ]
  },
  {
   "cell_type": "code",
   "execution_count": null,
   "id": "88ac1f9d-11d3-4ad6-9a1e-4481a2572104",
   "metadata": {},
   "outputs": [],
   "source": []
  }
 ],
 "metadata": {
  "kernelspec": {
   "display_name": "Python 3 (ipykernel)",
   "language": "python",
   "name": "python3"
  },
  "language_info": {
   "codemirror_mode": {
    "name": "ipython",
    "version": 3
   },
   "file_extension": ".py",
   "mimetype": "text/x-python",
   "name": "python",
   "nbconvert_exporter": "python",
   "pygments_lexer": "ipython3",
   "version": "3.10.9"
  }
 },
 "nbformat": 4,
 "nbformat_minor": 5
}
