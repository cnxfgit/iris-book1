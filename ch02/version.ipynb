{
 "cells": [
  {
   "cell_type": "code",
   "execution_count": 2,
   "id": "f95f7b86-7e94-4f0e-9f86-a39281362a1f",
   "metadata": {
    "tags": []
   },
   "outputs": [],
   "source": [
    "import scipy\n",
    "print('scipy: %s' % scipy.__version__)"
   ]
  },
  {
   "cell_type": "code",
   "execution_count": 4,
   "id": "26fce93e-9ebb-49a1-91a3-6c53473f715b",
   "metadata": {},
   "outputs": [],
   "source": [
    "import numpy\n",
    "print('numpy: %s' % numpy.__version__)"
   ]
  },
  {
   "cell_type": "code",
   "execution_count": 6,
   "id": "2e8879da-0669-47c0-91c2-3b4a00bb0ae9",
   "metadata": {},
   "outputs": [],
   "source": [
    "import matplotlib\n",
    "print('matplotlib: %s' % matplotlib.__version__)"
   ]
  },
  {
   "cell_type": "code",
   "execution_count": 12,
   "id": "3ec04ca8-95c9-4c3e-8409-9aaeb633e50e",
   "metadata": {},
   "outputs": [
    {
     "name": "stdout",
     "output_type": "stream",
     "text": [
      "pandas: 2.2.1\n"
     ]
    }
   ],
   "source": [
    "import pandas\n",
    "print('pandas: %s' % pandas.__version__)"
   ]
  },
  {
   "cell_type": "code",
   "execution_count": null,
   "id": "3b918e5b-a8e6-44af-8051-378db9868513",
   "metadata": {},
   "outputs": [],
   "source": []
  }
 ],
 "metadata": {
  "kernelspec": {
   "display_name": "Python 3 (ipykernel)",
   "language": "python",
   "name": "python3"
  },
  "language_info": {
   "codemirror_mode": {
    "name": "ipython",
    "version": 3
   },
   "file_extension": ".py",
   "mimetype": "text/x-python",
   "name": "python",
   "nbconvert_exporter": "python",
   "pygments_lexer": "ipython3",
   "version": "3.10.9"
  }
 },
 "nbformat": 4,
 "nbformat_minor": 5
}
