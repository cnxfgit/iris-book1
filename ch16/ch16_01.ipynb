{
 "cells": [
  {
   "cell_type": "code",
   "execution_count": 1,
   "id": "2b5ec3d0-1fd7-4614-8e50-ba8d291a1ad3",
   "metadata": {},
   "outputs": [],
   "source": [
    "import numpy as np"
   ]
  },
  {
   "cell_type": "code",
   "execution_count": 2,
   "id": "57a5b6ca-ed58-4b35-934e-5c6af212e3e0",
   "metadata": {},
   "outputs": [
    {
     "data": {
      "text/plain": [
       "array([ 0,  1,  2,  3,  4,  5,  6,  7,  8,  9, 10, 11])"
      ]
     },
     "execution_count": 2,
     "metadata": {},
     "output_type": "execute_result"
    }
   ],
   "source": [
    "a = np.arange(12)\n",
    "a"
   ]
  },
  {
   "cell_type": "code",
   "execution_count": 3,
   "id": "9422e8c3-0c83-46ba-be20-549c3fb5b203",
   "metadata": {},
   "outputs": [],
   "source": [
    "b = np.reshape(a, (3,4))"
   ]
  },
  {
   "cell_type": "code",
   "execution_count": 4,
   "id": "16bc3f4a-3c16-4507-a80a-f16f5dfeaf09",
   "metadata": {},
   "outputs": [
    {
     "data": {
      "text/plain": [
       "array([[ 0,  1,  2,  3],\n",
       "       [ 4,  5,  6,  7],\n",
       "       [ 8,  9, 10, 11]])"
      ]
     },
     "execution_count": 4,
     "metadata": {},
     "output_type": "execute_result"
    }
   ],
   "source": [
    "b"
   ]
  },
  {
   "cell_type": "code",
   "execution_count": 5,
   "id": "1c2f2a0c-812b-4ecd-a7ed-d736914fb261",
   "metadata": {},
   "outputs": [],
   "source": [
    "c = np.reshape(a, (2,3,2))"
   ]
  },
  {
   "cell_type": "code",
   "execution_count": 6,
   "id": "1a1ea241-2b4b-479e-b993-a99b5c00e139",
   "metadata": {},
   "outputs": [
    {
     "data": {
      "text/plain": [
       "array([[[ 0,  1],\n",
       "        [ 2,  3],\n",
       "        [ 4,  5]],\n",
       "\n",
       "       [[ 6,  7],\n",
       "        [ 8,  9],\n",
       "        [10, 11]]])"
      ]
     },
     "execution_count": 6,
     "metadata": {},
     "output_type": "execute_result"
    }
   ],
   "source": [
    "c"
   ]
  },
  {
   "cell_type": "code",
   "execution_count": 7,
   "id": "e5eb170c-a52a-48e1-bc64-33d3bf6c1e56",
   "metadata": {},
   "outputs": [],
   "source": [
    "a = np.array([[1,2], [3,4]])\n",
    "b = np.reshape(a, -1)"
   ]
  },
  {
   "cell_type": "code",
   "execution_count": 8,
   "id": "9d30cf90-4ed3-4a51-8873-ac75769f5849",
   "metadata": {},
   "outputs": [
    {
     "data": {
      "text/plain": [
       "array([1, 2, 3, 4])"
      ]
     },
     "execution_count": 8,
     "metadata": {},
     "output_type": "execute_result"
    }
   ],
   "source": [
    "b"
   ]
  },
  {
   "cell_type": "code",
   "execution_count": 9,
   "id": "1241818a-1ccb-4342-b18f-e1adc4b6a58d",
   "metadata": {},
   "outputs": [],
   "source": [
    "a = np.arange(6).reshape((2,3))"
   ]
  },
  {
   "cell_type": "code",
   "execution_count": 10,
   "id": "ef00601c-32cf-4430-8dd7-076b5fa37f67",
   "metadata": {},
   "outputs": [
    {
     "data": {
      "text/plain": [
       "array([[0, 1, 2],\n",
       "       [3, 4, 5]])"
      ]
     },
     "execution_count": 10,
     "metadata": {},
     "output_type": "execute_result"
    }
   ],
   "source": [
    "a"
   ]
  },
  {
   "cell_type": "code",
   "execution_count": 11,
   "id": "4edb3ea1-11a4-4e5a-b30d-a67690df969a",
   "metadata": {},
   "outputs": [],
   "source": [
    "b = np.reshape(a, (3,2), order='F')"
   ]
  },
  {
   "cell_type": "code",
   "execution_count": 12,
   "id": "9ef83fd3-fa73-47ef-90e3-3f1ef286b718",
   "metadata": {},
   "outputs": [
    {
     "data": {
      "text/plain": [
       "array([[0, 4],\n",
       "       [3, 2],\n",
       "       [1, 5]])"
      ]
     },
     "execution_count": 12,
     "metadata": {},
     "output_type": "execute_result"
    }
   ],
   "source": [
    "b"
   ]
  },
  {
   "cell_type": "code",
   "execution_count": null,
   "id": "9d2e9746-953c-4a60-b4b0-6a9d39cfb1d2",
   "metadata": {},
   "outputs": [],
   "source": []
  }
 ],
 "metadata": {
  "kernelspec": {
   "display_name": "Python 3 (ipykernel)",
   "language": "python",
   "name": "python3"
  },
  "language_info": {
   "codemirror_mode": {
    "name": "ipython",
    "version": 3
   },
   "file_extension": ".py",
   "mimetype": "text/x-python",
   "name": "python",
   "nbconvert_exporter": "python",
   "pygments_lexer": "ipython3",
   "version": "3.10.9"
  }
 },
 "nbformat": 4,
 "nbformat_minor": 5
}
