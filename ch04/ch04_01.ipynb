{
 "cells": [
  {
   "cell_type": "code",
   "execution_count": 4,
   "id": "29a68076-f192-41ad-8ed7-e32c781b8a79",
   "metadata": {},
   "outputs": [],
   "source": [
    "import numpy as np"
   ]
  },
  {
   "cell_type": "code",
   "execution_count": 5,
   "id": "8ddf7db7-7bb4-4e1b-be57-ad3ceb8242ce",
   "metadata": {},
   "outputs": [],
   "source": [
    "# 创建长度为10 的一维数组 0 - 9\n",
    "x_array = np.arange(10)"
   ]
  },
  {
   "cell_type": "code",
   "execution_count": 3,
   "id": "5e9e42e8-d5ca-48c1-9c38-65489659a782",
   "metadata": {},
   "outputs": [
    {
     "name": "stdout",
     "output_type": "stream",
     "text": [
      "[0 1 2 3 4 5 6 7 8 9]\n"
     ]
    }
   ],
   "source": [
    "print(x_array)"
   ]
  },
  {
   "cell_type": "code",
   "execution_count": 6,
   "id": "8c532542-e96d-4b79-aa65-2c8fb2692133",
   "metadata": {},
   "outputs": [
    {
     "name": "stdout",
     "output_type": "stream",
     "text": [
      "3.5\n"
     ]
    }
   ],
   "source": [
    "def my_function(x, y):\n",
    "    \"\"\"\n",
    "    输入两个数值x y\n",
    "    输出为x y的和\n",
    "    \"\"\"\n",
    "    return x + y\n",
    "\n",
    "print(my_function(1.5, 2))"
   ]
  }
 ],
 "metadata": {
  "kernelspec": {
   "display_name": "Python 3 (ipykernel)",
   "language": "python",
   "name": "python3"
  },
  "language_info": {
   "codemirror_mode": {
    "name": "ipython",
    "version": 3
   },
   "file_extension": ".py",
   "mimetype": "text/x-python",
   "name": "python",
   "nbconvert_exporter": "python",
   "pygments_lexer": "ipython3",
   "version": "3.10.9"
  }
 },
 "nbformat": 4,
 "nbformat_minor": 5
}
