{
 "cells": [
  {
   "cell_type": "code",
   "execution_count": 1,
   "id": "957f2be0-d888-41f2-bcfe-6283ec34f4cb",
   "metadata": {},
   "outputs": [
    {
     "name": "stdin",
     "output_type": "stream",
     "text": [
      "请输入一个数值:  123\n"
     ]
    }
   ],
   "source": [
    "x = float(input(\"请输入一个数值: \"))"
   ]
  },
  {
   "cell_type": "code",
   "execution_count": 2,
   "id": "7919d0af-247b-4c10-88fd-5bb48d1d28f7",
   "metadata": {},
   "outputs": [],
   "source": [
    "abs_x = x"
   ]
  },
  {
   "cell_type": "code",
   "execution_count": 3,
   "id": "3c52a34f-ab03-4e80-9ade-74779591d052",
   "metadata": {},
   "outputs": [
    {
     "name": "stdout",
     "output_type": "stream",
     "text": [
      "x is positive\n"
     ]
    }
   ],
   "source": [
    "if x > 0:\n",
    "    print(\"x is positive\")\n",
    "elif x == 0:\n",
    "    print(\"x is zero\")\n",
    "else:\n",
    "    print(\"x is negative\")\n",
    "    abs_x = -x"
   ]
  },
  {
   "cell_type": "code",
   "execution_count": 4,
   "id": "43b0ca7d-0009-41b1-ba4b-e371ff0dfd03",
   "metadata": {},
   "outputs": [
    {
     "name": "stdout",
     "output_type": "stream",
     "text": [
      "该数值的绝对值为:  123.0\n"
     ]
    }
   ],
   "source": [
    "print(\"该数值的绝对值为: \", abs_x)"
   ]
  },
  {
   "cell_type": "code",
   "execution_count": null,
   "id": "27ccd9cc-970b-4a54-a492-9f3791b36ebc",
   "metadata": {},
   "outputs": [],
   "source": []
  }
 ],
 "metadata": {
  "kernelspec": {
   "display_name": "Python 3 (ipykernel)",
   "language": "python",
   "name": "python3"
  },
  "language_info": {
   "codemirror_mode": {
    "name": "ipython",
    "version": 3
   },
   "file_extension": ".py",
   "mimetype": "text/x-python",
   "name": "python",
   "nbconvert_exporter": "python",
   "pygments_lexer": "ipython3",
   "version": "3.10.9"
  }
 },
 "nbformat": 4,
 "nbformat_minor": 5
}
