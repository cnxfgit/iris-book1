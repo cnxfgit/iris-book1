{
 "cells": [
  {
   "cell_type": "code",
   "execution_count": 1,
   "id": "f3690160-3120-4e30-a4a8-dfab35fa1368",
   "metadata": {},
   "outputs": [],
   "source": [
    "def is_symmetric(matrix):\n",
    "    rows = len(matrix)\n",
    "    cols = len(matrix[0])\n",
    "\n",
    "    if rows != cols:\n",
    "        return False\n",
    "\n",
    "    for i in range(rows):\n",
    "        for j in range(cols):\n",
    "            if matrix[i][j] != matrix[j][i]:\n",
    "                return False\n",
    "    return True"
   ]
  },
  {
   "cell_type": "code",
   "execution_count": 3,
   "id": "54778b80-1016-4edd-b649-0eb635741922",
   "metadata": {},
   "outputs": [],
   "source": [
    "A = [[1,2,3],\n",
    "    [2,4,5],\n",
    "    [3,5,6]]"
   ]
  },
  {
   "cell_type": "code",
   "execution_count": 4,
   "id": "f4cdfee4-751e-4664-ac6f-cec7891f51c4",
   "metadata": {},
   "outputs": [],
   "source": [
    "B = [[1,2,3],\n",
    "    [2,4,0],\n",
    "    [0,5,6]]"
   ]
  },
  {
   "cell_type": "code",
   "execution_count": 5,
   "id": "733b67a4-40df-4b41-89fe-9bc1847b078c",
   "metadata": {},
   "outputs": [
    {
     "name": "stdout",
     "output_type": "stream",
     "text": [
      "是否是对称矩阵: True\n"
     ]
    }
   ],
   "source": [
    "print('是否是对称矩阵:', is_symmetric(A))"
   ]
  },
  {
   "cell_type": "code",
   "execution_count": 6,
   "id": "721bcde4-b61c-4c67-9d33-6d4fb6fcc6d2",
   "metadata": {},
   "outputs": [
    {
     "name": "stdout",
     "output_type": "stream",
     "text": [
      "是否是对称矩阵: False\n"
     ]
    }
   ],
   "source": [
    "print('是否是对称矩阵:', is_symmetric(B))"
   ]
  }
 ],
 "metadata": {
  "kernelspec": {
   "display_name": "Python 3 (ipykernel)",
   "language": "python",
   "name": "python3"
  },
  "language_info": {
   "codemirror_mode": {
    "name": "ipython",
    "version": 3
   },
   "file_extension": ".py",
   "mimetype": "text/x-python",
   "name": "python",
   "nbconvert_exporter": "python",
   "pygments_lexer": "ipython3",
   "version": "3.10.9"
  }
 },
 "nbformat": 4,
 "nbformat_minor": 5
}
