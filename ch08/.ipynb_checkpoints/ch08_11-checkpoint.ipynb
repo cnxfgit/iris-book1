{
 "cells": [
  {
   "cell_type": "code",
   "execution_count": 1,
   "id": "8d66e7a2-ad02-424f-b16f-42b9b7807f00",
   "metadata": {},
   "outputs": [],
   "source": [
    "def inner_prod(a, b):\n",
    "    '''\n",
    "    自定义函数计算两个向量内积\n",
    "    输入：\n",
    "    a：向量，类型为数据列表\n",
    "    b：向量，类型为数据列表\n",
    "    输出：\n",
    "    c：标量\n",
    "    参考：\n",
    "    https://mathworld.wolfram.com/InnerProduct.html\n",
    "    '''\n",
    "    if len(a) != len(b):\n",
    "        raise ValueError(\"Error: check a/b lengths\")\n",
    "\n",
    "    dot_product = 0\n",
    "    for i in range(len(a)):\n",
    "        dot_product += a[i] * b[i]\n",
    "    return dot_product"
   ]
  },
  {
   "cell_type": "code",
   "execution_count": 2,
   "id": "864a9148-7a88-45c6-9a5b-091c54802ea9",
   "metadata": {},
   "outputs": [
    {
     "name": "stdout",
     "output_type": "stream",
     "text": [
      "Help on function inner_prod in module __main__:\n",
      "\n",
      "inner_prod(a, b)\n",
      "    自定义函数计算两个向量内积\n",
      "    输入：\n",
      "    a：向量，类型为数据列表\n",
      "    b：向量，类型为数据列表\n",
      "    输出：\n",
      "    c：标量\n",
      "    参考：\n",
      "    https://mathworld.wolfram.com/InnerProduct.html\n",
      "\n"
     ]
    }
   ],
   "source": [
    "help(inner_prod)"
   ]
  },
  {
   "cell_type": "code",
   "execution_count": 3,
   "id": "29c31f77-abe7-4e3f-9be5-91694ae6d209",
   "metadata": {},
   "outputs": [
    {
     "name": "stdout",
     "output_type": "stream",
     "text": [
      "\n",
      "    自定义函数计算两个向量内积\n",
      "    输入：\n",
      "    a：向量，类型为数据列表\n",
      "    b：向量，类型为数据列表\n",
      "    输出：\n",
      "    c：标量\n",
      "    参考：\n",
      "    https://mathworld.wolfram.com/InnerProduct.html\n",
      "    \n"
     ]
    }
   ],
   "source": [
    "print(inner_prod.__doc__)"
   ]
  },
  {
   "cell_type": "code",
   "execution_count": 4,
   "id": "604c8297-7cfa-4267-8182-c5d54c6ddc88",
   "metadata": {},
   "outputs": [],
   "source": [
    "a = [1,2,3,4,5,6,7,8,9]"
   ]
  },
  {
   "cell_type": "code",
   "execution_count": 5,
   "id": "1720b82f-94aa-4554-8d50-871fc056e256",
   "metadata": {},
   "outputs": [],
   "source": [
    "b = a[::-1]"
   ]
  },
  {
   "cell_type": "code",
   "execution_count": 6,
   "id": "b04c9d40-d3bc-4e0a-a9a1-cb8bc2bdd149",
   "metadata": {},
   "outputs": [],
   "source": [
    "c = inner_prod(a, b)"
   ]
  },
  {
   "cell_type": "code",
   "execution_count": 8,
   "id": "043fd40f-2846-4629-9636-0c5a84c009d3",
   "metadata": {},
   "outputs": [
    {
     "name": "stdout",
     "output_type": "stream",
     "text": [
      "向量内积为:  165\n"
     ]
    }
   ],
   "source": [
    "print(\"向量内积为: \", c)"
   ]
  }
 ],
 "metadata": {
  "kernelspec": {
   "display_name": "Python 3 (ipykernel)",
   "language": "python",
   "name": "python3"
  },
  "language_info": {
   "codemirror_mode": {
    "name": "ipython",
    "version": 3
   },
   "file_extension": ".py",
   "mimetype": "text/x-python",
   "name": "python",
   "nbconvert_exporter": "python",
   "pygments_lexer": "ipython3",
   "version": "3.10.9"
  }
 },
 "nbformat": 4,
 "nbformat_minor": 5
}
