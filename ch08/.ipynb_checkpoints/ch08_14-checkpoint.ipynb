{
 "cells": [
  {
   "cell_type": "code",
   "execution_count": 2,
   "id": "fde5f573-e794-4d94-b3b8-d3d6dd90569e",
   "metadata": {},
   "outputs": [],
   "source": [
    "def diagonal_matrix(values):\n",
    "    size = len(values)\n",
    "    matrix = []\n",
    "    for i in range(size):\n",
    "        row = [0] * size\n",
    "        matrix.append(row)\n",
    "        matrix[i][i] = values[i]\n",
    "    return matrix"
   ]
  },
  {
   "cell_type": "code",
   "execution_count": 3,
   "id": "813ba5ac-eccc-4ef6-81bd-6de615ec64fb",
   "metadata": {},
   "outputs": [],
   "source": [
    "diagonal_values = [4,3,2,1]"
   ]
  },
  {
   "cell_type": "code",
   "execution_count": 4,
   "id": "d5ff7760-5238-4a9d-85d5-a21f6f9e357b",
   "metadata": {},
   "outputs": [],
   "source": [
    "diagonal_matrix = diagonal_matrix(diagonal_values)"
   ]
  },
  {
   "cell_type": "code",
   "execution_count": 5,
   "id": "843154d1-7efa-42c9-8599-3b871bd4dba6",
   "metadata": {},
   "outputs": [
    {
     "data": {
      "text/plain": [
       "[[4, 0, 0, 0], [0, 3, 0, 0], [0, 0, 2, 0], [0, 0, 0, 1]]"
      ]
     },
     "execution_count": 5,
     "metadata": {},
     "output_type": "execute_result"
    }
   ],
   "source": [
    "diagonal_matrix"
   ]
  },
  {
   "cell_type": "code",
   "execution_count": null,
   "id": "5b6edc90-56bb-4de9-948f-348a9159e95d",
   "metadata": {},
   "outputs": [],
   "source": []
  }
 ],
 "metadata": {
  "kernelspec": {
   "display_name": "Python 3 (ipykernel)",
   "language": "python",
   "name": "python3"
  },
  "language_info": {
   "codemirror_mode": {
    "name": "ipython",
    "version": 3
   },
   "file_extension": ".py",
   "mimetype": "text/x-python",
   "name": "python",
   "nbconvert_exporter": "python",
   "pygments_lexer": "ipython3",
   "version": "3.10.9"
  }
 },
 "nbformat": 4,
 "nbformat_minor": 5
}
