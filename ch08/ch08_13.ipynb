{
 "cells": [
  {
   "cell_type": "code",
   "execution_count": 1,
   "id": "54299439-e373-46a2-a11b-f94fe9c165b4",
   "metadata": {},
   "outputs": [],
   "source": [
    "def identity_matrix(size):\n",
    "    matrix = []\n",
    "    for i in range(size):\n",
    "        row = [0] * size\n",
    "        row[i] = 1\n",
    "        matrix.append(row)\n",
    "    return matrix"
   ]
  },
  {
   "cell_type": "code",
   "execution_count": 2,
   "id": "3a184d1a-65ce-4e77-8091-d39963f8bfcd",
   "metadata": {},
   "outputs": [],
   "source": [
    "identity_matrix = identity_matrix(4)"
   ]
  },
  {
   "cell_type": "code",
   "execution_count": 3,
   "id": "ff989c79-dd49-4ccc-8008-952d78bc2b11",
   "metadata": {},
   "outputs": [
    {
     "name": "stdout",
     "output_type": "stream",
     "text": [
      "[[1, 0, 0, 0], [0, 1, 0, 0], [0, 0, 1, 0], [0, 0, 0, 1]]\n"
     ]
    }
   ],
   "source": [
    "print(identity_matrix)"
   ]
  },
  {
   "cell_type": "code",
   "execution_count": null,
   "id": "9f98628a-a74e-4d8c-b05c-9f952791e3f8",
   "metadata": {},
   "outputs": [],
   "source": []
  }
 ],
 "metadata": {
  "kernelspec": {
   "display_name": "Python 3 (ipykernel)",
   "language": "python",
   "name": "python3"
  },
  "language_info": {
   "codemirror_mode": {
    "name": "ipython",
    "version": 3
   },
   "file_extension": ".py",
   "mimetype": "text/x-python",
   "name": "python",
   "nbconvert_exporter": "python",
   "pygments_lexer": "ipython3",
   "version": "3.10.9"
  }
 },
 "nbformat": 4,
 "nbformat_minor": 5
}
