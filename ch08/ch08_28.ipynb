{
 "cells": [
  {
   "cell_type": "code",
   "execution_count": 1,
   "id": "ce13c3e8-9962-4bea-9254-00404800ced6",
   "metadata": {},
   "outputs": [],
   "source": [
    "import statistics"
   ]
  },
  {
   "cell_type": "code",
   "execution_count": 4,
   "id": "5db6b85b-3291-4837-b7fc-e877b57bd9de",
   "metadata": {},
   "outputs": [],
   "source": [
    "def calc_stats(operation, *args, **kwargs):\n",
    "    result = 0\n",
    "    if operation == \"stdev\":\n",
    "        if \"TYPE\" in kwargs and kwargs[\"TYPE\"] == 'population':\n",
    "            result = statistics.pstdev(args)\n",
    "        elif \"TYPE\" in kwargs and kwargs[\"TYPE\"] == 'sample':\n",
    "            result = statistics.stdev(args)\n",
    "        else:\n",
    "            raise ValueError('TYPE, either population or sample')\n",
    "    elif operation == \"var\":\n",
    "        if \"TYPE\" in kwargs and kwargs[\"TYPE\"] == 'population':\n",
    "            result = statistics.pvariance(args)\n",
    "        elif \"TYPE\" in kwargs and kwargs[\"TYPE\"] == 'sample':\n",
    "            result = statistics.variance(args)\n",
    "        else:\n",
    "            raise ValueError(\"TYPE, either population or sample\")\n",
    "    else:\n",
    "        print(\"Unsupported operation\")\n",
    "        return None\n",
    "\n",
    "    if \"ROUND\" in kwargs:\n",
    "        result = round(result, kwargs[\"ROUND\"])\n",
    "    return result"
   ]
  },
  {
   "cell_type": "code",
   "execution_count": 5,
   "id": "d31d66cc-20a9-4e69-ab6a-82a0336214d6",
   "metadata": {},
   "outputs": [
    {
     "data": {
      "text/plain": [
       "1.708"
      ]
     },
     "execution_count": 5,
     "metadata": {},
     "output_type": "execute_result"
    }
   ],
   "source": [
    "calc_stats(\"stdev\", 1,2,3,4,5,6,TYPE = 'population', ROUND=3)"
   ]
  },
  {
   "cell_type": "code",
   "execution_count": 6,
   "id": "e35f09a8-7951-4874-b2b3-0b44ab426d7d",
   "metadata": {},
   "outputs": [
    {
     "data": {
      "text/plain": [
       "1.8708286933869707"
      ]
     },
     "execution_count": 6,
     "metadata": {},
     "output_type": "execute_result"
    }
   ],
   "source": [
    "calc_stats(\"stdev\", 1,2,3,4,5,6, TYPE='sample')"
   ]
  },
  {
   "cell_type": "code",
   "execution_count": 7,
   "id": "a834b579-8b27-421b-bd0f-0ef304b5befb",
   "metadata": {},
   "outputs": [
    {
     "data": {
      "text/plain": [
       "2.917"
      ]
     },
     "execution_count": 7,
     "metadata": {},
     "output_type": "execute_result"
    }
   ],
   "source": [
    "calc_stats(\"var\", 1,2,3,4,5,6,TYPE = 'population', ROUND=3 )"
   ]
  },
  {
   "cell_type": "code",
   "execution_count": 8,
   "id": "0c81dc32-f51a-4033-b5fe-1598209eb9c0",
   "metadata": {},
   "outputs": [
    {
     "data": {
      "text/plain": [
       "3.5"
      ]
     },
     "execution_count": 8,
     "metadata": {},
     "output_type": "execute_result"
    }
   ],
   "source": [
    "calc_stats(\"var\", 1,2,3,4,5,6,TYPE = 'sample' )"
   ]
  }
 ],
 "metadata": {
  "kernelspec": {
   "display_name": "Python 3 (ipykernel)",
   "language": "python",
   "name": "python3"
  },
  "language_info": {
   "codemirror_mode": {
    "name": "ipython",
    "version": 3
   },
   "file_extension": ".py",
   "mimetype": "text/x-python",
   "name": "python",
   "nbconvert_exporter": "python",
   "pygments_lexer": "ipython3",
   "version": "3.10.9"
  }
 },
 "nbformat": 4,
 "nbformat_minor": 5
}
