{
 "cells": [
  {
   "cell_type": "code",
   "execution_count": 1,
   "id": "25ac3b36-4bb9-4d93-92e5-4f7495d36db3",
   "metadata": {},
   "outputs": [],
   "source": [
    "def multiply_all(*args):\n",
    "    result = 1\n",
    "    print(args)\n",
    "    for num_idx in args:\n",
    "        result *= num_idx\n",
    "    return result"
   ]
  },
  {
   "cell_type": "code",
   "execution_count": 2,
   "id": "918679a5-87a4-4106-8318-6585117c5c50",
   "metadata": {},
   "outputs": [
    {
     "name": "stdout",
     "output_type": "stream",
     "text": [
      "(1, 2, 3, 4)\n",
      "24\n"
     ]
    }
   ],
   "source": [
    "print(multiply_all(1,2,3,4))"
   ]
  },
  {
   "cell_type": "code",
   "execution_count": 3,
   "id": "c0d04f81-60f6-4ec8-9b00-89c223083e51",
   "metadata": {},
   "outputs": [
    {
     "name": "stdout",
     "output_type": "stream",
     "text": [
      "(1, 2, 3, 4, 5, 6)\n",
      "720\n"
     ]
    }
   ],
   "source": [
    "print(multiply_all(1,2,3,4,5,6))"
   ]
  },
  {
   "cell_type": "code",
   "execution_count": null,
   "id": "29023a39-3fc6-49b7-866e-ebf8fdef2c94",
   "metadata": {},
   "outputs": [],
   "source": []
  }
 ],
 "metadata": {
  "kernelspec": {
   "display_name": "Python 3 (ipykernel)",
   "language": "python",
   "name": "python3"
  },
  "language_info": {
   "codemirror_mode": {
    "name": "ipython",
    "version": 3
   },
   "file_extension": ".py",
   "mimetype": "text/x-python",
   "name": "python",
   "nbconvert_exporter": "python",
   "pygments_lexer": "ipython3",
   "version": "3.10.9"
  }
 },
 "nbformat": 4,
 "nbformat_minor": 5
}
