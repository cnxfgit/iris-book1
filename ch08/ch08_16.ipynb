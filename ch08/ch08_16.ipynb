{
 "cells": [
  {
   "cell_type": "code",
   "execution_count": 1,
   "id": "3ec1c99b-7bf7-4c1c-8fdc-539fdc7ec33b",
   "metadata": {},
   "outputs": [],
   "source": [
    "def trace(matrix):\n",
    "    rows = len(matrix)\n",
    "    cols = len(matrix[0])\n",
    "    if rows != cols:\n",
    "        raise ValueError(\"Matrix is not square\")\n",
    "    diagonal_sum = sum(matrix[i][i] for i in range(rows))\n",
    "    return diagonal_sum"
   ]
  },
  {
   "cell_type": "code",
   "execution_count": 2,
   "id": "6fd72b95-7214-459c-9380-5beedc07ba35",
   "metadata": {},
   "outputs": [],
   "source": [
    "A = [[1,2,3],\n",
    "    [4,5,6],\n",
    "    [7,8,9]]"
   ]
  },
  {
   "cell_type": "code",
   "execution_count": 3,
   "id": "f9b536f1-620e-4ad0-b833-74c689b34e53",
   "metadata": {},
   "outputs": [
    {
     "name": "stdout",
     "output_type": "stream",
     "text": [
      "矩阵的迹为： 15\n"
     ]
    }
   ],
   "source": [
    "trace_A = trace(A)\n",
    "print('矩阵的迹为：', trace_A)"
   ]
  },
  {
   "cell_type": "code",
   "execution_count": null,
   "id": "c79f2071-b53e-4296-a3fe-9fde84c5f76b",
   "metadata": {},
   "outputs": [],
   "source": []
  }
 ],
 "metadata": {
  "kernelspec": {
   "display_name": "Python 3 (ipykernel)",
   "language": "python",
   "name": "python3"
  },
  "language_info": {
   "codemirror_mode": {
    "name": "ipython",
    "version": 3
   },
   "file_extension": ".py",
   "mimetype": "text/x-python",
   "name": "python",
   "nbconvert_exporter": "python",
   "pygments_lexer": "ipython3",
   "version": "3.10.9"
  }
 },
 "nbformat": 4,
 "nbformat_minor": 5
}
