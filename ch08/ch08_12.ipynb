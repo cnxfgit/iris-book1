{
 "cells": [
  {
   "cell_type": "code",
   "execution_count": 1,
   "id": "c04ff1d2-3b14-4073-9fa8-0b397304d83e",
   "metadata": {},
   "outputs": [],
   "source": [
    "def create_zeros_matrix(rows, cols):\n",
    "    matrix = []\n",
    "    for _ in range(rows):\n",
    "        row_idx = [0] * cols\n",
    "        matrix.append(row_idx)\n",
    "    return matrix"
   ]
  },
  {
   "cell_type": "code",
   "execution_count": 2,
   "id": "fd338550-244f-4c5b-818b-43f6eb543481",
   "metadata": {},
   "outputs": [],
   "source": [
    "m = create_zeros_matrix(3,4)"
   ]
  },
  {
   "cell_type": "code",
   "execution_count": 3,
   "id": "fe6bd707-91e1-4258-b2ac-2da80d68b646",
   "metadata": {},
   "outputs": [
    {
     "name": "stdout",
     "output_type": "stream",
     "text": [
      "[[0, 0, 0, 0], [0, 0, 0, 0], [0, 0, 0, 0]]\n"
     ]
    }
   ],
   "source": [
    "print(m)"
   ]
  },
  {
   "cell_type": "code",
   "execution_count": null,
   "id": "a390025d-2e43-4722-94a0-a45bc8db704d",
   "metadata": {},
   "outputs": [],
   "source": []
  }
 ],
 "metadata": {
  "kernelspec": {
   "display_name": "Python 3 (ipykernel)",
   "language": "python",
   "name": "python3"
  },
  "language_info": {
   "codemirror_mode": {
    "name": "ipython",
    "version": 3
   },
   "file_extension": ".py",
   "mimetype": "text/x-python",
   "name": "python",
   "nbconvert_exporter": "python",
   "pygments_lexer": "ipython3",
   "version": "3.10.9"
  }
 },
 "nbformat": 4,
 "nbformat_minor": 5
}
