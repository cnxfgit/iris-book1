{
 "cells": [
  {
   "cell_type": "code",
   "execution_count": 1,
   "id": "c576173c-5b95-4a5b-ab17-9b67f03a2978",
   "metadata": {},
   "outputs": [],
   "source": [
    "def is_symmetric_2(matrix):\n",
    "    rows = len(matrix)\n",
    "    cols = len(matrix[0])\n",
    "\n",
    "    if rows != cols:\n",
    "        return False\n",
    "\n",
    "    tranposed = [[(matrix[j][i]) for j in range(rows)]\n",
    "                for i in range(rows)]\n",
    "    if(matrix == tranposed):\n",
    "        return True\n",
    "    return False"
   ]
  },
  {
   "cell_type": "code",
   "execution_count": 2,
   "id": "d86f304c-c644-4a8c-a0e7-3bda5c783b16",
   "metadata": {},
   "outputs": [],
   "source": [
    "A = [[1,2,3],\n",
    "    [2,4,5],\n",
    "    [3,5,6]]"
   ]
  },
  {
   "cell_type": "code",
   "execution_count": 3,
   "id": "f972a6d1-3a9d-4d35-a90d-025c7f6023af",
   "metadata": {},
   "outputs": [],
   "source": [
    "B = [[1,2,3],\n",
    "    [2,4,0],\n",
    "    [0,5,6]]"
   ]
  },
  {
   "cell_type": "code",
   "execution_count": 4,
   "id": "c62b5c59-0400-4004-85f9-6799c817ba4a",
   "metadata": {},
   "outputs": [
    {
     "name": "stdout",
     "output_type": "stream",
     "text": [
      "是否是对称矩阵: True\n"
     ]
    }
   ],
   "source": [
    "print('是否是对称矩阵:', is_symmetric_2(A))"
   ]
  },
  {
   "cell_type": "code",
   "execution_count": 5,
   "id": "9d4b6ec1-7a0a-4408-8dc1-dec4b0a83810",
   "metadata": {},
   "outputs": [
    {
     "name": "stdout",
     "output_type": "stream",
     "text": [
      "是否是对称矩阵: False\n"
     ]
    }
   ],
   "source": [
    "print('是否是对称矩阵:', is_symmetric_2(B))"
   ]
  }
 ],
 "metadata": {
  "kernelspec": {
   "display_name": "Python 3 (ipykernel)",
   "language": "python",
   "name": "python3"
  },
  "language_info": {
   "codemirror_mode": {
    "name": "ipython",
    "version": 3
   },
   "file_extension": ".py",
   "mimetype": "text/x-python",
   "name": "python",
   "nbconvert_exporter": "python",
   "pygments_lexer": "ipython3",
   "version": "3.10.9"
  }
 },
 "nbformat": 4,
 "nbformat_minor": 5
}
