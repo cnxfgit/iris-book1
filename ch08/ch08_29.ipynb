{
 "cells": [
  {
   "cell_type": "code",
   "execution_count": 1,
   "id": "6ca0c182-fb02-4589-bc25-2e4cd8d7d6e6",
   "metadata": {},
   "outputs": [],
   "source": [
    "my_list = [1,2,3,4,5]"
   ]
  },
  {
   "cell_type": "code",
   "execution_count": 2,
   "id": "ea99d5ba-e0aa-458d-8685-fef5bb6d22f8",
   "metadata": {},
   "outputs": [],
   "source": [
    "list_plus_1 = list(map(lambda x : x + 1, my_list))"
   ]
  },
  {
   "cell_type": "code",
   "execution_count": 3,
   "id": "5bf7f902-3496-4004-86fc-08a71bc8d485",
   "metadata": {},
   "outputs": [
    {
     "name": "stdout",
     "output_type": "stream",
     "text": [
      "[2, 3, 4, 5, 6]\n"
     ]
    }
   ],
   "source": [
    "print(list_plus_1)"
   ]
  },
  {
   "cell_type": "code",
   "execution_count": 4,
   "id": "3c9a442f-81eb-4498-b3df-754047f7f2d5",
   "metadata": {},
   "outputs": [],
   "source": [
    "list_squared = list(map(lambda x: x**2, my_list))"
   ]
  },
  {
   "cell_type": "code",
   "execution_count": 5,
   "id": "894f5af8-fe33-4c9e-8657-c7ce887b3f77",
   "metadata": {},
   "outputs": [
    {
     "name": "stdout",
     "output_type": "stream",
     "text": [
      "[1, 4, 9, 16, 25]\n"
     ]
    }
   ],
   "source": [
    "print(list_squared)"
   ]
  },
  {
   "cell_type": "code",
   "execution_count": null,
   "id": "d8d65dad-5e9b-4322-ab3c-39810ed1e4cf",
   "metadata": {},
   "outputs": [],
   "source": []
  }
 ],
 "metadata": {
  "kernelspec": {
   "display_name": "Python 3 (ipykernel)",
   "language": "python",
   "name": "python3"
  },
  "language_info": {
   "codemirror_mode": {
    "name": "ipython",
    "version": 3
   },
   "file_extension": ".py",
   "mimetype": "text/x-python",
   "name": "python",
   "nbconvert_exporter": "python",
   "pygments_lexer": "ipython3",
   "version": "3.10.9"
  }
 },
 "nbformat": 4,
 "nbformat_minor": 5
}
