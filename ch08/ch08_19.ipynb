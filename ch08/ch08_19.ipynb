{
 "cells": [
  {
   "cell_type": "code",
   "execution_count": 1,
   "id": "ebf37300-8595-4d1c-9709-b04f6a9a1cea",
   "metadata": {},
   "outputs": [],
   "source": [
    "def determinant_2x2(matrix):\n",
    "    if len(matrix) != 2 or len(matrix[0]) != 2:\n",
    "        raise ValueError(\"Matrix must be 2x2\")\n",
    "\n",
    "    a = matrix[0][0]\n",
    "    b = matrix[0][1]\n",
    "    c = matrix[1][0]\n",
    "    d = matrix[1][1]\n",
    "    det = a * d - b * c\n",
    "    return det"
   ]
  },
  {
   "cell_type": "code",
   "execution_count": 2,
   "id": "c5482e4c-3993-4837-a785-78b218a89869",
   "metadata": {},
   "outputs": [],
   "source": [
    "A = [[3,2],\n",
    "    [1,4]]"
   ]
  },
  {
   "cell_type": "code",
   "execution_count": 3,
   "id": "1667de27-345f-4525-9ac4-7e88c30584fd",
   "metadata": {},
   "outputs": [],
   "source": [
    "det = determinant_2x2(A)"
   ]
  },
  {
   "cell_type": "code",
   "execution_count": 4,
   "id": "00f20505-868a-473a-8440-45c12f75d168",
   "metadata": {},
   "outputs": [
    {
     "name": "stdout",
     "output_type": "stream",
     "text": [
      "矩阵行列式: 10\n"
     ]
    }
   ],
   "source": [
    "print('矩阵行列式:', det)"
   ]
  }
 ],
 "metadata": {
  "kernelspec": {
   "display_name": "Python 3 (ipykernel)",
   "language": "python",
   "name": "python3"
  },
  "language_info": {
   "codemirror_mode": {
    "name": "ipython",
    "version": 3
   },
   "file_extension": ".py",
   "mimetype": "text/x-python",
   "name": "python",
   "nbconvert_exporter": "python",
   "pygments_lexer": "ipython3",
   "version": "3.10.9"
  }
 },
 "nbformat": 4,
 "nbformat_minor": 5
}
