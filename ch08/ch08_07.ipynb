{
 "cells": [
  {
   "cell_type": "code",
   "execution_count": 1,
   "id": "fb2233b9-47af-4f3e-b720-00da7dd1692b",
   "metadata": {},
   "outputs": [
    {
     "name": "stdout",
     "output_type": "stream",
     "text": [
      "global_x:  8\n"
     ]
    }
   ],
   "source": [
    "global_x = 8\n",
    "print(\"global_x: \", global_x)"
   ]
  },
  {
   "cell_type": "code",
   "execution_count": 2,
   "id": "a54f2693-0fc6-45b6-b5bb-4e658d47eff9",
   "metadata": {},
   "outputs": [],
   "source": [
    "def my_function(local_x):\n",
    "    print(\"local_x\", local_x)\n",
    "\n",
    "    global global_x\n",
    "    global_x = 88\n",
    "    print(\"global_x: \", global_x)"
   ]
  },
  {
   "cell_type": "code",
   "execution_count": 3,
   "id": "25e9e486-e3f7-489f-b80d-5c76d81c72e1",
   "metadata": {},
   "outputs": [
    {
     "name": "stdout",
     "output_type": "stream",
     "text": [
      "local_x 38\n",
      "global_x:  88\n"
     ]
    }
   ],
   "source": [
    "my_function(38)"
   ]
  },
  {
   "cell_type": "code",
   "execution_count": 4,
   "id": "be554643-7c1b-44c0-903e-e5a02c80ab81",
   "metadata": {},
   "outputs": [
    {
     "name": "stdout",
     "output_type": "stream",
     "text": [
      "global_x:  88\n"
     ]
    }
   ],
   "source": [
    "print(\"global_x: \", global_x)"
   ]
  },
  {
   "cell_type": "code",
   "execution_count": null,
   "id": "c919bc88-2639-4658-a6f5-a8a60d41058e",
   "metadata": {},
   "outputs": [],
   "source": []
  }
 ],
 "metadata": {
  "kernelspec": {
   "display_name": "Python 3 (ipykernel)",
   "language": "python",
   "name": "python3"
  },
  "language_info": {
   "codemirror_mode": {
    "name": "ipython",
    "version": 3
   },
   "file_extension": ".py",
   "mimetype": "text/x-python",
   "name": "python",
   "nbconvert_exporter": "python",
   "pygments_lexer": "ipython3",
   "version": "3.10.9"
  }
 },
 "nbformat": 4,
 "nbformat_minor": 5
}
