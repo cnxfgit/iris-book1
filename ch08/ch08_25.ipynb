{
 "cells": [
  {
   "cell_type": "code",
   "execution_count": 1,
   "id": "412316b2-60df-4331-a591-5289164b7520",
   "metadata": {},
   "outputs": [],
   "source": [
    "complex_list = [3,4]"
   ]
  },
  {
   "cell_type": "code",
   "execution_count": 2,
   "id": "ce96f35d-4ffb-487b-8b72-4acee3460e19",
   "metadata": {},
   "outputs": [
    {
     "data": {
      "text/plain": [
       "(3+4j)"
      ]
     },
     "execution_count": 2,
     "metadata": {},
     "output_type": "execute_result"
    }
   ],
   "source": [
    "complex(*complex_list)"
   ]
  },
  {
   "cell_type": "code",
   "execution_count": 3,
   "id": "7bc2ac72-0860-4a92-a803-2db10e28aac5",
   "metadata": {},
   "outputs": [],
   "source": [
    "complex_dict = {'real': 3, 'imag': 4}"
   ]
  },
  {
   "cell_type": "code",
   "execution_count": 4,
   "id": "010c3a35-60a6-47ba-8775-5f0df71cb389",
   "metadata": {},
   "outputs": [
    {
     "data": {
      "text/plain": [
       "(3+4j)"
      ]
     },
     "execution_count": 4,
     "metadata": {},
     "output_type": "execute_result"
    }
   ],
   "source": [
    "complex(**complex_dict)"
   ]
  },
  {
   "cell_type": "code",
   "execution_count": null,
   "id": "3642c25c-0d91-4bfc-ad9b-4202714a0cf8",
   "metadata": {},
   "outputs": [],
   "source": []
  }
 ],
 "metadata": {
  "kernelspec": {
   "display_name": "Python 3 (ipykernel)",
   "language": "python",
   "name": "python3"
  },
  "language_info": {
   "codemirror_mode": {
    "name": "ipython",
    "version": 3
   },
   "file_extension": ".py",
   "mimetype": "text/x-python",
   "name": "python",
   "nbconvert_exporter": "python",
   "pygments_lexer": "ipython3",
   "version": "3.10.9"
  }
 },
 "nbformat": 4,
 "nbformat_minor": 5
}
