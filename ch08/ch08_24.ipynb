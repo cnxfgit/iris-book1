{
 "cells": [
  {
   "cell_type": "code",
   "execution_count": 4,
   "id": "038961a9-a2a4-4bdc-a927-58c9df9aa70e",
   "metadata": {},
   "outputs": [],
   "source": [
    "def quadratic_f(a, b, c, x, /):\n",
    "    f = a * x ** 2 + b * x + c\n",
    "    return f"
   ]
  },
  {
   "cell_type": "code",
   "execution_count": 5,
   "id": "ea4f06a4-7440-4b5f-b9b5-41520c2f279c",
   "metadata": {},
   "outputs": [
    {
     "data": {
      "text/plain": [
       "27"
      ]
     },
     "execution_count": 5,
     "metadata": {},
     "output_type": "execute_result"
    }
   ],
   "source": [
    "quadratic_f(1,2,3,4)"
   ]
  },
  {
   "cell_type": "code",
   "execution_count": 6,
   "id": "f038f625-5d83-4c33-af86-22c69e8e9144",
   "metadata": {},
   "outputs": [
    {
     "data": {
      "text/plain": [
       "57"
      ]
     },
     "execution_count": 6,
     "metadata": {},
     "output_type": "execute_result"
    }
   ],
   "source": [
    "quadratic_f(3,2,1,4)"
   ]
  },
  {
   "cell_type": "code",
   "execution_count": 7,
   "id": "2f43ea29-8784-4335-9481-5a3ffaa99175",
   "metadata": {},
   "outputs": [],
   "source": [
    "def quadratic_f_2(*, a, b, c, x):\n",
    "    f = a * x ** 2 + b * x + c\n",
    "    return f"
   ]
  },
  {
   "cell_type": "code",
   "execution_count": 8,
   "id": "f5e096d8-f54a-4146-bff3-85ae95a6e688",
   "metadata": {},
   "outputs": [
    {
     "data": {
      "text/plain": [
       "27"
      ]
     },
     "execution_count": 8,
     "metadata": {},
     "output_type": "execute_result"
    }
   ],
   "source": [
    "quadratic_f_2(a = 1, b = 2, c=3, x = 4)"
   ]
  },
  {
   "cell_type": "code",
   "execution_count": 9,
   "id": "35a581b2-920f-4385-ae11-a2c278ef8c13",
   "metadata": {},
   "outputs": [
    {
     "data": {
      "text/plain": [
       "27"
      ]
     },
     "execution_count": 9,
     "metadata": {},
     "output_type": "execute_result"
    }
   ],
   "source": [
    "quadratic_f_2(c=3,x=4,a=1,b=2)"
   ]
  },
  {
   "cell_type": "code",
   "execution_count": 13,
   "id": "d81937a7-d11c-4930-934b-33e6c2bfcbd0",
   "metadata": {},
   "outputs": [],
   "source": [
    "def quadratic_f_3(a, b, /, c, *, x):\n",
    "    f = a * x ** 2 + b * x + c\n",
    "    return f"
   ]
  },
  {
   "cell_type": "code",
   "execution_count": 14,
   "id": "d38b30b2-f131-4108-8100-adefc0527d34",
   "metadata": {},
   "outputs": [
    {
     "data": {
      "text/plain": [
       "27"
      ]
     },
     "execution_count": 14,
     "metadata": {},
     "output_type": "execute_result"
    }
   ],
   "source": [
    "quadratic_f_3(1,2,3,x = 4)"
   ]
  },
  {
   "cell_type": "code",
   "execution_count": 15,
   "id": "67f1a823-b0c4-447a-bf4b-2eceaffba3dc",
   "metadata": {},
   "outputs": [
    {
     "data": {
      "text/plain": [
       "27"
      ]
     },
     "execution_count": 15,
     "metadata": {},
     "output_type": "execute_result"
    }
   ],
   "source": [
    "quadratic_f_3(1,2,c=3,x=4)"
   ]
  },
  {
   "cell_type": "code",
   "execution_count": null,
   "id": "f7825f26-ae93-4a4d-a247-ef9618908db4",
   "metadata": {},
   "outputs": [],
   "source": []
  }
 ],
 "metadata": {
  "kernelspec": {
   "display_name": "Python 3 (ipykernel)",
   "language": "python",
   "name": "python3"
  },
  "language_info": {
   "codemirror_mode": {
    "name": "ipython",
    "version": 3
   },
   "file_extension": ".py",
   "mimetype": "text/x-python",
   "name": "python",
   "nbconvert_exporter": "python",
   "pygments_lexer": "ipython3",
   "version": "3.10.9"
  }
 },
 "nbformat": 4,
 "nbformat_minor": 5
}
