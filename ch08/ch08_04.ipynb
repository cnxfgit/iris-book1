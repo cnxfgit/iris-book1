{
 "cells": [
  {
   "cell_type": "code",
   "execution_count": 1,
   "id": "01da8024-0c41-43f2-b087-1acc78b3f774",
   "metadata": {},
   "outputs": [],
   "source": [
    "def arithmetic_operations(a, b):\n",
    "    add = a + b\n",
    "    sub = a - b\n",
    "    mul = a * b\n",
    "    div = a / b\n",
    "    return add, sub, mul, div"
   ]
  },
  {
   "cell_type": "code",
   "execution_count": 2,
   "id": "6f24ffab-14ab-4e4a-b1a9-6ebe3935b417",
   "metadata": {},
   "outputs": [],
   "source": [
    "a, b = 10, 5"
   ]
  },
  {
   "cell_type": "code",
   "execution_count": 3,
   "id": "f060f80d-6ca4-455e-8d4b-966e418866fb",
   "metadata": {},
   "outputs": [],
   "source": [
    "result = arithmetic_operations(a, b)"
   ]
  },
  {
   "cell_type": "code",
   "execution_count": 4,
   "id": "31bbb5a6-c80d-430d-9834-fe60fa8a42af",
   "metadata": {},
   "outputs": [
    {
     "name": "stdout",
     "output_type": "stream",
     "text": [
      "Addition:  15\n",
      "Subtraction:  5\n",
      "Multiplication:  50\n",
      "Division:  2.0\n"
     ]
    }
   ],
   "source": [
    "print(\"Addition: \", result[0])\n",
    "print(\"Subtraction: \", result[1])\n",
    "print(\"Multiplication: \", result[2])\n",
    "print(\"Division: \", result[3])"
   ]
  },
  {
   "cell_type": "code",
   "execution_count": null,
   "id": "77d0a4bc-7230-4675-9a0d-999f94d45fa0",
   "metadata": {},
   "outputs": [],
   "source": []
  }
 ],
 "metadata": {
  "kernelspec": {
   "display_name": "Python 3 (ipykernel)",
   "language": "python",
   "name": "python3"
  },
  "language_info": {
   "codemirror_mode": {
    "name": "ipython",
    "version": 3
   },
   "file_extension": ".py",
   "mimetype": "text/x-python",
   "name": "python",
   "nbconvert_exporter": "python",
   "pygments_lexer": "ipython3",
   "version": "3.10.9"
  }
 },
 "nbformat": 4,
 "nbformat_minor": 5
}
