{
 "cells": [
  {
   "cell_type": "code",
   "execution_count": 1,
   "id": "88289b8f-5aac-4fbb-bb95-5826db27fb64",
   "metadata": {},
   "outputs": [
    {
     "name": "stdout",
     "output_type": "stream",
     "text": [
      "global_x:  8\n"
     ]
    }
   ],
   "source": [
    "global_x = 8\n",
    "print(\"global_x: \", global_x)"
   ]
  },
  {
   "cell_type": "code",
   "execution_count": 4,
   "id": "714c1b44-3452-4b5f-bb2a-f8acead7d6e7",
   "metadata": {},
   "outputs": [],
   "source": [
    "def my_function(local_x):\n",
    "    print(\"local_x\", local_x)\n",
    "\n",
    "    global_x = 88\n",
    "    print(\"global_x: \", global_x)"
   ]
  },
  {
   "cell_type": "code",
   "execution_count": 5,
   "id": "80c6064c-8478-4ce0-91e5-78678e989baa",
   "metadata": {},
   "outputs": [
    {
     "name": "stdout",
     "output_type": "stream",
     "text": [
      "local_x 38\n",
      "global_x:  88\n"
     ]
    }
   ],
   "source": [
    "my_function(38)"
   ]
  },
  {
   "cell_type": "code",
   "execution_count": 6,
   "id": "aa9f5bfe-1b74-4103-b3af-ddc81e1b723b",
   "metadata": {},
   "outputs": [
    {
     "name": "stdout",
     "output_type": "stream",
     "text": [
      "global_x:  8\n"
     ]
    }
   ],
   "source": [
    "print(\"global_x: \", global_x)"
   ]
  },
  {
   "cell_type": "code",
   "execution_count": 7,
   "id": "0088f426-c411-412f-bf6e-9f2c84d48b55",
   "metadata": {},
   "outputs": [
    {
     "ename": "NameError",
     "evalue": "name 'local_x' is not defined",
     "output_type": "error",
     "traceback": [
      "\u001b[1;31m---------------------------------------------------------------------------\u001b[0m",
      "\u001b[1;31mNameError\u001b[0m                                 Traceback (most recent call last)",
      "Cell \u001b[1;32mIn[7], line 1\u001b[0m\n\u001b[1;32m----> 1\u001b[0m \u001b[38;5;28mprint\u001b[39m(\u001b[38;5;124m\"\u001b[39m\u001b[38;5;124mlocal_x\u001b[39m\u001b[38;5;124m\"\u001b[39m, \u001b[43mlocal_x\u001b[49m)\n",
      "\u001b[1;31mNameError\u001b[0m: name 'local_x' is not defined"
     ]
    }
   ],
   "source": [
    "print(\"local_x\", local_x)"
   ]
  },
  {
   "cell_type": "code",
   "execution_count": null,
   "id": "11761c48-adce-4d1f-9c7f-5c1b94f8b505",
   "metadata": {},
   "outputs": [],
   "source": []
  }
 ],
 "metadata": {
  "kernelspec": {
   "display_name": "Python 3 (ipykernel)",
   "language": "python",
   "name": "python3"
  },
  "language_info": {
   "codemirror_mode": {
    "name": "ipython",
    "version": 3
   },
   "file_extension": ".py",
   "mimetype": "text/x-python",
   "name": "python",
   "nbconvert_exporter": "python",
   "pygments_lexer": "ipython3",
   "version": "3.10.9"
  }
 },
 "nbformat": 4,
 "nbformat_minor": 5
}
