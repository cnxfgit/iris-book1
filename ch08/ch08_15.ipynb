{
 "cells": [
  {
   "cell_type": "code",
   "execution_count": 4,
   "id": "b46e798b-8374-44af-b2f6-d8b6381f0170",
   "metadata": {},
   "outputs": [],
   "source": [
    "def extract_main_diagonal(matrix):\n",
    "    rows = len(matrix)\n",
    "    cols = len(matrix[0])\n",
    "    size = min(rows, cols)\n",
    "    diagonal = [matrix[i][i] for i in range(size)]\n",
    "    return diagonal"
   ]
  },
  {
   "cell_type": "code",
   "execution_count": 5,
   "id": "6741c043-dde0-4db4-a1f1-1ee8674b33b1",
   "metadata": {},
   "outputs": [],
   "source": [
    "matrix = [[1,2,3],\n",
    "         [4,5,6]]"
   ]
  },
  {
   "cell_type": "code",
   "execution_count": 6,
   "id": "9e1a9426-5033-4264-af31-db5652f0bf89",
   "metadata": {},
   "outputs": [],
   "source": [
    "main_diagonal = extract_main_diagonal(matrix)"
   ]
  },
  {
   "cell_type": "code",
   "execution_count": 7,
   "id": "4fc77d04-8c0d-4ee6-a0e4-44f53d54d18e",
   "metadata": {},
   "outputs": [
    {
     "data": {
      "text/plain": [
       "[1, 5]"
      ]
     },
     "execution_count": 7,
     "metadata": {},
     "output_type": "execute_result"
    }
   ],
   "source": [
    "main_diagonal"
   ]
  },
  {
   "cell_type": "code",
   "execution_count": null,
   "id": "e2ebf23b-3527-4100-b342-37f98897c942",
   "metadata": {},
   "outputs": [],
   "source": []
  }
 ],
 "metadata": {
  "kernelspec": {
   "display_name": "Python 3 (ipykernel)",
   "language": "python",
   "name": "python3"
  },
  "language_info": {
   "codemirror_mode": {
    "name": "ipython",
    "version": 3
   },
   "file_extension": ".py",
   "mimetype": "text/x-python",
   "name": "python",
   "nbconvert_exporter": "python",
   "pygments_lexer": "ipython3",
   "version": "3.10.9"
  }
 },
 "nbformat": 4,
 "nbformat_minor": 5
}
