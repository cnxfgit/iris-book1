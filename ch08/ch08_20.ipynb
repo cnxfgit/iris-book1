{
 "cells": [
  {
   "cell_type": "code",
   "execution_count": 2,
   "id": "929c2c74-94f7-49d6-9b26-181598f5c423",
   "metadata": {},
   "outputs": [],
   "source": [
    "def inverse_2x2(matrix):\n",
    "    if len(matrix) != 2 or len(matrix[0]) != 2:\n",
    "        raise ValueError(\"Matrix must be 2x2\")\n",
    "\n",
    "    a = matrix[0][0]\n",
    "    b = matrix[0][1]\n",
    "    c = matrix[1][0]\n",
    "    d = matrix[1][1]\n",
    "\n",
    "    det = a * d - b * c\n",
    "    if det == 0:\n",
    "        raise ValueError(\"Matrix is not invertible\")\n",
    "\n",
    "    inv_det = 1 / det\n",
    "    inv_matrix = [[d * inv_det, -b * inv_det],\n",
    "                 [-c * inv_det, a * inv_det]]\n",
    "    return inv_matrix"
   ]
  },
  {
   "cell_type": "code",
   "execution_count": 3,
   "id": "03adf631-a658-41a5-8b2a-600f3825248d",
   "metadata": {},
   "outputs": [],
   "source": [
    "A = [[2,3],\n",
    "    [4,5]]"
   ]
  },
  {
   "cell_type": "code",
   "execution_count": 4,
   "id": "f7d4d2cb-7dbf-4d2d-84df-1b3b478dff07",
   "metadata": {},
   "outputs": [],
   "source": [
    "inv_matrix = inverse_2x2(A)"
   ]
  },
  {
   "cell_type": "code",
   "execution_count": 5,
   "id": "37a5329d-fa47-4074-a69c-228dcc065eff",
   "metadata": {},
   "outputs": [
    {
     "data": {
      "text/plain": [
       "[[-2.5, 1.5], [2.0, -1.0]]"
      ]
     },
     "execution_count": 5,
     "metadata": {},
     "output_type": "execute_result"
    }
   ],
   "source": [
    "inv_matrix"
   ]
  },
  {
   "cell_type": "code",
   "execution_count": null,
   "id": "2afe8d81-1dbe-41e9-a88d-5af8866e89ef",
   "metadata": {},
   "outputs": [],
   "source": []
  }
 ],
 "metadata": {
  "kernelspec": {
   "display_name": "Python 3 (ipykernel)",
   "language": "python",
   "name": "python3"
  },
  "language_info": {
   "codemirror_mode": {
    "name": "ipython",
    "version": 3
   },
   "file_extension": ".py",
   "mimetype": "text/x-python",
   "name": "python",
   "nbconvert_exporter": "python",
   "pygments_lexer": "ipython3",
   "version": "3.10.9"
  }
 },
 "nbformat": 4,
 "nbformat_minor": 5
}
