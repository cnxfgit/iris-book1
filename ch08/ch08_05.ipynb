{
 "cells": [
  {
   "cell_type": "code",
   "execution_count": 1,
   "id": "bafbad3c-be37-4808-837d-63cbc25576ad",
   "metadata": {},
   "outputs": [],
   "source": [
    "def greet(name, greeting='Hello'):\n",
    "    print(f\"{greeting}, {name}!\")"
   ]
  },
  {
   "cell_type": "code",
   "execution_count": 2,
   "id": "3cfb1c50-8618-40ee-9731-f521e323f904",
   "metadata": {},
   "outputs": [
    {
     "name": "stdout",
     "output_type": "stream",
     "text": [
      "Hello, James!\n"
     ]
    }
   ],
   "source": [
    "greet('James')"
   ]
  },
  {
   "cell_type": "code",
   "execution_count": 3,
   "id": "78591317-751a-45a3-b096-4a3a50679996",
   "metadata": {},
   "outputs": [
    {
     "name": "stdout",
     "output_type": "stream",
     "text": [
      "Good morning, James!\n"
     ]
    }
   ],
   "source": [
    "greet('James', 'Good morning')"
   ]
  },
  {
   "cell_type": "code",
   "execution_count": null,
   "id": "692184ba-7788-4b35-b99d-0e09b25619a4",
   "metadata": {},
   "outputs": [],
   "source": []
  }
 ],
 "metadata": {
  "kernelspec": {
   "display_name": "Python 3 (ipykernel)",
   "language": "python",
   "name": "python3"
  },
  "language_info": {
   "codemirror_mode": {
    "name": "ipython",
    "version": 3
   },
   "file_extension": ".py",
   "mimetype": "text/x-python",
   "name": "python",
   "nbconvert_exporter": "python",
   "pygments_lexer": "ipython3",
   "version": "3.10.9"
  }
 },
 "nbformat": 4,
 "nbformat_minor": 5
}
