{
 "cells": [
  {
   "cell_type": "code",
   "execution_count": 1,
   "id": "0aec4365-fc58-436d-a920-81ae9b077097",
   "metadata": {},
   "outputs": [
    {
     "data": {
      "text/plain": [
       "(4+3j)"
      ]
     },
     "execution_count": 1,
     "metadata": {},
     "output_type": "execute_result"
    }
   ],
   "source": [
    "complex(4, 3)"
   ]
  },
  {
   "cell_type": "code",
   "execution_count": 2,
   "id": "e5124505-a9f2-4fa6-bd20-9bd0187abf37",
   "metadata": {},
   "outputs": [
    {
     "data": {
      "text/plain": [
       "(3+4j)"
      ]
     },
     "execution_count": 2,
     "metadata": {},
     "output_type": "execute_result"
    }
   ],
   "source": [
    "complex(3, 4)"
   ]
  },
  {
   "cell_type": "code",
   "execution_count": 3,
   "id": "b0a2b85c-d541-4727-8b40-465c0719a0a0",
   "metadata": {},
   "outputs": [
    {
     "data": {
      "text/plain": [
       "(3+4j)"
      ]
     },
     "execution_count": 3,
     "metadata": {},
     "output_type": "execute_result"
    }
   ],
   "source": [
    "complex(real=3, imag=4)"
   ]
  },
  {
   "cell_type": "code",
   "execution_count": 4,
   "id": "b23f77d7-13a9-4453-a67a-5ca94c100243",
   "metadata": {},
   "outputs": [
    {
     "data": {
      "text/plain": [
       "(3+4j)"
      ]
     },
     "execution_count": 4,
     "metadata": {},
     "output_type": "execute_result"
    }
   ],
   "source": [
    "complex( imag=4,real=3,)"
   ]
  },
  {
   "cell_type": "code",
   "execution_count": null,
   "id": "e321af83-343a-4719-985b-b4a06bc71517",
   "metadata": {},
   "outputs": [],
   "source": []
  }
 ],
 "metadata": {
  "kernelspec": {
   "display_name": "Python 3 (ipykernel)",
   "language": "python",
   "name": "python3"
  },
  "language_info": {
   "codemirror_mode": {
    "name": "ipython",
    "version": 3
   },
   "file_extension": ".py",
   "mimetype": "text/x-python",
   "name": "python",
   "nbconvert_exporter": "python",
   "pygments_lexer": "ipython3",
   "version": "3.10.9"
  }
 },
 "nbformat": 4,
 "nbformat_minor": 5
}
