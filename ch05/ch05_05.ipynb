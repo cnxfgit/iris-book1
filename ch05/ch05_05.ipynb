{
 "cells": [
  {
   "cell_type": "code",
   "execution_count": 1,
   "id": "233b206b-a9b6-4ee9-a063-932a41a2c42d",
   "metadata": {},
   "outputs": [
    {
     "name": "stdout",
     "output_type": "stream",
     "text": [
      "字符串的长度是： 11\n"
     ]
    }
   ],
   "source": [
    "greeting_str = 'Hey, James!'\n",
    "print('字符串的长度是：', len(greeting_str))"
   ]
  },
  {
   "cell_type": "code",
   "execution_count": 2,
   "id": "711e3fe5-1020-46ff-b50c-22e5851d59ad",
   "metadata": {},
   "outputs": [
    {
     "name": "stdout",
     "output_type": "stream",
     "text": [
      "字符：H, 索引: 0\n",
      "字符：e, 索引: 1\n",
      "字符：y, 索引: 2\n",
      "字符：,, 索引: 3\n",
      "字符： , 索引: 4\n",
      "字符：J, 索引: 5\n",
      "字符：a, 索引: 6\n",
      "字符：m, 索引: 7\n",
      "字符：e, 索引: 8\n",
      "字符：s, 索引: 9\n",
      "字符：!, 索引: 10\n"
     ]
    }
   ],
   "source": [
    "for index, char in enumerate(greeting_str):\n",
    "    print(f\"字符：{char}, 索引: {index}\")"
   ]
  },
  {
   "cell_type": "code",
   "execution_count": 3,
   "id": "c78c5acf-1b6b-45bc-8fe1-d4f66e26ec10",
   "metadata": {},
   "outputs": [
    {
     "name": "stdout",
     "output_type": "stream",
     "text": [
      "H\n",
      "e\n"
     ]
    }
   ],
   "source": [
    "print(greeting_str[0])\n",
    "print(greeting_str[1])"
   ]
  },
  {
   "cell_type": "code",
   "execution_count": 4,
   "id": "23e15a77-ed34-4183-88fe-2e3462ff161a",
   "metadata": {},
   "outputs": [
    {
     "name": "stdout",
     "output_type": "stream",
     "text": [
      "!\n",
      "s\n"
     ]
    }
   ],
   "source": [
    "print(greeting_str[-1])\n",
    "print(greeting_str[-2])"
   ]
  },
  {
   "cell_type": "code",
   "execution_count": 5,
   "id": "730ce4b8-8cf6-4dff-9558-5c7e05c12e8c",
   "metadata": {},
   "outputs": [
    {
     "name": "stdout",
     "output_type": "stream",
     "text": [
      "Hey\n"
     ]
    }
   ],
   "source": [
    "print(greeting_str[:3])"
   ]
  },
  {
   "cell_type": "code",
   "execution_count": 6,
   "id": "55e4108a-345d-4cc2-9d95-e099add4ec51",
   "metadata": {},
   "outputs": [
    {
     "name": "stdout",
     "output_type": "stream",
     "text": [
      "ey, J\n"
     ]
    }
   ],
   "source": [
    "print(greeting_str[1:6])"
   ]
  },
  {
   "cell_type": "code",
   "execution_count": 7,
   "id": "8a888d22-d760-46fd-8bbc-cef848c78dbc",
   "metadata": {},
   "outputs": [
    {
     "name": "stdout",
     "output_type": "stream",
     "text": [
      "Hy ae!\n"
     ]
    }
   ],
   "source": [
    "print(greeting_str[::2])"
   ]
  },
  {
   "cell_type": "code",
   "execution_count": 8,
   "id": "833c42c7-9fb0-4ca6-87e2-71a0a1b54057",
   "metadata": {},
   "outputs": [
    {
     "name": "stdout",
     "output_type": "stream",
     "text": [
      "!semaJ ,yeH\n"
     ]
    }
   ],
   "source": [
    "print(greeting_str[::-1])"
   ]
  },
  {
   "cell_type": "code",
   "execution_count": 9,
   "id": "2a11fefc-0bf1-4159-bb57-d67d0fa5cc45",
   "metadata": {},
   "outputs": [
    {
     "name": "stdout",
     "output_type": "stream",
     "text": [
      "13\n"
     ]
    }
   ],
   "source": [
    "string = \"Hello, James!\"\n",
    "length = len(string)\n",
    "print(length)"
   ]
  },
  {
   "cell_type": "code",
   "execution_count": 10,
   "id": "87659d30-47d5-4ab3-ab47-da01bc49ffe5",
   "metadata": {},
   "outputs": [
    {
     "name": "stdout",
     "output_type": "stream",
     "text": [
      "hello, james!\n",
      "HELLO, JAMES!\n"
     ]
    }
   ],
   "source": [
    "string = \"Hello, James!\"\n",
    "lower_string = string.lower()\n",
    "upper_string = string.upper()\n",
    "print(lower_string)\n",
    "print(upper_string)"
   ]
  },
  {
   "cell_type": "code",
   "execution_count": null,
   "id": "bed57b32-47b3-4372-9a4e-fbe6e3c38f52",
   "metadata": {},
   "outputs": [],
   "source": []
  }
 ],
 "metadata": {
  "kernelspec": {
   "display_name": "Python 3 (ipykernel)",
   "language": "python",
   "name": "python3"
  },
  "language_info": {
   "codemirror_mode": {
    "name": "ipython",
    "version": 3
   },
   "file_extension": ".py",
   "mimetype": "text/x-python",
   "name": "python",
   "nbconvert_exporter": "python",
   "pygments_lexer": "ipython3",
   "version": "3.10.9"
  }
 },
 "nbformat": 4,
 "nbformat_minor": 5
}
