{
 "cells": [
  {
   "cell_type": "code",
   "execution_count": 1,
   "id": "2f87e4eb-1ce3-4187-8b48-eb61f8cbb0d7",
   "metadata": {},
   "outputs": [
    {
     "name": "stdout",
     "output_type": "stream",
     "text": [
      "I am learning Python 101!\n",
      "25\n"
     ]
    }
   ],
   "source": [
    "str1 = 'I am learning Python 101!'\n",
    "print(str1)\n",
    "print(len(str1))"
   ]
  },
  {
   "cell_type": "code",
   "execution_count": 2,
   "id": "12e4cbb2-c8ba-4c24-aced-265ab8ed30f8",
   "metadata": {},
   "outputs": [
    {
     "name": "stdout",
     "output_type": "stream",
     "text": [
      "Python is fun. Machine learning is fun too.\n",
      "43\n"
     ]
    }
   ],
   "source": [
    "str2 = \"Python is fun. Machine learning is fun too.\"\n",
    "print(str2)\n",
    "print(len(str2))"
   ]
  },
  {
   "cell_type": "code",
   "execution_count": 3,
   "id": "e0c6a8e8-8fec-4f24-92c5-270fd2b85670",
   "metadata": {},
   "outputs": [
    {
     "name": "stdout",
     "output_type": "stream",
     "text": [
      "Hey, James!\n",
      "11\n"
     ]
    }
   ],
   "source": [
    "str4 = 'Hey, ' + 'James!'\n",
    "print(str4)\n",
    "print(len(str4))"
   ]
  },
  {
   "cell_type": "code",
   "execution_count": 4,
   "id": "dc9e4940-cf0d-4a58-92fb-41ae0d0d8a5c",
   "metadata": {},
   "outputs": [
    {
     "name": "stdout",
     "output_type": "stream",
     "text": [
      "Python is FUN! Python is FUN! Python is FUN! \n",
      "45\n"
     ]
    }
   ],
   "source": [
    "str5 = 'Python is FUN! '\n",
    "str6 = str5 * 3\n",
    "print(str6)\n",
    "print(len(str6))"
   ]
  },
  {
   "cell_type": "code",
   "execution_count": 5,
   "id": "d7b841fc-d137-40b8-a646-83d16e1aa21d",
   "metadata": {},
   "outputs": [
    {
     "name": "stdout",
     "output_type": "stream",
     "text": [
      "123123123\n",
      "9\n"
     ]
    }
   ],
   "source": [
    "str7 = '123'\n",
    "str8 = str7 * 3\n",
    "print(str8)\n",
    "print(len(str8))"
   ]
  },
  {
   "cell_type": "code",
   "execution_count": 6,
   "id": "39adcda0-d18f-4eca-bbca-b4f39f39c376",
   "metadata": {},
   "outputs": [
    {
     "name": "stdout",
     "output_type": "stream",
     "text": [
      "123456\n",
      "<class 'str'>\n",
      "6\n"
     ]
    }
   ],
   "source": [
    "str9 = '456'\n",
    "str10 = str7 + str9\n",
    "print(str10)\n",
    "print(type(str10))\n",
    "print(len(str10))"
   ]
  },
  {
   "cell_type": "code",
   "execution_count": null,
   "id": "35f3e8b8-8ba4-44d1-abb4-dd4bb521b999",
   "metadata": {},
   "outputs": [],
   "source": []
  }
 ],
 "metadata": {
  "kernelspec": {
   "display_name": "Python 3 (ipykernel)",
   "language": "python",
   "name": "python3"
  },
  "language_info": {
   "codemirror_mode": {
    "name": "ipython",
    "version": 3
   },
   "file_extension": ".py",
   "mimetype": "text/x-python",
   "name": "python",
   "nbconvert_exporter": "python",
   "pygments_lexer": "ipython3",
   "version": "3.10.9"
  }
 },
 "nbformat": 4,
 "nbformat_minor": 5
}
