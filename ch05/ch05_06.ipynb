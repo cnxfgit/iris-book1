{
 "cells": [
  {
   "cell_type": "code",
   "execution_count": 1,
   "id": "e1fbed7f-3520-45d9-86d1-d52e65653b15",
   "metadata": {},
   "outputs": [],
   "source": [
    "name = 'James'\n",
    "height = 181.18"
   ]
  },
  {
   "cell_type": "code",
   "execution_count": 2,
   "id": "a98793e8-beb9-4162-9956-d0640638244e",
   "metadata": {},
   "outputs": [
    {
     "name": "stdout",
     "output_type": "stream",
     "text": [
      "James has a height of 181.18 cm.\n"
     ]
    }
   ],
   "source": [
    "str_1 = name + ' has a height of ' + str(height) + ' cm.'\n",
    "print(str_1)"
   ]
  },
  {
   "cell_type": "code",
   "execution_count": 3,
   "id": "e8ef2aad-0aad-4634-8024-5e5f9efd0df3",
   "metadata": {},
   "outputs": [
    {
     "name": "stdout",
     "output_type": "stream",
     "text": [
      "James has a height of 181.180 cm.\n"
     ]
    }
   ],
   "source": [
    "str_2 = '%s has a height of %.3f cm.' %(name, height)\n",
    "print(str_2)"
   ]
  },
  {
   "cell_type": "code",
   "execution_count": 4,
   "id": "429270bd-55b7-48ea-9011-fb69447e94c3",
   "metadata": {},
   "outputs": [
    {
     "name": "stdout",
     "output_type": "stream",
     "text": [
      "James has a height of 181.180 cm.\n"
     ]
    }
   ],
   "source": [
    "str_3 = '{} has a height of {:.3f} cm.'.format(name, height)\n",
    "print(str_3)"
   ]
  },
  {
   "cell_type": "code",
   "execution_count": 5,
   "id": "446ab664-c6d2-4c0c-93d2-c3290a4cec3d",
   "metadata": {},
   "outputs": [
    {
     "name": "stdout",
     "output_type": "stream",
     "text": [
      "James has a height of 181.180 cm.\n"
     ]
    }
   ],
   "source": [
    "str_4 = f'{name} has a height of {height:.3f} cm.'\n",
    "print(str_4)"
   ]
  },
  {
   "cell_type": "code",
   "execution_count": null,
   "id": "ee6f4c20-f30a-4270-8b5e-598495837d49",
   "metadata": {},
   "outputs": [],
   "source": []
  }
 ],
 "metadata": {
  "kernelspec": {
   "display_name": "Python 3 (ipykernel)",
   "language": "python",
   "name": "python3"
  },
  "language_info": {
   "codemirror_mode": {
    "name": "ipython",
    "version": 3
   },
   "file_extension": ".py",
   "mimetype": "text/x-python",
   "name": "python",
   "nbconvert_exporter": "python",
   "pygments_lexer": "ipython3",
   "version": "3.10.9"
  }
 },
 "nbformat": 4,
 "nbformat_minor": 5
}
