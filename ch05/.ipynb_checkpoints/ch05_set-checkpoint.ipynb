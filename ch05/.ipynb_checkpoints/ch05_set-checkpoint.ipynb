{
 "cells": [
  {
   "cell_type": "code",
   "execution_count": 2,
   "id": "12b9f193-e6c1-4a30-89dd-16f0b61b8f5a",
   "metadata": {},
   "outputs": [],
   "source": [
    "number_set = {1,2,3,4,5}\n",
    "word_set = set([\"apple\", \"banana\", \"orange\"])"
   ]
  },
  {
   "cell_type": "code",
   "execution_count": 3,
   "id": "01aae829-e0bb-4905-9faf-23c57a9a2c31",
   "metadata": {},
   "outputs": [
    {
     "name": "stdout",
     "output_type": "stream",
     "text": [
      "{1, 2, 3, 4, 5}\n",
      "{'banana', 'apple', 'orange'}\n"
     ]
    }
   ],
   "source": [
    "print(number_set)\n",
    "print(word_set)"
   ]
  },
  {
   "cell_type": "code",
   "execution_count": 6,
   "id": "1297a380-8560-426b-8598-2dc3663e17ee",
   "metadata": {},
   "outputs": [
    {
     "name": "stdout",
     "output_type": "stream",
     "text": [
      "{'banana', 'apple', 'orange'}\n",
      "{'grape', 'banana', 'apple', 'kiwi', 'orange'}\n"
     ]
    }
   ],
   "source": [
    "fruit_set = set([\"apple\", \"banana\"])\n",
    "fruit_set.add(\"orange\")\n",
    "print(fruit_set)\n",
    "fruit_set.update([\"grape\", \"kiwi\"])\n",
    "print(fruit_set)"
   ]
  },
  {
   "cell_type": "code",
   "execution_count": 7,
   "id": "e3ec0b32-974e-449e-b272-1037eb103ed5",
   "metadata": {},
   "outputs": [
    {
     "name": "stdout",
     "output_type": "stream",
     "text": [
      "{'grape', 'apple', 'kiwi', 'orange'}\n",
      "{'grape', 'apple', 'kiwi'}\n"
     ]
    }
   ],
   "source": [
    "fruit_set.remove(\"banana\")\n",
    "print(fruit_set)\n",
    "fruit_set.discard(\"orange\")\n",
    "print(fruit_set)"
   ]
  },
  {
   "cell_type": "code",
   "execution_count": 8,
   "id": "34a3b4bc-8659-4633-b03a-57dad1e48399",
   "metadata": {},
   "outputs": [
    {
     "name": "stdout",
     "output_type": "stream",
     "text": [
      "{1, 2, 3, 4}\n",
      "{3, 4, 5, 6}\n"
     ]
    }
   ],
   "source": [
    "set1 = {1,2,3,4}\n",
    "set2 = {3,4,5,6}\n",
    "print(set1)\n",
    "print(set2)"
   ]
  },
  {
   "cell_type": "code",
   "execution_count": 9,
   "id": "43aa9a48-809b-442c-abc3-07567ae0738c",
   "metadata": {},
   "outputs": [],
   "source": [
    "set3 = set1 & set2\n",
    "set4 = set1 | set2\n",
    "set5 = set1 - set2"
   ]
  },
  {
   "cell_type": "code",
   "execution_count": 10,
   "id": "64704181-d363-460b-880e-b9d1add9df24",
   "metadata": {},
   "outputs": [
    {
     "name": "stdout",
     "output_type": "stream",
     "text": [
      "{3, 4}\n",
      "{1, 2, 3, 4, 5, 6}\n",
      "{1, 2}\n"
     ]
    }
   ],
   "source": [
    "print(set3)\n",
    "print(set4)\n",
    "print(set5)"
   ]
  },
  {
   "cell_type": "code",
   "execution_count": null,
   "id": "214be20d-e3ba-43ed-9137-ef17c61021dc",
   "metadata": {},
   "outputs": [],
   "source": []
  }
 ],
 "metadata": {
  "kernelspec": {
   "display_name": "Python 3 (ipykernel)",
   "language": "python",
   "name": "python3"
  },
  "language_info": {
   "codemirror_mode": {
    "name": "ipython",
    "version": 3
   },
   "file_extension": ".py",
   "mimetype": "text/x-python",
   "name": "python",
   "nbconvert_exporter": "python",
   "pygments_lexer": "ipython3",
   "version": "3.10.9"
  }
 },
 "nbformat": 4,
 "nbformat_minor": 5
}
