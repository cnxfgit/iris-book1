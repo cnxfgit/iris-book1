{
 "cells": [
  {
   "cell_type": "code",
   "execution_count": 1,
   "id": "68777211-2b6c-4361-b1a3-d2ee7193c82b",
   "metadata": {},
   "outputs": [],
   "source": [
    "A = [[0,5],\n",
    "     [3,4],\n",
    "     [5,0]]"
   ]
  },
  {
   "cell_type": "code",
   "execution_count": 2,
   "id": "571947d2-c00a-4d9b-afea-67b5e091af9f",
   "metadata": {},
   "outputs": [
    {
     "name": "stdout",
     "output_type": "stream",
     "text": [
      "[0, 5]\n",
      "[[0, 5]]\n"
     ]
    }
   ],
   "source": [
    "print(A[0])\n",
    "print([A[0]])"
   ]
  },
  {
   "cell_type": "code",
   "execution_count": 3,
   "id": "1099fce5-c181-43af-a4f9-c3f306c07480",
   "metadata": {},
   "outputs": [
    {
     "name": "stdout",
     "output_type": "stream",
     "text": [
      "[3, 4]\n",
      "[[3, 4]]\n"
     ]
    }
   ],
   "source": [
    "print(A[1])\n",
    "print([A[1]])"
   ]
  },
  {
   "cell_type": "code",
   "execution_count": 4,
   "id": "98f6efbe-f15b-42dd-9389-21fdb5fb4221",
   "metadata": {},
   "outputs": [
    {
     "name": "stdout",
     "output_type": "stream",
     "text": [
      "[5, 0]\n",
      "[[5, 0]]\n"
     ]
    }
   ],
   "source": [
    "print(A[2])\n",
    "print([A[2]])"
   ]
  },
  {
   "cell_type": "code",
   "execution_count": 6,
   "id": "389e514a-72b2-49f0-9434-38b0f02f98fb",
   "metadata": {},
   "outputs": [
    {
     "name": "stdout",
     "output_type": "stream",
     "text": [
      "[0, 3, 5]\n",
      "[[0], [3], [5]]\n"
     ]
    }
   ],
   "source": [
    "print([row[0] for row in A])\n",
    "print([[row[0]] for row in A])"
   ]
  },
  {
   "cell_type": "code",
   "execution_count": 7,
   "id": "68c579bc-0190-42d6-91f4-27d68f5f836a",
   "metadata": {},
   "outputs": [
    {
     "name": "stdout",
     "output_type": "stream",
     "text": [
      "[5, 4, 0]\n",
      "[[5], [4], [0]]\n"
     ]
    }
   ],
   "source": [
    "print([row[1] for row in A])\n",
    "print([[row[1]] for row in A])"
   ]
  },
  {
   "cell_type": "code",
   "execution_count": null,
   "id": "b28a15a0-47ca-45b9-afd2-58531714e122",
   "metadata": {},
   "outputs": [],
   "source": []
  }
 ],
 "metadata": {
  "kernelspec": {
   "display_name": "Python 3 (ipykernel)",
   "language": "python",
   "name": "python3"
  },
  "language_info": {
   "codemirror_mode": {
    "name": "ipython",
    "version": 3
   },
   "file_extension": ".py",
   "mimetype": "text/x-python",
   "name": "python",
   "nbconvert_exporter": "python",
   "pygments_lexer": "ipython3",
   "version": "3.10.9"
  }
 },
 "nbformat": 4,
 "nbformat_minor": 5
}
