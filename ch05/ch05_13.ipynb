{
 "cells": [
  {
   "cell_type": "code",
   "execution_count": 1,
   "id": "e67e34d2-cf4d-4113-8e31-a2f925e3845a",
   "metadata": {},
   "outputs": [
    {
     "name": "stdout",
     "output_type": "stream",
     "text": [
      "['b', 'c']\n"
     ]
    }
   ],
   "source": [
    "string_0 = 'abcd'\n",
    "first, *str_rest, last = string_0\n",
    "print(str_rest)"
   ]
  },
  {
   "cell_type": "code",
   "execution_count": 3,
   "id": "c778aedc-8ec1-4171-bf68-029948e8ac53",
   "metadata": {},
   "outputs": [
    {
     "name": "stdout",
     "output_type": "stream",
     "text": [
      "[2, 3]\n"
     ]
    }
   ],
   "source": [
    "tuple_0 = (1,2,3,4)\n",
    "first, *tuple_rest, last = tuple_0\n",
    "print(tuple_rest)"
   ]
  }
 ],
 "metadata": {
  "kernelspec": {
   "display_name": "Python 3 (ipykernel)",
   "language": "python",
   "name": "python3"
  },
  "language_info": {
   "codemirror_mode": {
    "name": "ipython",
    "version": 3
   },
   "file_extension": ".py",
   "mimetype": "text/x-python",
   "name": "python",
   "nbconvert_exporter": "python",
   "pygments_lexer": "ipython3",
   "version": "3.10.9"
  }
 },
 "nbformat": 4,
 "nbformat_minor": 5
}
