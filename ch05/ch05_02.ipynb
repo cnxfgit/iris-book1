{
 "cells": [
  {
   "cell_type": "code",
   "execution_count": 1,
   "id": "7ed1742f-217d-45c2-a2f5-fa73dab858fe",
   "metadata": {},
   "outputs": [],
   "source": [
    "x = 88.8\n",
    "y = 8"
   ]
  },
  {
   "cell_type": "code",
   "execution_count": 2,
   "id": "8dfd13f7-f065-4832-85e5-e4e3d0a6f070",
   "metadata": {},
   "outputs": [
    {
     "name": "stdout",
     "output_type": "stream",
     "text": [
      "88\n"
     ]
    }
   ],
   "source": [
    "x_to_int = int(x)\n",
    "print(x_to_int)"
   ]
  },
  {
   "cell_type": "code",
   "execution_count": 3,
   "id": "2ededb1a-9090-4701-86d4-545903b2f87f",
   "metadata": {},
   "outputs": [
    {
     "name": "stdout",
     "output_type": "stream",
     "text": [
      "8.0\n"
     ]
    }
   ],
   "source": [
    "y_to_float = float(y)\n",
    "print(y_to_float)"
   ]
  },
  {
   "cell_type": "code",
   "execution_count": 4,
   "id": "227460d4-aa87-4333-9efc-0ce817a16573",
   "metadata": {},
   "outputs": [
    {
     "name": "stdout",
     "output_type": "stream",
     "text": [
      "(8+0j)\n"
     ]
    }
   ],
   "source": [
    "y_to_complex = complex(y)\n",
    "print(y_to_complex)"
   ]
  },
  {
   "cell_type": "code",
   "execution_count": 5,
   "id": "ea004347-ba25-4cd6-9bae-d00972e05ce5",
   "metadata": {},
   "outputs": [
    {
     "name": "stdout",
     "output_type": "stream",
     "text": [
      "88.8\n"
     ]
    }
   ],
   "source": [
    "x_to_str = str(x)\n",
    "print(x_to_str)"
   ]
  }
 ],
 "metadata": {
  "kernelspec": {
   "display_name": "Python 3 (ipykernel)",
   "language": "python",
   "name": "python3"
  },
  "language_info": {
   "codemirror_mode": {
    "name": "ipython",
    "version": 3
   },
   "file_extension": ".py",
   "mimetype": "text/x-python",
   "name": "python",
   "nbconvert_exporter": "python",
   "pygments_lexer": "ipython3",
   "version": "3.10.9"
  }
 },
 "nbformat": 4,
 "nbformat_minor": 5
}
