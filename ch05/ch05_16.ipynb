{
 "cells": [
  {
   "cell_type": "code",
   "execution_count": 1,
   "id": "78491ab3-901a-49ad-8331-b59e3417e855",
   "metadata": {},
   "outputs": [],
   "source": [
    "person = {'name': 'James', 'age': 88, 'gender': 'male'}"
   ]
  },
  {
   "cell_type": "code",
   "execution_count": 2,
   "id": "fb8c05ab-1e74-477a-a7c2-d24a6e516820",
   "metadata": {},
   "outputs": [],
   "source": [
    "fruits = dict(apple=88, banana=888, cherry=8888)"
   ]
  },
  {
   "cell_type": "code",
   "execution_count": 3,
   "id": "6ce2e7bb-032b-470e-b087-2e32e58bed28",
   "metadata": {},
   "outputs": [
    {
     "name": "stdout",
     "output_type": "stream",
     "text": [
      "James\n",
      "8888\n"
     ]
    }
   ],
   "source": [
    "print(person['name'])\n",
    "print(fruits['cherry'])"
   ]
  },
  {
   "cell_type": "code",
   "execution_count": 4,
   "id": "adfbc3df-eaf5-4b0b-b1c5-545f08c79e79",
   "metadata": {},
   "outputs": [
    {
     "name": "stdout",
     "output_type": "stream",
     "text": [
      "{'name': 'James', 'age': 28, 'gender': 'male'}\n"
     ]
    }
   ],
   "source": [
    "person['age'] = 28\n",
    "print(person)"
   ]
  },
  {
   "cell_type": "code",
   "execution_count": 5,
   "id": "08bebfb7-eb66-4a79-b04b-12911f1a0ffd",
   "metadata": {},
   "outputs": [
    {
     "name": "stdout",
     "output_type": "stream",
     "text": [
      "{'name': 'James', 'age': 28, 'gender': 'male', 'city': 'Toronto'}\n"
     ]
    }
   ],
   "source": [
    "person['city'] = 'Toronto'\n",
    "print(person)"
   ]
  },
  {
   "cell_type": "code",
   "execution_count": 6,
   "id": "72a8c3dd-2f9f-4cc3-9789-2cc19375c8cf",
   "metadata": {},
   "outputs": [
    {
     "name": "stdout",
     "output_type": "stream",
     "text": [
      "{'name': 'James', 'age': 28, 'city': 'Toronto'}\n"
     ]
    }
   ],
   "source": [
    "del person['gender']\n",
    "print(person)"
   ]
  },
  {
   "cell_type": "code",
   "execution_count": 7,
   "id": "ed6f0256-d494-499f-8e16-fe9b4c0456e4",
   "metadata": {},
   "outputs": [
    {
     "name": "stdout",
     "output_type": "stream",
     "text": [
      "dict_keys(['name', 'age', 'city'])\n",
      "dict_values(['James', 28, 'Toronto'])\n",
      "dict_items([('name', 'James'), ('age', 28), ('city', 'Toronto')])\n"
     ]
    }
   ],
   "source": [
    "print(person.keys())\n",
    "print(person.values())\n",
    "print(person.items())"
   ]
  }
 ],
 "metadata": {
  "kernelspec": {
   "display_name": "Python 3 (ipykernel)",
   "language": "python",
   "name": "python3"
  },
  "language_info": {
   "codemirror_mode": {
    "name": "ipython",
    "version": 3
   },
   "file_extension": ".py",
   "mimetype": "text/x-python",
   "name": "python",
   "nbconvert_exporter": "python",
   "pygments_lexer": "ipython3",
   "version": "3.10.9"
  }
 },
 "nbformat": 4,
 "nbformat_minor": 5
}
