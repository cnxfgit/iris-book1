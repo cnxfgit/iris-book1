{
 "cells": [
  {
   "cell_type": "code",
   "execution_count": 1,
   "id": "d3ecac05-5ace-412b-8d21-de9926977e9b",
   "metadata": {},
   "outputs": [
    {
     "name": "stdout",
     "output_type": "stream",
     "text": [
      "[1, 1.0, '12ab', True, [1, 1.0, '1'], {1}, {1: 1.0}]\n"
     ]
    }
   ],
   "source": [
    "my_list = [1, 1.0, '12ab', True, [1, 1.0, '1'], {1}, {1: 1.0}]\n",
    "print(my_list)"
   ]
  },
  {
   "cell_type": "code",
   "execution_count": 2,
   "id": "df6f39a1-75f9-40a3-9d69-f6c1b0194bec",
   "metadata": {},
   "outputs": [
    {
     "name": "stdout",
     "output_type": "stream",
     "text": [
      "[1, 1.0, '123', True, [1, 1.0, '1'], {1}, {1: 1.0}]\n"
     ]
    }
   ],
   "source": [
    "my_list[2] = '123'\n",
    "print(my_list)"
   ]
  },
  {
   "cell_type": "code",
   "execution_count": 3,
   "id": "b5430571-4cf3-480a-aaf2-10aff2faad4f",
   "metadata": {},
   "outputs": [
    {
     "name": "stdout",
     "output_type": "stream",
     "text": [
      "[1, 1.0, '123', True, [1, 1.0, '1'], {1}, {1: 1.0}, 'tail']\n"
     ]
    }
   ],
   "source": [
    "my_list.append('tail')\n",
    "print(my_list)"
   ]
  },
  {
   "cell_type": "code",
   "execution_count": 4,
   "id": "b912e4fd-ddaf-41e6-ba16-c5e7acc5c4b6",
   "metadata": {},
   "outputs": [
    {
     "name": "stdout",
     "output_type": "stream",
     "text": [
      "[1, 1.0, '123', True, [1, 1.0, '1'], {1}, {1: 1.0}]\n"
     ]
    }
   ],
   "source": [
    "del my_list[-1]\n",
    "print(my_list)"
   ]
  },
  {
   "cell_type": "code",
   "execution_count": 5,
   "id": "b47e409f-4ecc-4539-8975-7fe7a4c3b58a",
   "metadata": {},
   "outputs": [
    {
     "name": "stdout",
     "output_type": "stream",
     "text": [
      "[1, 1.0, True, [1, 1.0, '1'], {1}, {1: 1.0}]\n"
     ]
    }
   ],
   "source": [
    "my_list.remove('123')\n",
    "print(my_list)"
   ]
  },
  {
   "cell_type": "code",
   "execution_count": 6,
   "id": "1eb4adf5-d3dd-4dff-8b7b-706a4b0e55ec",
   "metadata": {},
   "outputs": [
    {
     "name": "stdout",
     "output_type": "stream",
     "text": [
      "No\n"
     ]
    }
   ],
   "source": [
    "if '123' in my_list:\n",
    "    print('Yes')\n",
    "else:\n",
    "    print('No')"
   ]
  },
  {
   "cell_type": "code",
   "execution_count": 7,
   "id": "93ffc53d-01be-4b92-9e43-80d7dae66be6",
   "metadata": {},
   "outputs": [
    {
     "name": "stdout",
     "output_type": "stream",
     "text": [
      "[{1: 1.0}, {1}, [1, 1.0, '1'], True, 1.0, 1]\n"
     ]
    }
   ],
   "source": [
    "my_list.reverse()\n",
    "print(my_list)"
   ]
  },
  {
   "cell_type": "code",
   "execution_count": 8,
   "id": "d9bdcb87-4b48-4740-a667-f9d49ce1ca8b",
   "metadata": {},
   "outputs": [
    {
     "name": "stdout",
     "output_type": "stream",
     "text": [
      "J_a_m_e_s\n"
     ]
    }
   ],
   "source": [
    "letters = ['J', 'a', 'm', 'e', 's']\n",
    "word = '_'.join(letters)\n",
    "print(word)"
   ]
  },
  {
   "cell_type": "code",
   "execution_count": null,
   "id": "f1b8d620-e9f8-4fd8-bea0-6d35f74ccced",
   "metadata": {},
   "outputs": [],
   "source": []
  }
 ],
 "metadata": {
  "kernelspec": {
   "display_name": "Python 3 (ipykernel)",
   "language": "python",
   "name": "python3"
  },
  "language_info": {
   "codemirror_mode": {
    "name": "ipython",
    "version": 3
   },
   "file_extension": ".py",
   "mimetype": "text/x-python",
   "name": "python",
   "nbconvert_exporter": "python",
   "pygments_lexer": "ipython3",
   "version": "3.10.9"
  }
 },
 "nbformat": 4,
 "nbformat_minor": 5
}
