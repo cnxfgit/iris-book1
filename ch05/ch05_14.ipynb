{
 "cells": [
  {
   "cell_type": "code",
   "execution_count": 1,
   "id": "ffdfd157-eec3-4eaa-8266-3bb81436fb5f",
   "metadata": {},
   "outputs": [],
   "source": [
    "list1 = [1,2,3,4]"
   ]
  },
  {
   "cell_type": "code",
   "execution_count": 2,
   "id": "e3895fae-7aed-4d1c-ac56-06191eed2ccf",
   "metadata": {},
   "outputs": [],
   "source": [
    "list2 = list1"
   ]
  },
  {
   "cell_type": "code",
   "execution_count": 4,
   "id": "668d7806-bf45-4bd4-a1cf-4d4ef2a715d4",
   "metadata": {},
   "outputs": [],
   "source": [
    "list3 = list1.copy()"
   ]
  },
  {
   "cell_type": "code",
   "execution_count": 5,
   "id": "5dadb058-c6ad-41ee-bffc-1c7bede511c6",
   "metadata": {},
   "outputs": [],
   "source": [
    "list2[0] = 'a'\n",
    "list2[1] = 'b'\n",
    "list2[2] = 'c'\n",
    "list2[3] = 'd'"
   ]
  },
  {
   "cell_type": "code",
   "execution_count": 6,
   "id": "43aefbcf-70fa-4cfe-a1b5-110611df16dc",
   "metadata": {},
   "outputs": [
    {
     "name": "stdout",
     "output_type": "stream",
     "text": [
      "['a', 'b', 'c', 'd']\n",
      "['a', 'b', 'c', 'd']\n",
      "[1, 2, 3, 4]\n"
     ]
    }
   ],
   "source": [
    "print(list1)\n",
    "print(list2)\n",
    "print(list3)"
   ]
  },
  {
   "cell_type": "code",
   "execution_count": null,
   "id": "1aed5f62-16a5-495f-8ca5-23a508b56f28",
   "metadata": {},
   "outputs": [],
   "source": []
  }
 ],
 "metadata": {
  "kernelspec": {
   "display_name": "Python 3 (ipykernel)",
   "language": "python",
   "name": "python3"
  },
  "language_info": {
   "codemirror_mode": {
    "name": "ipython",
    "version": 3
   },
   "file_extension": ".py",
   "mimetype": "text/x-python",
   "name": "python",
   "nbconvert_exporter": "python",
   "pygments_lexer": "ipython3",
   "version": "3.10.9"
  }
 },
 "nbformat": 4,
 "nbformat_minor": 5
}
