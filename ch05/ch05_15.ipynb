{
 "cells": [
  {
   "cell_type": "code",
   "execution_count": 1,
   "id": "d06651d2-e65a-4c2a-a63d-d66a935be840",
   "metadata": {},
   "outputs": [],
   "source": [
    "import copy"
   ]
  },
  {
   "cell_type": "code",
   "execution_count": 2,
   "id": "7e7f3500-d35b-4803-8064-b61c17d3acc9",
   "metadata": {},
   "outputs": [
    {
     "name": "stdout",
     "output_type": "stream",
     "text": [
      "原始list:  [1, 2, 3, [4, 5]]\n"
     ]
    }
   ],
   "source": [
    "list1 = [1,2,3,[4,5]]\n",
    "print('原始list: ', list1)"
   ]
  },
  {
   "cell_type": "code",
   "execution_count": 3,
   "id": "4806a9b7-bc12-48ce-acbd-428e9afed63c",
   "metadata": {},
   "outputs": [],
   "source": [
    "list_deep = copy.deepcopy(list1)"
   ]
  },
  {
   "cell_type": "code",
   "execution_count": 4,
   "id": "110640c2-e5fa-4f28-b192-c5c1ccc6b433",
   "metadata": {},
   "outputs": [],
   "source": [
    "list2 = list1.copy()"
   ]
  },
  {
   "cell_type": "code",
   "execution_count": 5,
   "id": "9c242de8-3dd0-4bd6-88aa-11d77e7962bc",
   "metadata": {},
   "outputs": [],
   "source": [
    "list3 = list1[:]"
   ]
  },
  {
   "cell_type": "code",
   "execution_count": 6,
   "id": "6e954833-5a28-4fa3-a4b7-09999372762a",
   "metadata": {},
   "outputs": [],
   "source": [
    "list4 = list(list1)"
   ]
  },
  {
   "cell_type": "code",
   "execution_count": 7,
   "id": "bb408cfc-3102-4ca1-a9a2-ddd0709f6dbe",
   "metadata": {},
   "outputs": [],
   "source": [
    "list5 = [*list1]"
   ]
  },
  {
   "cell_type": "code",
   "execution_count": 10,
   "id": "96d56308-d148-4bc3-b5e7-1c9c949fd01e",
   "metadata": {},
   "outputs": [],
   "source": [
    "list_deep[3][0] = 'deep'\n",
    "list_deep[2] = 'worked_0'"
   ]
  },
  {
   "cell_type": "code",
   "execution_count": 11,
   "id": "9937e8cc-c61e-49d1-836b-ea14c47bac2b",
   "metadata": {},
   "outputs": [],
   "source": [
    "list2[3][0] = 'abc'\n",
    "list2[2] = 'worked_1' "
   ]
  },
  {
   "cell_type": "code",
   "execution_count": 12,
   "id": "6ec9d473-aea0-4c9c-87fb-b670b89eff42",
   "metadata": {},
   "outputs": [],
   "source": [
    "list3[3][0] = 'X1'\n",
    "list3[2] = 'worked_2'"
   ]
  },
  {
   "cell_type": "code",
   "execution_count": 13,
   "id": "c65d355b-378a-42de-a264-4d53c51f9df4",
   "metadata": {},
   "outputs": [],
   "source": [
    "list4[3][0] = 'X2'\n",
    "list4[2] = 'worked_3'"
   ]
  },
  {
   "cell_type": "code",
   "execution_count": 14,
   "id": "47279f1f-82ee-4dc0-9890-955b9681f57c",
   "metadata": {},
   "outputs": [],
   "source": [
    "list5[3][0] = 'X3'\n",
    "list5[2] = 'worked_4'"
   ]
  },
  {
   "cell_type": "code",
   "execution_count": 15,
   "id": "d250efb3-59be-4703-8e5f-c232cbf9cd2b",
   "metadata": {},
   "outputs": [
    {
     "name": "stdout",
     "output_type": "stream",
     "text": [
      "新list\n",
      "[1, 2, 3, ['X3', 5]]\n",
      "[1, 2, 'worked_0', ['deep', 5]]\n"
     ]
    }
   ],
   "source": [
    "print('新list')\n",
    "print(list1)\n",
    "print(list_deep)"
   ]
  },
  {
   "cell_type": "code",
   "execution_count": 16,
   "id": "a22402e4-4d31-4f64-b5c8-83e7abe13072",
   "metadata": {},
   "outputs": [
    {
     "name": "stdout",
     "output_type": "stream",
     "text": [
      "[1, 2, 'worked_1', ['X3', 5]]\n",
      "[1, 2, 'worked_2', ['X3', 5]]\n",
      "[1, 2, 'worked_3', ['X3', 5]]\n",
      "[1, 2, 'worked_4', ['X3', 5]]\n"
     ]
    }
   ],
   "source": [
    "print(list2)\n",
    "print(list3)\n",
    "print(list4)\n",
    "print(list5)"
   ]
  },
  {
   "cell_type": "code",
   "execution_count": null,
   "id": "b9375a44-999b-461c-888a-beefd8634572",
   "metadata": {},
   "outputs": [],
   "source": []
  }
 ],
 "metadata": {
  "kernelspec": {
   "display_name": "Python 3 (ipykernel)",
   "language": "python",
   "name": "python3"
  },
  "language_info": {
   "codemirror_mode": {
    "name": "ipython",
    "version": 3
   },
   "file_extension": ".py",
   "mimetype": "text/x-python",
   "name": "python",
   "nbconvert_exporter": "python",
   "pygments_lexer": "ipython3",
   "version": "3.10.9"
  }
 },
 "nbformat": 4,
 "nbformat_minor": 5
}
