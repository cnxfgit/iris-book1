{
 "cells": [
  {
   "cell_type": "code",
   "execution_count": 10,
   "id": "3cbae5e2-c274-41b9-adc6-316566a5cc84",
   "metadata": {},
   "outputs": [
    {
     "name": "stdout",
     "output_type": "stream",
     "text": [
      "[1, 1.0, '1', True, [1, 1.0, '1'], {1}, {1: 1.0}]\n",
      "列表长度为:  7\n"
     ]
    }
   ],
   "source": [
    "my_list = [1, 1.0, '1', True, [1, 1.0, '1'], {1}, {1: 1.0}]\n",
    "print(my_list)\n",
    "print('列表长度为: ', len(my_list))"
   ]
  },
  {
   "cell_type": "code",
   "execution_count": 11,
   "id": "4dc0b021-1aa5-4389-98c2-f9db45a1f5b2",
   "metadata": {},
   "outputs": [
    {
     "name": "stdout",
     "output_type": "stream",
     "text": [
      "元素: 1, 索引: 0, 类型：<class 'int'>\n",
      "元素: 1.0, 索引: 1, 类型：<class 'float'>\n",
      "元素: 1, 索引: 2, 类型：<class 'str'>\n",
      "元素: True, 索引: 3, 类型：<class 'bool'>\n",
      "元素: [1, 1.0, '1'], 索引: 4, 类型：<class 'list'>\n",
      "元素: {1}, 索引: 5, 类型：<class 'set'>\n",
      "元素: {1: 1.0}, 索引: 6, 类型：<class 'dict'>\n"
     ]
    }
   ],
   "source": [
    "for i, item in enumerate(my_list):\n",
    "    type_i = type(item)\n",
    "    print(f'元素: {item}, 索引: {i}, 类型：{type_i}')"
   ]
  },
  {
   "cell_type": "code",
   "execution_count": 12,
   "id": "8ade6683-2de5-4cd1-b240-20cd6b7797c9",
   "metadata": {},
   "outputs": [
    {
     "name": "stdout",
     "output_type": "stream",
     "text": [
      "1\n",
      "1.0\n"
     ]
    }
   ],
   "source": [
    "print(my_list[0])\n",
    "print(my_list[1])"
   ]
  },
  {
   "cell_type": "code",
   "execution_count": 13,
   "id": "c5d53df7-ab00-474d-8849-e5614f256801",
   "metadata": {},
   "outputs": [
    {
     "name": "stdout",
     "output_type": "stream",
     "text": [
      "{1: 1.0}\n",
      "{1}\n"
     ]
    }
   ],
   "source": [
    "print(my_list[-1])\n",
    "print(my_list[-2])"
   ]
  },
  {
   "cell_type": "code",
   "execution_count": 14,
   "id": "b6b4d646-afa5-46f8-aa55-a226e90d1924",
   "metadata": {},
   "outputs": [
    {
     "name": "stdout",
     "output_type": "stream",
     "text": [
      "[1, 1.0, '1']\n"
     ]
    }
   ],
   "source": [
    "print(my_list[:3])"
   ]
  },
  {
   "cell_type": "code",
   "execution_count": 15,
   "id": "46ae5131-80a8-4ae1-b30c-92cdea205858",
   "metadata": {},
   "outputs": [
    {
     "name": "stdout",
     "output_type": "stream",
     "text": [
      "[1.0, '1', True]\n"
     ]
    }
   ],
   "source": [
    "print(my_list[1:4])"
   ]
  },
  {
   "cell_type": "code",
   "execution_count": 16,
   "id": "cf4c5645-df18-4eb9-92ca-150431309a2f",
   "metadata": {},
   "outputs": [
    {
     "name": "stdout",
     "output_type": "stream",
     "text": [
      "[1, '1', [1, 1.0, '1'], {1: 1.0}]\n"
     ]
    }
   ],
   "source": [
    "print(my_list[::2])"
   ]
  },
  {
   "cell_type": "code",
   "execution_count": 17,
   "id": "dd889b25-0f6b-4e31-8bf3-f70cbd52eb34",
   "metadata": {},
   "outputs": [
    {
     "name": "stdout",
     "output_type": "stream",
     "text": [
      "[{1: 1.0}, {1}, [1, 1.0, '1'], True, '1', 1.0, 1]\n"
     ]
    }
   ],
   "source": [
    "print(my_list[::-1])"
   ]
  },
  {
   "cell_type": "code",
   "execution_count": 18,
   "id": "625011be-b007-4946-a277-eaf0d15ba137",
   "metadata": {},
   "outputs": [
    {
     "name": "stdout",
     "output_type": "stream",
     "text": [
      "1.0\n"
     ]
    }
   ],
   "source": [
    "print(my_list[4][1])"
   ]
  }
 ],
 "metadata": {
  "kernelspec": {
   "display_name": "Python 3 (ipykernel)",
   "language": "python",
   "name": "python3"
  },
  "language_info": {
   "codemirror_mode": {
    "name": "ipython",
    "version": 3
   },
   "file_extension": ".py",
   "mimetype": "text/x-python",
   "name": "python",
   "nbconvert_exporter": "python",
   "pygments_lexer": "ipython3",
   "version": "3.10.9"
  }
 },
 "nbformat": 4,
 "nbformat_minor": 5
}
