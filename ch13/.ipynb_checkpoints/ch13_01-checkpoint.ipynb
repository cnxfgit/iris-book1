{
 "cells": [
  {
   "cell_type": "code",
   "execution_count": 1,
   "id": "9b1fd3fa-f44c-4319-a475-0f579a4d5ecd",
   "metadata": {},
   "outputs": [],
   "source": [
    "import numpy as np\n",
    "import seaborn as sns\n",
    "import matplotlib.pyplot as plt\n",
    "import math\n",
    "from matplotlib import cm"
   ]
  },
  {
   "cell_type": "code",
   "execution_count": 2,
   "id": "7f8c4bc0-5845-4fcc-a9ba-1ce466a2359f",
   "metadata": {},
   "outputs": [],
   "source": [
    "def visualize_2D(array, title, vmax, vmin):\n",
    "    fig_width = math.ceil(array.shape[1] * 0.5)\n",
    "    fig_length = math.ceil(array.shape[0] * 0.5)\n",
    "\n",
    "    fig, ax = plt.subplots(figsize=(fig_width, fig_length))\n",
    "\n",
    "    sns.heatmap(array,\n",
    "               vmax=vmax,\n",
    "               vmin=vmin,\n",
    "               annot=True,\n",
    "               fmt=\".0f\",\n",
    "               square=True,\n",
    "               cmap=\"RdYlBu_r\",\n",
    "               linewidths=.5,\n",
    "               cbar=False,\n",
    "               yticklabels=False,\n",
    "               xticklabels=False,\n",
    "               ax=ax)"
   ]
  },
  {
   "cell_type": "code",
   "execution_count": 4,
   "id": "753bbc72-ba1f-4e78-86b4-f36835aa757e",
   "metadata": {},
   "outputs": [],
   "source": [
    "def visualize_1D(array, title):\n",
    "    fig, ax = plt.subplots()\n",
    "\n",
    "    colors = cm.RdYlBu_r(np.linspace(0, 1, len(array)))\n",
    "\n",
    "    for idx in range(len(array)):\n",
    "        circle_idx = plt.Circle((idx, 0), 0.5,\n",
    "                               facecolor=colors[idx],\n",
    "                               edgecolor='w')\n",
    "        ax.add_patch(circle_idx)\n",
    "        ax.text(idx, 0, s=str(array[idx]),\n",
    "               horizontalalignment='center',\n",
    "               verticalalignment='center')\n",
    "\n",
    "    ax.set_xlim(-0.6, 0.6 + len(array))\n",
    "    ax.set_ylim(-0.6, 0.6)\n",
    "    ax.set_aspect('equal', adjustable='box')\n",
    "    ax.axis('off')"
   ]
  },
  {
   "cell_type": "code",
   "execution_count": 5,
   "id": "06a7ae58-d113-4f5f-9356-12cecb6ea44e",
   "metadata": {},
   "outputs": [
    {
     "name": "stdout",
     "output_type": "stream",
     "text": [
      "[-3 -2 -1  0  1  2  3]\n",
      "(7,)\n",
      "7\n",
      "1\n",
      "7\n"
     ]
    },
    {
     "data": {
      "image/png": "[encoded data removed]",
      "text/plain": [
       "<Figure size 640x480 with 1 Axes>"
      ]
     },
     "metadata": {},
     "output_type": "display_data"
    }
   ],
   "source": [
    "a_1D = np.array([-3, -2, -1, 0, 1, 2, 3])\n",
    "print(a_1D)\n",
    "print(a_1D.shape)\n",
    "print(len(a_1D))\n",
    "print(a_1D.ndim)\n",
    "print(a_1D.size)\n",
    "\n",
    "visualize_1D(a_1D, '手动, 一维')"
   ]
  },
  {
   "cell_type": "code",
   "execution_count": 6,
   "id": "e4699af6-aba4-43e3-ad37-046c79aba07d",
   "metadata": {},
   "outputs": [
    {
     "name": "stdout",
     "output_type": "stream",
     "text": [
      "[[-3 -2 -1]\n",
      " [ 0  1  2]]\n",
      "(2, 3)\n",
      "2\n",
      "3\n",
      "2\n",
      "6\n",
      "2\n"
     ]
    },
    {
     "data": {
      "image/png": "[encoded data removed]",
      "text/plain": [
       "<Figure size 200x100 with 1 Axes>"
      ]
     },
     "metadata": {},
     "output_type": "display_data"
    }
   ],
   "source": [
    "a_2D = np.array([[-3, -2, -1],\n",
    "                [0, 1, 2]])\n",
    "\n",
    "print(a_2D)\n",
    "visualize_2D(a_2D, '手动, 二维', 3, -3)\n",
    "print(a_2D.shape)\n",
    "print(a_2D.shape[0])\n",
    "print(a_2D.shape[1])\n",
    "print(a_2D.ndim)\n",
    "print(a_2D.size)\n",
    "print(len(a_2D))"
   ]
  },
  {
   "cell_type": "code",
   "execution_count": 7,
   "id": "9e1a4ed4-919f-4858-aae0-c33aeb6ba6f7",
   "metadata": {},
   "outputs": [
    {
     "name": "stdout",
     "output_type": "stream",
     "text": [
      "(1, 7)\n",
      "2\n"
     ]
    },
    {
     "data": {
      "image/png": "[encoded data removed]",
      "text/plain": [
       "<Figure size 400x100 with 1 Axes>"
      ]
     },
     "metadata": {},
     "output_type": "display_data"
    }
   ],
   "source": [
    "a_row_vector = np.array([[-3, -2, -1, 0, 1, 2, 3]])\n",
    "visualize_2D(a_row_vector, '手动,行向量', 3, -3)\n",
    "print(a_row_vector.shape)\n",
    "print(a_row_vector.ndim)"
   ]
  },
  {
   "cell_type": "code",
   "execution_count": 8,
   "id": "cbe9ca8f-d208-44cb-b346-df8a2f8e8da2",
   "metadata": {},
   "outputs": [
    {
     "name": "stdout",
     "output_type": "stream",
     "text": [
      "(7, 1)\n",
      "2\n"
     ]
    },
    {
     "data": {
      "image/png": "[encoded data removed]",
      "text/plain": [
       "<Figure size 100x400 with 1 Axes>"
      ]
     },
     "metadata": {},
     "output_type": "display_data"
    }
   ],
   "source": [
    "a_col_vector = np.array([[-3],[-2],[-1], [0], [1], [2], [3]])\n",
    "\n",
    "visualize_2D(a_col_vector, '手动,列向量', 3, -3)\n",
    "print(a_col_vector.shape)\n",
    "print(a_col_vector.ndim)"
   ]
  },
  {
   "cell_type": "code",
   "execution_count": 9,
   "id": "185db7ee-1a6f-4875-bf22-00037ac8b926",
   "metadata": {},
   "outputs": [
    {
     "name": "stdout",
     "output_type": "stream",
     "text": [
      "(2, 3, 4)\n",
      "3\n",
      "(3, 4)\n"
     ]
    },
    {
     "data": {
      "image/png": "[encoded data removed]",
      "text/plain": [
       "<Figure size 200x200 with 1 Axes>"
      ]
     },
     "metadata": {},
     "output_type": "display_data"
    },
    {
     "data": {
      "image/png": "[encoded data removed]",
      "text/plain": [
       "<Figure size 200x200 with 1 Axes>"
      ]
     },
     "metadata": {},
     "output_type": "display_data"
    }
   ],
   "source": [
    "a_3D = np.array([[[-12, -11, -10, -9],\n",
    "                 [-8,-7,-6,-5],\n",
    "                 [-4,-3,-2,-1]],\n",
    "                [[0,1,2,3],\n",
    "                [4,5,6,7],\n",
    "                [8,9,10,11]]])\n",
    "print(a_3D.shape)\n",
    "print(a_3D.ndim)\n",
    "\n",
    "visualize_2D(a_3D[0], '手动,三维,第一页', 12, -12)\n",
    "print(a_3D[0].shape)\n",
    "visualize_2D(a_3D[1], '手动,三维,第二页', 12, -12)"
   ]
  },
  {
   "cell_type": "code",
   "execution_count": 10,
   "id": "143f64ce-dd90-4d1c-ab87-7f218f3ca94c",
   "metadata": {},
   "outputs": [
    {
     "name": "stdout",
     "output_type": "stream",
     "text": [
      "(7,)\n"
     ]
    }
   ],
   "source": [
    "list_1D = [-3, -3, -1, 0, 1, 2, 3]\n",
    "array_1D = np.array(list_1D)\n",
    "print(array_1D.shape)"
   ]
  },
  {
   "cell_type": "code",
   "execution_count": 11,
   "id": "d354a0bf-10c3-4eb2-9485-689d8d78d205",
   "metadata": {},
   "outputs": [
    {
     "name": "stdout",
     "output_type": "stream",
     "text": [
      "(1, 7)\n"
     ]
    }
   ],
   "source": [
    "list_2D = [[-3, -3, -1, 0, 1, 2, 3]]\n",
    "array_2D = np.array(list_2D)\n",
    "print(array_2D.shape)"
   ]
  },
  {
   "cell_type": "code",
   "execution_count": 12,
   "id": "cddccc16-7887-420f-a5cf-afdc89826cef",
   "metadata": {},
   "outputs": [
    {
     "name": "stdout",
     "output_type": "stream",
     "text": [
      "(1, 1, 7)\n"
     ]
    }
   ],
   "source": [
    "list_3D = [[[-3, -3, -1, 0, 1, 2, 3]]]\n",
    "array_3D = np.array(list_3D)\n",
    "print(array_3D.shape)"
   ]
  }
 ],
 "metadata": {
  "kernelspec": {
   "display_name": "Python 3 (ipykernel)",
   "language": "python",
   "name": "python3"
  },
  "language_info": {
   "codemirror_mode": {
    "name": "ipython",
    "version": 3
   },
   "file_extension": ".py",
   "mimetype": "text/x-python",
   "name": "python",
   "nbconvert_exporter": "python",
   "pygments_lexer": "ipython3",
   "version": "3.10.9"
  }
 },
 "nbformat": 4,
 "nbformat_minor": 5
}
