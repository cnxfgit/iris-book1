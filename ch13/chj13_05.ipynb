{
 "cells": [
  {
   "cell_type": "code",
   "execution_count": 1,
   "id": "22cac322-e705-4539-94bd-a5e306229230",
   "metadata": {},
   "outputs": [],
   "source": [
    "import numpy as np\n",
    "import matplotlib.pyplot as plt\n",
    "import seaborn as sns\n",
    "from sklearn.datasets import load_iris\n",
    "from numpy import genfromtxt"
   ]
  },
  {
   "cell_type": "code",
   "execution_count": 2,
   "id": "ad1be445-45e4-413f-8149-6e62f77d149a",
   "metadata": {},
   "outputs": [],
   "source": [
    "iris = load_iris()\n",
    "np.savetxt('Iris_data.csv', iris.data, delimiter=\",\")"
   ]
  },
  {
   "cell_type": "code",
   "execution_count": 3,
   "id": "ca308456-dad8-4780-a122-94cec8baf527",
   "metadata": {},
   "outputs": [],
   "source": [
    "Iris_Data_array = genfromtxt('Iris_data.csv', delimiter=\",\")"
   ]
  },
  {
   "cell_type": "code",
   "execution_count": 4,
   "id": "45f7e5db-86b5-4adb-a508-009c5ca85bd6",
   "metadata": {},
   "outputs": [
    {
     "data": {
      "text/plain": [
       "<Axes: >"
      ]
     },
     "execution_count": 4,
     "metadata": {},
     "output_type": "execute_result"
    },
    {
     "data": {
      "image/png": "[encoded data removed]",
      "text/plain": [
       "<Figure size 500x500 with 2 Axes>"
      ]
     },
     "metadata": {},
     "output_type": "display_data"
    }
   ],
   "source": [
    "fig, ax = plt.subplots(figsize=(5,5))\n",
    "sns.heatmap(Iris_Data_array,\n",
    "           cmap='RdYlBu_r',\n",
    "           ax=ax,\n",
    "           vmax=8,\n",
    "           vmin=0,\n",
    "           xticklabels=[],\n",
    "           yticklabels=[],\n",
    "           cbar=True)"
   ]
  },
  {
   "cell_type": "code",
   "execution_count": null,
   "id": "92379aab-13a9-47b4-8d2a-d2b611f1eb02",
   "metadata": {},
   "outputs": [],
   "source": []
  }
 ],
 "metadata": {
  "kernelspec": {
   "display_name": "Python 3 (ipykernel)",
   "language": "python",
   "name": "python3"
  },
  "language_info": {
   "codemirror_mode": {
    "name": "ipython",
    "version": 3
   },
   "file_extension": ".py",
   "mimetype": "text/x-python",
   "name": "python",
   "nbconvert_exporter": "python",
   "pygments_lexer": "ipython3",
   "version": "3.10.9"
  }
 },
 "nbformat": 4,
 "nbformat_minor": 5
}
