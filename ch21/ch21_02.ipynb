{
 "cells": [
  {
   "cell_type": "code",
   "execution_count": 1,
   "id": "323c7517-9b32-4994-9f06-33ac97197261",
   "metadata": {},
   "outputs": [],
   "source": [
    "import pandas as pd\n",
    "import numpy as np"
   ]
  },
  {
   "cell_type": "code",
   "execution_count": 2,
   "id": "6e2d7d6a-2cc5-4765-be93-b56fdd40007e",
   "metadata": {},
   "outputs": [],
   "source": [
    "index_arrays = [['A', 'A', 'B', 'B', 'C', 'C', 'D', 'D'],\n",
    "                range(1, 9)]"
   ]
  },
  {
   "cell_type": "code",
   "execution_count": 3,
   "id": "08eb2c39-0b69-48d5-ae2b-73c33f3a435f",
   "metadata": {},
   "outputs": [],
   "source": [
    "data = np.random.randint(0, 9, size=(8,4))"
   ]
  },
  {
   "cell_type": "code",
   "execution_count": 4,
   "id": "884708ff-451d-4af6-a87d-6c74934e0ff2",
   "metadata": {},
   "outputs": [],
   "source": [
    "row_idx = pd.MultiIndex.from_arrays(index_arrays,\n",
    "                                   names=['I', 'II'])"
   ]
  },
  {
   "cell_type": "code",
   "execution_count": 5,
   "id": "8f97c7ce-09fa-413f-af64-bec41d397c54",
   "metadata": {},
   "outputs": [],
   "source": [
    "df = pd.DataFrame(data,\n",
    "                 index=row_idx,\n",
    "                 columns=['X1', 'X2', 'X3', 'X4'])"
   ]
  },
  {
   "cell_type": "code",
   "execution_count": 6,
   "id": "ab5ed499-1325-4534-af7a-82ec1875dacf",
   "metadata": {},
   "outputs": [
    {
     "data": {
      "text/html": [
       "<div>\n",
       "<style scoped>\n",
       "    .dataframe tbody tr th:only-of-type {\n",
       "        vertical-align: middle;\n",
       "    }\n",
       "\n",
       "    .dataframe tbody tr th {\n",
       "        vertical-align: top;\n",
       "    }\n",
       "\n",
       "    .dataframe thead th {\n",
       "        text-align: right;\n",
       "    }\n",
       "</style>\n",
       "<table border=\"1\" class=\"dataframe\">\n",
       "  <thead>\n",
       "    <tr style=\"text-align: right;\">\n",
       "      <th></th>\n",
       "      <th></th>\n",
       "      <th>X1</th>\n",
       "      <th>X2</th>\n",
       "      <th>X3</th>\n",
       "      <th>X4</th>\n",
       "    </tr>\n",
       "    <tr>\n",
       "      <th>I</th>\n",
       "      <th>II</th>\n",
       "      <th></th>\n",
       "      <th></th>\n",
       "      <th></th>\n",
       "      <th></th>\n",
       "    </tr>\n",
       "  </thead>\n",
       "  <tbody>\n",
       "    <tr>\n",
       "      <th rowspan=\"2\" valign=\"top\">A</th>\n",
       "      <th>1</th>\n",
       "      <td>7</td>\n",
       "      <td>3</td>\n",
       "      <td>7</td>\n",
       "      <td>7</td>\n",
       "    </tr>\n",
       "    <tr>\n",
       "      <th>2</th>\n",
       "      <td>6</td>\n",
       "      <td>3</td>\n",
       "      <td>6</td>\n",
       "      <td>5</td>\n",
       "    </tr>\n",
       "    <tr>\n",
       "      <th rowspan=\"2\" valign=\"top\">B</th>\n",
       "      <th>3</th>\n",
       "      <td>4</td>\n",
       "      <td>4</td>\n",
       "      <td>7</td>\n",
       "      <td>1</td>\n",
       "    </tr>\n",
       "    <tr>\n",
       "      <th>4</th>\n",
       "      <td>4</td>\n",
       "      <td>5</td>\n",
       "      <td>5</td>\n",
       "      <td>5</td>\n",
       "    </tr>\n",
       "    <tr>\n",
       "      <th rowspan=\"2\" valign=\"top\">C</th>\n",
       "      <th>5</th>\n",
       "      <td>4</td>\n",
       "      <td>5</td>\n",
       "      <td>1</td>\n",
       "      <td>3</td>\n",
       "    </tr>\n",
       "    <tr>\n",
       "      <th>6</th>\n",
       "      <td>4</td>\n",
       "      <td>2</td>\n",
       "      <td>5</td>\n",
       "      <td>0</td>\n",
       "    </tr>\n",
       "    <tr>\n",
       "      <th rowspan=\"2\" valign=\"top\">D</th>\n",
       "      <th>7</th>\n",
       "      <td>0</td>\n",
       "      <td>2</td>\n",
       "      <td>2</td>\n",
       "      <td>1</td>\n",
       "    </tr>\n",
       "    <tr>\n",
       "      <th>8</th>\n",
       "      <td>1</td>\n",
       "      <td>8</td>\n",
       "      <td>2</td>\n",
       "      <td>5</td>\n",
       "    </tr>\n",
       "  </tbody>\n",
       "</table>\n",
       "</div>"
      ],
      "text/plain": [
       "      X1  X2  X3  X4\n",
       "I II                \n",
       "A 1    7   3   7   7\n",
       "  2    6   3   6   5\n",
       "B 3    4   4   7   1\n",
       "  4    4   5   5   5\n",
       "C 5    4   5   1   3\n",
       "  6    4   2   5   0\n",
       "D 7    0   2   2   1\n",
       "  8    1   8   2   5"
      ]
     },
     "execution_count": 6,
     "metadata": {},
     "output_type": "execute_result"
    }
   ],
   "source": [
    "df"
   ]
  },
  {
   "cell_type": "code",
   "execution_count": null,
   "id": "82651a8f-7083-494e-bb48-ff01f0420d5b",
   "metadata": {},
   "outputs": [],
   "source": []
  }
 ],
 "metadata": {
  "kernelspec": {
   "display_name": "Python 3 (ipykernel)",
   "language": "python",
   "name": "python3"
  },
  "language_info": {
   "codemirror_mode": {
    "name": "ipython",
    "version": 3
   },
   "file_extension": ".py",
   "mimetype": "text/x-python",
   "name": "python",
   "nbconvert_exporter": "python",
   "pygments_lexer": "ipython3",
   "version": "3.10.9"
  }
 },
 "nbformat": 4,
 "nbformat_minor": 5
}
