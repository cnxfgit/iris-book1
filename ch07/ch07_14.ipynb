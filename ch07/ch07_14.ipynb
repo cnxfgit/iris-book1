{
 "cells": [
  {
   "cell_type": "code",
   "execution_count": 1,
   "id": "28f16fa7-56ea-4de4-a4d8-7185cb5a1d16",
   "metadata": {},
   "outputs": [],
   "source": [
    "def custom_meshgrid(x, y):\n",
    "    num_x = len(x)\n",
    "    num_y = len(y)\n",
    "    X = []\n",
    "    Y = []\n",
    "\n",
    "    for i in range(num_y):\n",
    "        X_row = []\n",
    "        Y_row = []\n",
    "\n",
    "        for j in range(num_x):\n",
    "            X_row.append(x[j])\n",
    "            Y_row.append(y[i])\n",
    "        X.append(X_row)\n",
    "        Y.append(Y_row)\n",
    "    return X, Y"
   ]
  },
  {
   "cell_type": "code",
   "execution_count": 2,
   "id": "9645aee2-34ab-4eea-886c-b320c1179e85",
   "metadata": {},
   "outputs": [],
   "source": [
    "x = [0,1,2,3,4,5]\n",
    "y = [0,1,2,3]"
   ]
  },
  {
   "cell_type": "code",
   "execution_count": 3,
   "id": "1baec76d-e90e-4700-b76d-8b83d7e81891",
   "metadata": {},
   "outputs": [
    {
     "name": "stdout",
     "output_type": "stream",
     "text": [
      "X坐标： [[0, 1, 2, 3, 4, 5], [0, 1, 2, 3, 4, 5], [0, 1, 2, 3, 4, 5], [0, 1, 2, 3, 4, 5]]\n",
      "Y左边： [[0, 0, 0, 0, 0, 0], [1, 1, 1, 1, 1, 1], [2, 2, 2, 2, 2, 2], [3, 3, 3, 3, 3, 3]]\n"
     ]
    }
   ],
   "source": [
    "X, Y = custom_meshgrid(x, y)\n",
    "print(\"X坐标：\", X)\n",
    "print(\"Y左边：\", Y)"
   ]
  },
  {
   "cell_type": "code",
   "execution_count": null,
   "id": "ffe56df0-8f03-4e87-94c4-95a41ebccf76",
   "metadata": {},
   "outputs": [],
   "source": []
  }
 ],
 "metadata": {
  "kernelspec": {
   "display_name": "Python 3 (ipykernel)",
   "language": "python",
   "name": "python3"
  },
  "language_info": {
   "codemirror_mode": {
    "name": "ipython",
    "version": 3
   },
   "file_extension": ".py",
   "mimetype": "text/x-python",
   "name": "python",
   "nbconvert_exporter": "python",
   "pygments_lexer": "ipython3",
   "version": "3.10.9"
  }
 },
 "nbformat": 4,
 "nbformat_minor": 5
}
