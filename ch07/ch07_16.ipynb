{
 "cells": [
  {
   "cell_type": "code",
   "execution_count": 1,
   "id": "fa4b4501-4058-47ea-a8d9-5b51e352d50e",
   "metadata": {},
   "outputs": [],
   "source": [
    "import numpy as np"
   ]
  },
  {
   "cell_type": "code",
   "execution_count": 2,
   "id": "804d8fb3-679b-4de5-b40b-234ec3ebf7e7",
   "metadata": {},
   "outputs": [],
   "source": [
    "a = np.array([1,2,3,4,5])\n",
    "b = np.array([6,7,8,9,0])"
   ]
  },
  {
   "cell_type": "code",
   "execution_count": 3,
   "id": "4982289b-a81e-4b15-8611-fe7773fa7b48",
   "metadata": {},
   "outputs": [],
   "source": [
    "dot_product = np.dot(a, b)"
   ]
  },
  {
   "cell_type": "code",
   "execution_count": 4,
   "id": "c2901f11-2b7d-4359-96ca-2a49361116e5",
   "metadata": {},
   "outputs": [
    {
     "name": "stdout",
     "output_type": "stream",
     "text": [
      "向量内积为:  80\n"
     ]
    }
   ],
   "source": [
    "print(\"向量内积为: \", dot_product)"
   ]
  },
  {
   "cell_type": "code",
   "execution_count": null,
   "id": "2ab20613-54c1-4643-8bff-a5fd42e69199",
   "metadata": {},
   "outputs": [],
   "source": []
  }
 ],
 "metadata": {
  "kernelspec": {
   "display_name": "Python 3 (ipykernel)",
   "language": "python",
   "name": "python3"
  },
  "language_info": {
   "codemirror_mode": {
    "name": "ipython",
    "version": 3
   },
   "file_extension": ".py",
   "mimetype": "text/x-python",
   "name": "python",
   "nbconvert_exporter": "python",
   "pygments_lexer": "ipython3",
   "version": "3.10.9"
  }
 },
 "nbformat": 4,
 "nbformat_minor": 5
}
