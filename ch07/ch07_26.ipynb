{
 "cells": [
  {
   "cell_type": "code",
   "execution_count": 1,
   "id": "a0138090-5f65-4d7d-8210-a529a95b5e60",
   "metadata": {},
   "outputs": [],
   "source": [
    "import itertools"
   ]
  },
  {
   "cell_type": "code",
   "execution_count": 2,
   "id": "06404a2a-e655-4303-8109-84c1575f0b48",
   "metadata": {},
   "outputs": [],
   "source": [
    "string = 'abc'"
   ]
  },
  {
   "cell_type": "code",
   "execution_count": 3,
   "id": "ceff0840-8ac5-4508-b021-56fa9a6c5671",
   "metadata": {},
   "outputs": [],
   "source": [
    "combs_2 = itertools.combinations(string, 2)"
   ]
  },
  {
   "cell_type": "code",
   "execution_count": 4,
   "id": "ec4e09de-5661-4597-a59e-39f8d1130862",
   "metadata": {},
   "outputs": [
    {
     "name": "stdout",
     "output_type": "stream",
     "text": [
      "ab\n",
      "ac\n",
      "bc\n"
     ]
    }
   ],
   "source": [
    "for combo_idx in combs_2:\n",
    "    print(''.join(combo_idx))"
   ]
  },
  {
   "cell_type": "code",
   "execution_count": null,
   "id": "575ae48e-5640-4adc-b29f-9d149fe609b1",
   "metadata": {},
   "outputs": [],
   "source": []
  }
 ],
 "metadata": {
  "kernelspec": {
   "display_name": "Python 3 (ipykernel)",
   "language": "python",
   "name": "python3"
  },
  "language_info": {
   "codemirror_mode": {
    "name": "ipython",
    "version": 3
   },
   "file_extension": ".py",
   "mimetype": "text/x-python",
   "name": "python",
   "nbconvert_exporter": "python",
   "pygments_lexer": "ipython3",
   "version": "3.10.9"
  }
 },
 "nbformat": 4,
 "nbformat_minor": 5
}
