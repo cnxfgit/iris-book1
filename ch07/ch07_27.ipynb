{
 "cells": [
  {
   "cell_type": "code",
   "execution_count": 1,
   "id": "7f9732fc-bc21-4ff1-a644-4918e1ea3bc9",
   "metadata": {},
   "outputs": [],
   "source": [
    "import itertools"
   ]
  },
  {
   "cell_type": "code",
   "execution_count": 2,
   "id": "74534781-89db-4d63-bc90-5db033c223d8",
   "metadata": {},
   "outputs": [],
   "source": [
    "string = 'abc'"
   ]
  },
  {
   "cell_type": "code",
   "execution_count": 3,
   "id": "decd8650-362e-4965-97cf-b4a708ea46e0",
   "metadata": {},
   "outputs": [],
   "source": [
    "elements = list(string)"
   ]
  },
  {
   "cell_type": "code",
   "execution_count": 4,
   "id": "329c7b18-5fd7-4ded-916d-eea65d8b5e28",
   "metadata": {},
   "outputs": [],
   "source": [
    "repeat = 2"
   ]
  },
  {
   "cell_type": "code",
   "execution_count": 6,
   "id": "d0a8638e-1850-46a6-bfea-8f1b260e1aef",
   "metadata": {},
   "outputs": [],
   "source": [
    "permutations = itertools.product(elements, repeat=repeat)"
   ]
  },
  {
   "cell_type": "code",
   "execution_count": 7,
   "id": "ad3ae89e-e854-447d-9ede-28c890942875",
   "metadata": {},
   "outputs": [
    {
     "name": "stdout",
     "output_type": "stream",
     "text": [
      "aa\n",
      "ab\n",
      "ac\n",
      "ba\n",
      "bb\n",
      "bc\n",
      "ca\n",
      "cb\n",
      "cc\n"
     ]
    }
   ],
   "source": [
    "for permutation_idx in permutations:\n",
    "    print(''.join(permutation_idx))"
   ]
  },
  {
   "cell_type": "code",
   "execution_count": null,
   "id": "4c57efd1-dc01-44f5-aa1f-6c60aa5325f4",
   "metadata": {},
   "outputs": [],
   "source": []
  }
 ],
 "metadata": {
  "kernelspec": {
   "display_name": "Python 3 (ipykernel)",
   "language": "python",
   "name": "python3"
  },
  "language_info": {
   "codemirror_mode": {
    "name": "ipython",
    "version": 3
   },
   "file_extension": ".py",
   "mimetype": "text/x-python",
   "name": "python",
   "nbconvert_exporter": "python",
   "pygments_lexer": "ipython3",
   "version": "3.10.9"
  }
 },
 "nbformat": 4,
 "nbformat_minor": 5
}
