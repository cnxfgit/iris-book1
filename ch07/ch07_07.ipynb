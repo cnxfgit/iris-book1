{
 "cells": [
  {
   "cell_type": "code",
   "execution_count": 1,
   "id": "b88a6a29-4be3-4494-9be8-32457202836a",
   "metadata": {},
   "outputs": [
    {
     "name": "stdin",
     "output_type": "stream",
     "text": [
      "请输入一个数值： 11\n"
     ]
    }
   ],
   "source": [
    "value = input(\"请输入一个数值：\")"
   ]
  },
  {
   "cell_type": "code",
   "execution_count": 2,
   "id": "8ada94d5-ff15-4eb8-b7a0-5b335241343d",
   "metadata": {},
   "outputs": [
    {
     "name": "stdout",
     "output_type": "stream",
     "text": [
      "不及格\n"
     ]
    }
   ],
   "source": [
    "if value.isdigit():\n",
    "    number = int(value)\n",
    "\n",
    "    if 0 <= number <= 100:\n",
    "        if number < 60:\n",
    "            print(\"不及格\")\n",
    "        else:\n",
    "            print(\"及格\")\n",
    "    else:\n",
    "        print(\"数值不在0~100之间\")\n",
    "else:\n",
    "    print(\"输入的不是一个数值\")"
   ]
  },
  {
   "cell_type": "code",
   "execution_count": null,
   "id": "9028e590-3395-495c-8d62-4d0930ae4e30",
   "metadata": {},
   "outputs": [],
   "source": []
  }
 ],
 "metadata": {
  "kernelspec": {
   "display_name": "Python 3 (ipykernel)",
   "language": "python",
   "name": "python3"
  },
  "language_info": {
   "codemirror_mode": {
    "name": "ipython",
    "version": 3
   },
   "file_extension": ".py",
   "mimetype": "text/x-python",
   "name": "python",
   "nbconvert_exporter": "python",
   "pygments_lexer": "ipython3",
   "version": "3.10.9"
  }
 },
 "nbformat": 4,
 "nbformat_minor": 5
}
