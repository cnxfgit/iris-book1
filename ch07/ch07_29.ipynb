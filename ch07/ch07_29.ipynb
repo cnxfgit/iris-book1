{
 "cells": [
  {
   "cell_type": "code",
   "execution_count": 1,
   "id": "61ae22a1-04af-4313-821b-968cb15940c4",
   "metadata": {},
   "outputs": [
    {
     "name": "stdout",
     "output_type": "stream",
     "text": [
      "8\n"
     ]
    }
   ],
   "source": [
    "l = [3,5,2,7,1]\n",
    "print(max(l) + min(l))"
   ]
  },
  {
   "cell_type": "code",
   "execution_count": 2,
   "id": "c72d3e1e-0286-45c1-bb00-af2bc47f9d89",
   "metadata": {},
   "outputs": [
    {
     "name": "stdout",
     "output_type": "stream",
     "text": [
      "1\n",
      "3\n",
      "5\n",
      "7\n",
      "9\n"
     ]
    }
   ],
   "source": [
    "idx = 1\n",
    "while idx <= 10:\n",
    "    print(idx)\n",
    "    idx+=2"
   ]
  },
  {
   "cell_type": "code",
   "execution_count": 3,
   "id": "83338552-8f49-42e2-8803-f301afc35115",
   "metadata": {},
   "outputs": [
    {
     "name": "stdin",
     "output_type": "stream",
     "text": [
      "请输入数字 aa\n",
      "请输入数字 12a\n",
      "请输入数字 12\n"
     ]
    }
   ],
   "source": [
    "i =  input(\"请输入数字\")\n",
    "while not i.isdigit():\n",
    "    i = input(\"请输入数字\")"
   ]
  },
  {
   "cell_type": "code",
   "execution_count": 4,
   "id": "87eb14bd-78c4-4d35-862c-a871ae3c892a",
   "metadata": {},
   "outputs": [
    {
     "name": "stdout",
     "output_type": "stream",
     "text": [
      "[2, 3, 5, 7, 11, 13, 17, 19, 23, 29, 31, 37, 41, 43, 47, 53, 59, 61, 67, 71, 73, 79, 83, 89, 97]\n"
     ]
    }
   ],
   "source": [
    "def is_prime(n):\n",
    "    if n < 2:\n",
    "        return False\n",
    "    for i in range(2, int(n ** 0.5) + 1):\n",
    "        if n % i == 0:\n",
    "            return False\n",
    "    return True\n",
    "\n",
    "primes = []\n",
    "for num in range(2, 101):\n",
    "    if is_prime(num):\n",
    "        primes.append(num)\n",
    "\n",
    "print(primes)"
   ]
  },
  {
   "cell_type": "code",
   "execution_count": null,
   "id": "1e43a1e9-d4c3-4f66-8a67-3ed677069393",
   "metadata": {},
   "outputs": [],
   "source": []
  }
 ],
 "metadata": {
  "kernelspec": {
   "display_name": "Python 3 (ipykernel)",
   "language": "python",
   "name": "python3"
  },
  "language_info": {
   "codemirror_mode": {
    "name": "ipython",
    "version": 3
   },
   "file_extension": ".py",
   "mimetype": "text/x-python",
   "name": "python",
   "nbconvert_exporter": "python",
   "pygments_lexer": "ipython3",
   "version": "3.10.9"
  }
 },
 "nbformat": 4,
 "nbformat_minor": 5
}
