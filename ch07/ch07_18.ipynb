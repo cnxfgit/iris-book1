{
 "cells": [
  {
   "cell_type": "code",
   "execution_count": 1,
   "id": "37e77089-1627-4704-ad44-f3b0da8a821e",
   "metadata": {},
   "outputs": [],
   "source": [
    "from numpy.random import randint"
   ]
  },
  {
   "cell_type": "code",
   "execution_count": 2,
   "id": "ab52f259-c641-4e1a-bc92-193caab835fe",
   "metadata": {},
   "outputs": [],
   "source": [
    "num = 200"
   ]
  },
  {
   "cell_type": "code",
   "execution_count": 3,
   "id": "2b057829-a076-48a4-a52d-d415a346b20b",
   "metadata": {},
   "outputs": [],
   "source": [
    "A = randint(0, 10, size = (num, num))\n",
    "B = randint(0, 10, size = (num, num))"
   ]
  },
  {
   "cell_type": "code",
   "execution_count": 4,
   "id": "03659296-d373-40b1-8942-cb9e22901601",
   "metadata": {},
   "outputs": [],
   "source": [
    "import time"
   ]
  },
  {
   "cell_type": "code",
   "execution_count": 5,
   "id": "f9738b48-ba13-4ca1-8ed4-82ee7716224d",
   "metadata": {},
   "outputs": [
    {
     "name": "stdout",
     "output_type": "stream",
     "text": [
      "----- 0.013000249862670898 seconds------\n"
     ]
    }
   ],
   "source": [
    "start_time = time.time()\n",
    "C_1 = A @ B\n",
    "stop_time = time.time()\n",
    "time_used = stop_time - start_time\n",
    "print(\"----- %s seconds------\" % time_used)"
   ]
  },
  {
   "cell_type": "code",
   "execution_count": 7,
   "id": "c2233190-e86c-419c-96eb-d9686b7816e2",
   "metadata": {},
   "outputs": [],
   "source": [
    "import numpy as np\n",
    "C = np.zeros((num, num))"
   ]
  },
  {
   "cell_type": "code",
   "execution_count": 9,
   "id": "f34d6065-8c0e-4b12-a584-3558906bc3b8",
   "metadata": {},
   "outputs": [
    {
     "name": "stdout",
     "output_type": "stream",
     "text": [
      "----- 3.8170018196105957 seconds------\n"
     ]
    }
   ],
   "source": [
    "start_time = time.time()\n",
    "for i in range(len(A)):\n",
    "    for j in range(len(B[0])):\n",
    "        for k in range(len(B)):\n",
    "            C[i][j] += A[i][k] * B[k][j]\n",
    "stop_time = time.time()\n",
    "time_used = stop_time - start_time\n",
    "print(\"----- %s seconds------\" % time_used)"
   ]
  },
  {
   "cell_type": "code",
   "execution_count": 10,
   "id": "3b41ac43-a331-459d-812e-a286b71ad799",
   "metadata": {},
   "outputs": [
    {
     "name": "stdout",
     "output_type": "stream",
     "text": [
      "[1, 2, 3, 4, 5, 6, 7, 8, 9, 10]\n"
     ]
    }
   ],
   "source": [
    "even_numbers = [num for num in range(1,11)]\n",
    "print(even_numbers)"
   ]
  },
  {
   "cell_type": "code",
   "execution_count": 11,
   "id": "ab12e505-73fe-43c3-b761-4a8ad1ea2ef6",
   "metadata": {},
   "outputs": [
    {
     "name": "stdout",
     "output_type": "stream",
     "text": [
      "[[1, 2, 3], [2, 4, 6], [3, 6, 9]]\n"
     ]
    }
   ],
   "source": [
    "matrix = [[i * j for j in range(1,4)]\n",
    "          for i in range(1,4)]\n",
    "print(matrix)"
   ]
  }
 ],
 "metadata": {
  "kernelspec": {
   "display_name": "Python 3 (ipykernel)",
   "language": "python",
   "name": "python3"
  },
  "language_info": {
   "codemirror_mode": {
    "name": "ipython",
    "version": 3
   },
   "file_extension": ".py",
   "mimetype": "text/x-python",
   "name": "python",
   "nbconvert_exporter": "python",
   "pygments_lexer": "ipython3",
   "version": "3.10.9"
  }
 },
 "nbformat": 4,
 "nbformat_minor": 5
}
