{
 "cells": [
  {
   "cell_type": "code",
   "execution_count": 1,
   "id": "e6258919-f81a-4a26-9d60-45014a15f80b",
   "metadata": {},
   "outputs": [],
   "source": [
    "import numpy as np"
   ]
  },
  {
   "cell_type": "code",
   "execution_count": 2,
   "id": "33dabb92-fc41-41d0-92da-468550f7d0fb",
   "metadata": {},
   "outputs": [],
   "source": [
    "A = np.array([[1,2,10,20],\n",
    "              [3,4,30,40]])\n",
    "B = np.array([[1,3],\n",
    "              [2,4],\n",
    "              [10,30],\n",
    "              [20,40]])"
   ]
  },
  {
   "cell_type": "code",
   "execution_count": 3,
   "id": "c67771d0-cdba-4ba2-8676-3b70ccc9a5b6",
   "metadata": {},
   "outputs": [
    {
     "name": "stdout",
     "output_type": "stream",
     "text": [
      "[[ 505 1111]\n",
      " [1111 2525]]\n"
     ]
    }
   ],
   "source": [
    "C = A @ B;\n",
    "print(C)"
   ]
  },
  {
   "cell_type": "code",
   "execution_count": 4,
   "id": "866cb75a-ee37-4dd2-a837-b6c73cfea1f6",
   "metadata": {},
   "outputs": [
    {
     "name": "stdout",
     "output_type": "stream",
     "text": [
      "[[  10   14  100  140]\n",
      " [  14   20  140  200]\n",
      " [ 100  140 1000 1400]\n",
      " [ 140  200 1400 2000]]\n"
     ]
    }
   ],
   "source": [
    "D = B @ A\n",
    "print(D)"
   ]
  },
  {
   "cell_type": "code",
   "execution_count": null,
   "id": "3ffc5407-89f6-45c8-b9a4-af1e6136465e",
   "metadata": {},
   "outputs": [],
   "source": []
  }
 ],
 "metadata": {
  "kernelspec": {
   "display_name": "Python 3 (ipykernel)",
   "language": "python",
   "name": "python3"
  },
  "language_info": {
   "codemirror_mode": {
    "name": "ipython",
    "version": 3
   },
   "file_extension": ".py",
   "mimetype": "text/x-python",
   "name": "python",
   "nbconvert_exporter": "python",
   "pygments_lexer": "ipython3",
   "version": "3.10.9"
  }
 },
 "nbformat": 4,
 "nbformat_minor": 5
}
