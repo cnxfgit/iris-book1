{
 "cells": [
  {
   "cell_type": "code",
   "execution_count": 1,
   "id": "efe0bb0f-8c1b-4afa-8891-997b51433e6e",
   "metadata": {},
   "outputs": [
    {
     "name": "stdout",
     "output_type": "stream",
     "text": [
      "0\n",
      "1\n",
      "2\n",
      "3\n",
      "4\n",
      "5\n",
      "6\n",
      "7\n",
      "8\n",
      "9\n",
      "For loop finished\n"
     ]
    }
   ],
   "source": [
    "for x in range(10):\n",
    "    print(x)\n",
    "else:\n",
    "    print(\"For loop finished\")"
   ]
  },
  {
   "cell_type": "code",
   "execution_count": 2,
   "id": "4ea88e1f-dddb-4b71-b023-61937b2743a6",
   "metadata": {},
   "outputs": [
    {
     "name": "stdout",
     "output_type": "stream",
     "text": [
      "0\n",
      "1\n",
      "2\n",
      "3\n",
      "4\n",
      "5\n",
      "6\n",
      "7\n"
     ]
    }
   ],
   "source": [
    "for x in range(10):\n",
    "    if x >=8:\n",
    "        break\n",
    "    else:\n",
    "        print(x)\n",
    "else:\n",
    "    print(\"For loop finished\")"
   ]
  },
  {
   "cell_type": "code",
   "execution_count": 3,
   "id": "f8bce1c4-1500-4d9e-b688-5bc45d6666eb",
   "metadata": {},
   "outputs": [
    {
     "name": "stdout",
     "output_type": "stream",
     "text": [
      "0\n",
      "1\n",
      "2\n",
      "3\n",
      "4\n"
     ]
    }
   ],
   "source": [
    "i = 0\n",
    "while i < 5:\n",
    "    print(i)\n",
    "    i += 1"
   ]
  },
  {
   "cell_type": "code",
   "execution_count": null,
   "id": "30d9b8fd-4aa6-48b5-8619-bf509c7146a1",
   "metadata": {},
   "outputs": [],
   "source": []
  }
 ],
 "metadata": {
  "kernelspec": {
   "display_name": "Python 3 (ipykernel)",
   "language": "python",
   "name": "python3"
  },
  "language_info": {
   "codemirror_mode": {
    "name": "ipython",
    "version": 3
   },
   "file_extension": ".py",
   "mimetype": "text/x-python",
   "name": "python",
   "nbconvert_exporter": "python",
   "pygments_lexer": "ipython3",
   "version": "3.10.9"
  }
 },
 "nbformat": 4,
 "nbformat_minor": 5
}
