{
 "cells": [
  {
   "cell_type": "code",
   "execution_count": 1,
   "id": "e0a6adf5-a47b-4a76-8dc1-6d5fcb3dca68",
   "metadata": {},
   "outputs": [
    {
     "name": "stdin",
     "output_type": "stream",
     "text": [
      "输入一个整数 31\n"
     ]
    }
   ],
   "source": [
    "num = input(\"输入一个整数\")\n",
    "num = int(num)"
   ]
  },
  {
   "cell_type": "code",
   "execution_count": 2,
   "id": "98264fef-cd14-4d10-9a48-89a311df0995",
   "metadata": {},
   "outputs": [
    {
     "name": "stdout",
     "output_type": "stream",
     "text": [
      "num is positive\n"
     ]
    }
   ],
   "source": [
    "if num > 0:\n",
    "    print(\"num is positive\")\n",
    "elif num < 0:\n",
    "    print(\"num is negative\")\n",
    "else:\n",
    "    print(\"num is zero\")"
   ]
  },
  {
   "cell_type": "code",
   "execution_count": null,
   "id": "fd27b76c-e617-4f08-a8a9-4d2c89720488",
   "metadata": {},
   "outputs": [],
   "source": []
  }
 ],
 "metadata": {
  "kernelspec": {
   "display_name": "Python 3 (ipykernel)",
   "language": "python",
   "name": "python3"
  },
  "language_info": {
   "codemirror_mode": {
    "name": "ipython",
    "version": 3
   },
   "file_extension": ".py",
   "mimetype": "text/x-python",
   "name": "python",
   "nbconvert_exporter": "python",
   "pygments_lexer": "ipython3",
   "version": "3.10.9"
  }
 },
 "nbformat": 4,
 "nbformat_minor": 5
}
