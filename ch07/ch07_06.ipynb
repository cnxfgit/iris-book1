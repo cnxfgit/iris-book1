{
 "cells": [
  {
   "cell_type": "code",
   "execution_count": null,
   "id": "a2cbbe53-0ea9-4063-a364-02a3e079de5e",
   "metadata": {},
   "outputs": [],
   "source": [
    "try:\n",
    "    x = 1 / 0\n",
    "except ZeroDivisionError:\n",
    "    print(\"出书\")"
   ]
  }
 ],
 "metadata": {
  "kernelspec": {
   "display_name": "Python 3 (ipykernel)",
   "language": "python",
   "name": "python3"
  },
  "language_info": {
   "codemirror_mode": {
    "name": "ipython",
    "version": 3
   },
   "file_extension": ".py",
   "mimetype": "text/x-python",
   "name": "python",
   "nbconvert_exporter": "python",
   "pygments_lexer": "ipython3",
   "version": "3.10.9"
  }
 },
 "nbformat": 4,
 "nbformat_minor": 5
}
