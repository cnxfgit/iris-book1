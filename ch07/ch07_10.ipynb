{
 "cells": [
  {
   "cell_type": "code",
   "execution_count": 1,
   "id": "b0eb8855-6f11-4ea7-a9a4-82e3e78c8697",
   "metadata": {},
   "outputs": [],
   "source": [
    "a = [1,2,3,4,5]\n",
    "b = [6,7,8,9,0]"
   ]
  },
  {
   "cell_type": "code",
   "execution_count": 2,
   "id": "fc730dc8-6098-4ef9-b269-de03269592a5",
   "metadata": {},
   "outputs": [],
   "source": [
    "dot_product = 0"
   ]
  },
  {
   "cell_type": "code",
   "execution_count": 3,
   "id": "78aed8dd-dc40-4aad-ab8b-046b6a0fd81b",
   "metadata": {},
   "outputs": [],
   "source": [
    "for i in range(len(a)):\n",
    "    dot_product += a[i] * b[i]"
   ]
  },
  {
   "cell_type": "code",
   "execution_count": 4,
   "id": "052d86ed-82ca-4cf0-83ad-4ea26acae1d9",
   "metadata": {},
   "outputs": [
    {
     "name": "stdout",
     "output_type": "stream",
     "text": [
      "向量内积为：  80\n"
     ]
    }
   ],
   "source": [
    "print(\"向量内积为： \", dot_product)"
   ]
  },
  {
   "cell_type": "code",
   "execution_count": null,
   "id": "0398346b-20a5-4b18-bf9b-78134de9d344",
   "metadata": {},
   "outputs": [],
   "source": []
  }
 ],
 "metadata": {
  "kernelspec": {
   "display_name": "Python 3 (ipykernel)",
   "language": "python",
   "name": "python3"
  },
  "language_info": {
   "codemirror_mode": {
    "name": "ipython",
    "version": 3
   },
   "file_extension": ".py",
   "mimetype": "text/x-python",
   "name": "python",
   "nbconvert_exporter": "python",
   "pygments_lexer": "ipython3",
   "version": "3.10.9"
  }
 },
 "nbformat": 4,
 "nbformat_minor": 5
}
