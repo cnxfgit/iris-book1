{
 "cells": [
  {
   "cell_type": "code",
   "execution_count": 1,
   "id": "18c709a9-a193-4586-bf98-2a284942bd07",
   "metadata": {},
   "outputs": [],
   "source": [
    "import itertools"
   ]
  },
  {
   "cell_type": "code",
   "execution_count": 2,
   "id": "da9a9e7d-811b-4a35-bd8b-b9cc080a5089",
   "metadata": {},
   "outputs": [],
   "source": [
    "string = 'abc'"
   ]
  },
  {
   "cell_type": "code",
   "execution_count": 3,
   "id": "4ae7a5fa-32a3-4d4d-8f39-d1a946b56d12",
   "metadata": {},
   "outputs": [],
   "source": [
    "perms_all = itertools.permutations(string)"
   ]
  },
  {
   "cell_type": "code",
   "execution_count": 4,
   "id": "3d34ba7a-afd0-4982-88d6-6b8ee842c66b",
   "metadata": {},
   "outputs": [
    {
     "name": "stdout",
     "output_type": "stream",
     "text": [
      "abc\n",
      "acb\n",
      "bac\n",
      "bca\n",
      "cab\n",
      "cba\n"
     ]
    }
   ],
   "source": [
    "for perm_idx in perms_all:\n",
    "    print(''.join(perm_idx))"
   ]
  },
  {
   "cell_type": "code",
   "execution_count": null,
   "id": "581bd29c-c579-4fce-93ad-694e8a757429",
   "metadata": {},
   "outputs": [],
   "source": []
  }
 ],
 "metadata": {
  "kernelspec": {
   "display_name": "Python 3 (ipykernel)",
   "language": "python",
   "name": "python3"
  },
  "language_info": {
   "codemirror_mode": {
    "name": "ipython",
    "version": 3
   },
   "file_extension": ".py",
   "mimetype": "text/x-python",
   "name": "python",
   "nbconvert_exporter": "python",
   "pygments_lexer": "ipython3",
   "version": "3.10.9"
  }
 },
 "nbformat": 4,
 "nbformat_minor": 5
}
