{
 "cells": [
  {
   "cell_type": "code",
   "execution_count": 1,
   "id": "48575c17-102f-411d-ae30-ceea5228279b",
   "metadata": {},
   "outputs": [],
   "source": [
    "score = 98"
   ]
  },
  {
   "cell_type": "code",
   "execution_count": 2,
   "id": "324b5368-89e7-4483-888d-289196f3bec0",
   "metadata": {},
   "outputs": [
    {
     "name": "stdout",
     "output_type": "stream",
     "text": [
      "及格\n"
     ]
    }
   ],
   "source": [
    "if score >= 60:\n",
    "    print(\"及格\")\n",
    "else:\n",
    "    print(\"不及格\")"
   ]
  },
  {
   "cell_type": "code",
   "execution_count": null,
   "id": "341cb993-8988-40fe-91b6-0656a074fedb",
   "metadata": {},
   "outputs": [],
   "source": []
  }
 ],
 "metadata": {
  "kernelspec": {
   "display_name": "Python 3 (ipykernel)",
   "language": "python",
   "name": "python3"
  },
  "language_info": {
   "codemirror_mode": {
    "name": "ipython",
    "version": 3
   },
   "file_extension": ".py",
   "mimetype": "text/x-python",
   "name": "python",
   "nbconvert_exporter": "python",
   "pygments_lexer": "ipython3",
   "version": "3.10.9"
  }
 },
 "nbformat": 4,
 "nbformat_minor": 5
}
