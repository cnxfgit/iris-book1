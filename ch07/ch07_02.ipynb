{
 "cells": [
  {
   "cell_type": "code",
   "execution_count": 1,
   "id": "d70ae451-971d-495b-829a-e0ef170a4380",
   "metadata": {},
   "outputs": [],
   "source": [
    "str_for_loop = 'Matplotlib'"
   ]
  },
  {
   "cell_type": "code",
   "execution_count": 2,
   "id": "ba1f8020-25f2-4b24-9211-526e09e4ece2",
   "metadata": {},
   "outputs": [
    {
     "name": "stdout",
     "output_type": "stream",
     "text": [
      "M\n",
      "a\n",
      "t\n",
      "p\n",
      "l\n",
      "o\n",
      "t\n",
      "l\n",
      "i\n",
      "b\n"
     ]
    }
   ],
   "source": [
    "for str_idx in str_for_loop:\n",
    "    print(str_idx)"
   ]
  },
  {
   "cell_type": "code",
   "execution_count": 3,
   "id": "212b9da2-50f0-4d7e-a2c9-5a8c1cf945c2",
   "metadata": {},
   "outputs": [
    {
     "name": "stdout",
     "output_type": "stream",
     "text": [
      "Matplotlib\n",
      "NumPy\n",
      "Seaborn\n",
      "Pandas\n",
      "Plotly\n",
      "SK-learn\n"
     ]
    }
   ],
   "source": [
    "list_for_loop = ['Matplotlib', 'NumPy', 'Seaborn',\n",
    "                'Pandas', 'Plotly', 'SK-learn']\n",
    "for item_idx in list_for_loop:\n",
    "    print(item_idx)"
   ]
  },
  {
   "cell_type": "code",
   "execution_count": 4,
   "id": "e826a8be-1889-4b0e-953e-955aff67969d",
   "metadata": {},
   "outputs": [
    {
     "name": "stdout",
     "output_type": "stream",
     "text": [
      "====================\n",
      "Matplotlib\n",
      "A visualization tool\n",
      "====================\n",
      "NumPy\n",
      "====================\n",
      "Seaborn\n",
      "A visualization tool\n",
      "====================\n",
      "Pandas\n",
      "====================\n",
      "Plotly\n",
      "A visualization tool\n",
      "====================\n",
      "SK-learn\n"
     ]
    }
   ],
   "source": [
    "packages_visual = ['Matplotlib', 'Seaborn', 'Plotly']\n",
    "for  item_idx in list_for_loop:\n",
    "    print(\"====================\")\n",
    "    print(item_idx)\n",
    "    if item_idx in packages_visual:\n",
    "        print('A visualization tool')"
   ]
  },
  {
   "cell_type": "code",
   "execution_count": 5,
   "id": "54c504d7-ab8e-497d-b415-8d3ffbac660a",
   "metadata": {},
   "outputs": [
    {
     "name": "stdout",
     "output_type": "stream",
     "text": [
      "====================\n",
      "Matplotlib\n",
      "M\n",
      "a\n",
      "t\n",
      "p\n",
      "l\n",
      "o\n",
      "t\n",
      "l\n",
      "i\n",
      "b\n",
      "====================\n",
      "NumPy\n",
      "N\n",
      "u\n",
      "m\n",
      "P\n",
      "y\n",
      "====================\n",
      "Seaborn\n",
      "S\n",
      "e\n",
      "a\n",
      "b\n",
      "o\n",
      "r\n",
      "n\n",
      "====================\n",
      "Pandas\n",
      "P\n",
      "a\n",
      "n\n",
      "d\n",
      "a\n",
      "s\n",
      "====================\n",
      "Plotly\n",
      "P\n",
      "l\n",
      "o\n",
      "t\n",
      "l\n",
      "y\n",
      "====================\n",
      "SK-learn\n",
      "S\n",
      "K\n",
      "-\n",
      "l\n",
      "e\n",
      "a\n",
      "r\n",
      "n\n"
     ]
    }
   ],
   "source": [
    "for item_idx in list_for_loop:\n",
    "    print(\"====================\")\n",
    "    print(item_idx)\n",
    "\n",
    "    for item_idx in item_idx:\n",
    "        print(item_idx)"
   ]
  },
  {
   "cell_type": "code",
   "execution_count": null,
   "id": "89d013d4-5213-4960-85dc-8c919f353534",
   "metadata": {},
   "outputs": [],
   "source": []
  }
 ],
 "metadata": {
  "kernelspec": {
   "display_name": "Python 3 (ipykernel)",
   "language": "python",
   "name": "python3"
  },
  "language_info": {
   "codemirror_mode": {
    "name": "ipython",
    "version": 3
   },
   "file_extension": ".py",
   "mimetype": "text/x-python",
   "name": "python",
   "nbconvert_exporter": "python",
   "pygments_lexer": "ipython3",
   "version": "3.10.9"
  }
 },
 "nbformat": 4,
 "nbformat_minor": 5
}
