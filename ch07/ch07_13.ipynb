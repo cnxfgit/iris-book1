{
 "cells": [
  {
   "cell_type": "code",
   "execution_count": 1,
   "id": "2ddf2209-9dec-436b-982e-fd8fe9dc01b2",
   "metadata": {},
   "outputs": [],
   "source": [
    "a = [1,2,3,4,5]\n",
    "b = [6,7,8,9,0]"
   ]
  },
  {
   "cell_type": "code",
   "execution_count": 2,
   "id": "0ae8f931-6fae-4ab7-a958-eaa483971269",
   "metadata": {},
   "outputs": [],
   "source": [
    "dot_product = 0"
   ]
  },
  {
   "cell_type": "code",
   "execution_count": 3,
   "id": "f5fd98af-f0df-47e9-ae7f-e4bf15b77435",
   "metadata": {},
   "outputs": [],
   "source": [
    "for a_i, b_i in zip(a, b):\n",
    "    dot_product += (a_i * b_i)"
   ]
  },
  {
   "cell_type": "code",
   "execution_count": 4,
   "id": "04e2e5ff-e261-4acc-9d14-ed240d99afc2",
   "metadata": {},
   "outputs": [
    {
     "name": "stdout",
     "output_type": "stream",
     "text": [
      "向量内积为:  80\n"
     ]
    }
   ],
   "source": [
    "print(\"向量内积为: \", dot_product)"
   ]
  },
  {
   "cell_type": "code",
   "execution_count": null,
   "id": "4b360679-8e33-4497-a233-d70c392db506",
   "metadata": {},
   "outputs": [],
   "source": []
  }
 ],
 "metadata": {
  "kernelspec": {
   "display_name": "Python 3 (ipykernel)",
   "language": "python",
   "name": "python3"
  },
  "language_info": {
   "codemirror_mode": {
    "name": "ipython",
    "version": 3
   },
   "file_extension": ".py",
   "mimetype": "text/x-python",
   "name": "python",
   "nbconvert_exporter": "python",
   "pygments_lexer": "ipython3",
   "version": "3.10.9"
  }
 },
 "nbformat": 4,
 "nbformat_minor": 5
}
