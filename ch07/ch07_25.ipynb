{
 "cells": [
  {
   "cell_type": "code",
   "execution_count": 1,
   "id": "a15e274f-9357-4614-8f80-6f0a6788b303",
   "metadata": {},
   "outputs": [],
   "source": [
    "import itertools"
   ]
  },
  {
   "cell_type": "code",
   "execution_count": 2,
   "id": "e1bcb72b-76d1-48c4-9ab5-22d1d8b7e937",
   "metadata": {},
   "outputs": [],
   "source": [
    "string = 'abc'"
   ]
  },
  {
   "cell_type": "code",
   "execution_count": 3,
   "id": "c28923fc-18b6-4d62-a03f-909bd1c13dcf",
   "metadata": {},
   "outputs": [],
   "source": [
    "perms_all = itertools.permutations(string, 2)"
   ]
  },
  {
   "cell_type": "code",
   "execution_count": 4,
   "id": "55e7579c-6f9d-41e8-8c66-5f09b819bb6f",
   "metadata": {},
   "outputs": [
    {
     "name": "stdout",
     "output_type": "stream",
     "text": [
      "ab\n",
      "ac\n",
      "ba\n",
      "bc\n",
      "ca\n",
      "cb\n"
     ]
    }
   ],
   "source": [
    "for perm_idx in perms_all:\n",
    "    print(''.join(perm_idx))"
   ]
  }
 ],
 "metadata": {
  "kernelspec": {
   "display_name": "Python 3 (ipykernel)",
   "language": "python",
   "name": "python3"
  },
  "language_info": {
   "codemirror_mode": {
    "name": "ipython",
    "version": 3
   },
   "file_extension": ".py",
   "mimetype": "text/x-python",
   "name": "python",
   "nbconvert_exporter": "python",
   "pygments_lexer": "ipython3",
   "version": "3.10.9"
  }
 },
 "nbformat": 4,
 "nbformat_minor": 5
}
