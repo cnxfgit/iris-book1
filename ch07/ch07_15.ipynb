{
 "cells": [
  {
   "cell_type": "code",
   "execution_count": 1,
   "id": "4398f525-c3c1-40e2-909e-12dc2f9e18b9",
   "metadata": {},
   "outputs": [],
   "source": [
    "A = [[1,2,10,20],\n",
    "     [3,4,30,40],\n",
    "     [5,6,50,60]]"
   ]
  },
  {
   "cell_type": "code",
   "execution_count": 3,
   "id": "a3bfe9fb-6cf8-44d1-97cc-8d1a8af97a08",
   "metadata": {},
   "outputs": [],
   "source": [
    "B = [[4,2],\n",
    "     [3,1],\n",
    "     [40,20],\n",
    "     [30,10]]"
   ]
  },
  {
   "cell_type": "code",
   "execution_count": 4,
   "id": "8350c2d5-f39e-4df1-827e-d8e678c45acd",
   "metadata": {},
   "outputs": [],
   "source": [
    "C = [[0,0],\n",
    "     [0,0],\n",
    "     [0,0]]"
   ]
  },
  {
   "cell_type": "code",
   "execution_count": 5,
   "id": "d61ee80a-c361-4476-9db4-5bc23f8f8bab",
   "metadata": {},
   "outputs": [],
   "source": [
    "for i in range(len(A)):\n",
    "    for j in range(len(B[0])):\n",
    "        for k in range(len(B)):\n",
    "            C[i][j] += A[i][k] * B[k][j]"
   ]
  },
  {
   "cell_type": "code",
   "execution_count": 6,
   "id": "c3226739-6eb1-4da8-9392-4770a026ffdb",
   "metadata": {},
   "outputs": [
    {
     "name": "stdout",
     "output_type": "stream",
     "text": [
      "[1010, 404]\n",
      "[2424, 1010]\n",
      "[3838, 1616]\n"
     ]
    }
   ],
   "source": [
    "for row in C:\n",
    "    print(row)"
   ]
  }
 ],
 "metadata": {
  "kernelspec": {
   "display_name": "Python 3 (ipykernel)",
   "language": "python",
   "name": "python3"
  },
  "language_info": {
   "codemirror_mode": {
    "name": "ipython",
    "version": 3
   },
   "file_extension": ".py",
   "mimetype": "text/x-python",
   "name": "python",
   "nbconvert_exporter": "python",
   "pygments_lexer": "ipython3",
   "version": "3.10.9"
  }
 },
 "nbformat": 4,
 "nbformat_minor": 5
}
