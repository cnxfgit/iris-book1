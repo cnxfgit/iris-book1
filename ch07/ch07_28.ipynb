{
 "cells": [
  {
   "cell_type": "code",
   "execution_count": 1,
   "id": "a885df0d-28e7-4cbb-ab16-04238fb5cfd9",
   "metadata": {},
   "outputs": [],
   "source": [
    "import itertools"
   ]
  },
  {
   "cell_type": "code",
   "execution_count": 2,
   "id": "b6cd061a-f18d-441e-954a-80c7ca26279a",
   "metadata": {},
   "outputs": [],
   "source": [
    "string = 'abc'"
   ]
  },
  {
   "cell_type": "code",
   "execution_count": 3,
   "id": "e90e0e21-7375-46aa-9dc3-2debfc288a3e",
   "metadata": {},
   "outputs": [],
   "source": [
    "elements = list(string)"
   ]
  },
  {
   "cell_type": "code",
   "execution_count": 4,
   "id": "906fbf11-6ae9-4c09-9f99-a8c640761152",
   "metadata": {},
   "outputs": [],
   "source": [
    "length = 2"
   ]
  },
  {
   "cell_type": "code",
   "execution_count": 5,
   "id": "d612f38d-2a88-49c5-8506-cffdadad103a",
   "metadata": {},
   "outputs": [],
   "source": [
    "combos = itertools.combinations_with_replacement(elements, length)"
   ]
  },
  {
   "cell_type": "code",
   "execution_count": 6,
   "id": "088b2109-73fd-4caa-8781-26be29fc5de6",
   "metadata": {},
   "outputs": [
    {
     "name": "stdout",
     "output_type": "stream",
     "text": [
      "aa\n",
      "ab\n",
      "ac\n",
      "bb\n",
      "bc\n",
      "cc\n"
     ]
    }
   ],
   "source": [
    "for combination_idx in combos:\n",
    "    print(''.join(combination_idx))"
   ]
  }
 ],
 "metadata": {
  "kernelspec": {
   "display_name": "Python 3 (ipykernel)",
   "language": "python",
   "name": "python3"
  },
  "language_info": {
   "codemirror_mode": {
    "name": "ipython",
    "version": 3
   },
   "file_extension": ".py",
   "mimetype": "text/x-python",
   "name": "python",
   "nbconvert_exporter": "python",
   "pygments_lexer": "ipython3",
   "version": "3.10.9"
  }
 },
 "nbformat": 4,
 "nbformat_minor": 5
}
