{
 "cells": [
  {
   "cell_type": "code",
   "execution_count": 1,
   "id": "ed669ce5-6578-48eb-8764-b7ca58e928ff",
   "metadata": {},
   "outputs": [],
   "source": [
    "column1 = [1,2,3,4]\n",
    "column2 = ['a', 'b', 'c']"
   ]
  },
  {
   "cell_type": "code",
   "execution_count": 2,
   "id": "518e90d1-6b9d-45f9-9772-4b38a12d4d50",
   "metadata": {},
   "outputs": [],
   "source": [
    "cartesian_product = [(x, y) for x in column1\n",
    "                    for y in column2]"
   ]
  },
  {
   "cell_type": "code",
   "execution_count": 3,
   "id": "d4fac45a-00a2-4f6c-a5ce-53df5e6c2309",
   "metadata": {},
   "outputs": [
    {
     "name": "stdout",
     "output_type": "stream",
     "text": [
      "[(1, 'a'), (1, 'b'), (1, 'c'), (2, 'a'), (2, 'b'), (2, 'c'), (3, 'a'), (3, 'b'), (3, 'c'), (4, 'a'), (4, 'b'), (4, 'c')]\n"
     ]
    }
   ],
   "source": [
    "print(cartesian_product)"
   ]
  },
  {
   "cell_type": "code",
   "execution_count": 4,
   "id": "9a26ba15-b971-4023-a610-bdfba2d9f979",
   "metadata": {},
   "outputs": [],
   "source": [
    "from itertools import product"
   ]
  },
  {
   "cell_type": "code",
   "execution_count": 5,
   "id": "e92139d1-14d4-47bf-af92-d640d6806074",
   "metadata": {},
   "outputs": [],
   "source": [
    "cartesian_product = list(product(column1, column2))"
   ]
  },
  {
   "cell_type": "code",
   "execution_count": 6,
   "id": "0818f861-2f38-4d73-86bd-12da97b5c0d1",
   "metadata": {},
   "outputs": [
    {
     "name": "stdout",
     "output_type": "stream",
     "text": [
      "[(1, 'a'), (1, 'b'), (1, 'c'), (2, 'a'), (2, 'b'), (2, 'c'), (3, 'a'), (3, 'b'), (3, 'c'), (4, 'a'), (4, 'b'), (4, 'c')]\n"
     ]
    }
   ],
   "source": [
    "print(cartesian_product)"
   ]
  },
  {
   "cell_type": "code",
   "execution_count": null,
   "id": "9bf86604-5ab8-48e9-a0e9-4aa14f3c23d4",
   "metadata": {},
   "outputs": [],
   "source": []
  }
 ],
 "metadata": {
  "kernelspec": {
   "display_name": "Python 3 (ipykernel)",
   "language": "python",
   "name": "python3"
  },
  "language_info": {
   "codemirror_mode": {
    "name": "ipython",
    "version": 3
   },
   "file_extension": ".py",
   "mimetype": "text/x-python",
   "name": "python",
   "nbconvert_exporter": "python",
   "pygments_lexer": "ipython3",
   "version": "3.10.9"
  }
 },
 "nbformat": 4,
 "nbformat_minor": 5
}
