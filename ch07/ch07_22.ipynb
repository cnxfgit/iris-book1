{
 "cells": [
  {
   "cell_type": "code",
   "execution_count": 2,
   "id": "719898fd-db80-41b6-80fa-6a2ac1dd2dc4",
   "metadata": {},
   "outputs": [],
   "source": [
    "def hadamard_prod(M1, M2):\n",
    "    if (len(M1) != len(M2) or\n",
    "       len(M1[0]) != len(M2[0])):\n",
    "        raise ValueError(\"Matrices must have the same shape\")\n",
    "    result = [[M1[i][j] * M2[i][j]\n",
    "              for j in range(len(M1[0]))]\n",
    "             for i in range(len(M1))]\n",
    "    return result"
   ]
  },
  {
   "cell_type": "code",
   "execution_count": 3,
   "id": "3d0c2f0f-2af5-45eb-88cc-b23fa08dfb50",
   "metadata": {},
   "outputs": [],
   "source": [
    "A = [[1,2],\n",
    "    [3,4]]\n",
    "B = [[2,3],\n",
    "    [4,5]]"
   ]
  },
  {
   "cell_type": "code",
   "execution_count": 4,
   "id": "0630df4d-d25f-4c11-a660-bd97068c88ef",
   "metadata": {},
   "outputs": [
    {
     "name": "stdout",
     "output_type": "stream",
     "text": [
      "[[2, 6], [12, 20]]\n"
     ]
    }
   ],
   "source": [
    "C = hadamard_prod(A,B)\n",
    "print(C)"
   ]
  },
  {
   "cell_type": "code",
   "execution_count": null,
   "id": "8b2722f0-bef4-4e5c-aa13-2c34d3a37ded",
   "metadata": {},
   "outputs": [],
   "source": []
  }
 ],
 "metadata": {
  "kernelspec": {
   "display_name": "Python 3 (ipykernel)",
   "language": "python",
   "name": "python3"
  },
  "language_info": {
   "codemirror_mode": {
    "name": "ipython",
    "version": 3
   },
   "file_extension": ".py",
   "mimetype": "text/x-python",
   "name": "python",
   "nbconvert_exporter": "python",
   "pygments_lexer": "ipython3",
   "version": "3.10.9"
  }
 },
 "nbformat": 4,
 "nbformat_minor": 5
}
