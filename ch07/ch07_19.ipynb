{
 "cells": [
  {
   "cell_type": "code",
   "execution_count": 1,
   "id": "6f63d41c-9a3d-4a8c-a68d-8ab86513c78f",
   "metadata": {},
   "outputs": [],
   "source": [
    "def linspace(start, stop, num=50, endpoint=True):\n",
    "    if num < 2:\n",
    "        raise ValueError(\"Number of samples must be at least 2\")\n",
    "\n",
    "    if endpoint:\n",
    "        step = (stop - start) / (num - 1)\n",
    "        return [start + i * step for i in range(num)]\n",
    "    else:\n",
    "        step = (stop - start) / num\n",
    "        return [start + i * step for i in range(num)]"
   ]
  },
  {
   "cell_type": "code",
   "execution_count": 2,
   "id": "a73d0da8-0bfe-41e2-a83e-aaa9f5831f31",
   "metadata": {},
   "outputs": [],
   "source": [
    "start = 0\n",
    "stop = 10\n",
    "num = 21\n",
    "endpoint = True"
   ]
  },
  {
   "cell_type": "code",
   "execution_count": 3,
   "id": "51c67614-a93b-44b3-8624-aba41700cac1",
   "metadata": {},
   "outputs": [],
   "source": [
    "values = linspace(start, stop, num, endpoint)"
   ]
  },
  {
   "cell_type": "code",
   "execution_count": 4,
   "id": "1c252927-a0d9-4162-8ad3-f686ab086d15",
   "metadata": {},
   "outputs": [
    {
     "name": "stdout",
     "output_type": "stream",
     "text": [
      "[0.0, 0.5, 1.0, 1.5, 2.0, 2.5, 3.0, 3.5, 4.0, 4.5, 5.0, 5.5, 6.0, 6.5, 7.0, 7.5, 8.0, 8.5, 9.0, 9.5, 10.0]\n"
     ]
    }
   ],
   "source": [
    "print(values)"
   ]
  },
  {
   "cell_type": "code",
   "execution_count": null,
   "id": "ede8ccd7-9b02-425c-b791-651c2bf1377e",
   "metadata": {},
   "outputs": [],
   "source": []
  }
 ],
 "metadata": {
  "kernelspec": {
   "display_name": "Python 3 (ipykernel)",
   "language": "python",
   "name": "python3"
  },
  "language_info": {
   "codemirror_mode": {
    "name": "ipython",
    "version": 3
   },
   "file_extension": ".py",
   "mimetype": "text/x-python",
   "name": "python",
   "nbconvert_exporter": "python",
   "pygments_lexer": "ipython3",
   "version": "3.10.9"
  }
 },
 "nbformat": 4,
 "nbformat_minor": 5
}
