{
 "cells": [
  {
   "cell_type": "code",
   "execution_count": 1,
   "id": "40e22b1f-789f-4234-86ef-13b85a3aa261",
   "metadata": {},
   "outputs": [],
   "source": [
    "from sympy import Matrix, symbols"
   ]
  },
  {
   "cell_type": "code",
   "execution_count": 2,
   "id": "1b464c1f-79a4-4787-aa2f-69e3a454a20c",
   "metadata": {},
   "outputs": [],
   "source": [
    "a, b, c, d = symbols('a b c d')\n",
    "A = Matrix([[a**2, 2*a*b*c],\n",
    "           [2*a*b*c, b**2]])"
   ]
  },
  {
   "cell_type": "code",
   "execution_count": 3,
   "id": "ca441645-1a57-488d-8b24-9c6c37f5568c",
   "metadata": {},
   "outputs": [
    {
     "data": {
      "text/latex": [
       "$\\displaystyle \\left[\\begin{matrix}a^{2} & 2 a b c\\\\2 a b c & b^{2}\\end{matrix}\\right]$"
      ],
      "text/plain": [
       "Matrix([\n",
       "[   a**2, 2*a*b*c],\n",
       "[2*a*b*c,    b**2]])"
      ]
     },
     "execution_count": 3,
     "metadata": {},
     "output_type": "execute_result"
    }
   ],
   "source": [
    "A"
   ]
  },
  {
   "cell_type": "code",
   "execution_count": 4,
   "id": "4e5ff6a2-cd68-40de-90ac-1b4153c06ec6",
   "metadata": {},
   "outputs": [
    {
     "data": {
      "text/plain": [
       "{a**2/2 + b**2/2 - sqrt(a**4 + 16*a**2*b**2*c**2 - 2*a**2*b**2 + b**4)/2: 1,\n",
       " a**2/2 + b**2/2 + sqrt(a**4 + 16*a**2*b**2*c**2 - 2*a**2*b**2 + b**4)/2: 1}"
      ]
     },
     "execution_count": 4,
     "metadata": {},
     "output_type": "execute_result"
    }
   ],
   "source": [
    "A.eigenvals()"
   ]
  },
  {
   "cell_type": "code",
   "execution_count": 5,
   "id": "f497fb02-661a-4736-88d8-491819730ed8",
   "metadata": {},
   "outputs": [
    {
     "data": {
      "text/plain": [
       "[(a**2/2 + b**2/2 - sqrt(a**4 + 16*a**2*b**2*c**2 - 2*a**2*b**2 + b**4)/2,\n",
       "  1,\n",
       "  [Matrix([\n",
       "   [-b/(2*a*c) + (a**2/2 + b**2/2 - sqrt(a**4 + 16*a**2*b**2*c**2 - 2*a**2*b**2 + b**4)/2)/(2*a*b*c)],\n",
       "   [                                                                                               1]])]),\n",
       " (a**2/2 + b**2/2 + sqrt(a**4 + 16*a**2*b**2*c**2 - 2*a**2*b**2 + b**4)/2,\n",
       "  1,\n",
       "  [Matrix([\n",
       "   [-b/(2*a*c) + (a**2/2 + b**2/2 + sqrt(a**4 + 16*a**2*b**2*c**2 - 2*a**2*b**2 + b**4)/2)/(2*a*b*c)],\n",
       "   [                                                                                               1]])])]"
      ]
     },
     "execution_count": 5,
     "metadata": {},
     "output_type": "execute_result"
    }
   ],
   "source": [
    "A.eigenvects()"
   ]
  },
  {
   "cell_type": "code",
   "execution_count": 6,
   "id": "208bfdee-f508-43a6-9722-07e0d758d634",
   "metadata": {},
   "outputs": [],
   "source": [
    "A = Matrix([[0,1], [1,1], [1,0]])"
   ]
  },
  {
   "cell_type": "code",
   "execution_count": 7,
   "id": "20ac4866-5f58-4086-bc6d-93d6ac972df6",
   "metadata": {},
   "outputs": [
    {
     "data": {
      "text/latex": [
       "$\\displaystyle \\left[\\begin{matrix}0 & 1\\\\1 & 1\\\\1 & 0\\end{matrix}\\right]$"
      ],
      "text/plain": [
       "Matrix([\n",
       "[0, 1],\n",
       "[1, 1],\n",
       "[1, 0]])"
      ]
     },
     "execution_count": 7,
     "metadata": {},
     "output_type": "execute_result"
    }
   ],
   "source": [
    "A\n"
   ]
  },
  {
   "cell_type": "code",
   "execution_count": 8,
   "id": "ea32dfdf-5eca-4904-ae77-9892ed21f04e",
   "metadata": {},
   "outputs": [],
   "source": [
    "U, S, V = A.singular_value_decomposition()"
   ]
  },
  {
   "cell_type": "code",
   "execution_count": 9,
   "id": "d58d4f4e-5ca1-4259-84f3-d94afc270b02",
   "metadata": {},
   "outputs": [
    {
     "data": {
      "text/latex": [
       "$\\displaystyle \\left[\\begin{matrix}\\frac{\\sqrt{2}}{2} & \\frac{\\sqrt{6}}{6}\\\\0 & \\frac{\\sqrt{6}}{3}\\\\- \\frac{\\sqrt{2}}{2} & \\frac{\\sqrt{6}}{6}\\end{matrix}\\right]$"
      ],
      "text/plain": [
       "Matrix([\n",
       "[ sqrt(2)/2, sqrt(6)/6],\n",
       "[         0, sqrt(6)/3],\n",
       "[-sqrt(2)/2, sqrt(6)/6]])"
      ]
     },
     "execution_count": 9,
     "metadata": {},
     "output_type": "execute_result"
    }
   ],
   "source": [
    "U"
   ]
  },
  {
   "cell_type": "code",
   "execution_count": 10,
   "id": "df1fd982-3334-4078-8f3d-31fc455073bf",
   "metadata": {},
   "outputs": [
    {
     "data": {
      "text/latex": [
       "$\\displaystyle \\left[\\begin{matrix}1 & 0\\\\0 & \\sqrt{3}\\end{matrix}\\right]$"
      ],
      "text/plain": [
       "Matrix([\n",
       "[1,       0],\n",
       "[0, sqrt(3)]])"
      ]
     },
     "execution_count": 10,
     "metadata": {},
     "output_type": "execute_result"
    }
   ],
   "source": [
    "S"
   ]
  },
  {
   "cell_type": "code",
   "execution_count": 11,
   "id": "952c4f33-f351-4695-bcdb-9719bebea5ef",
   "metadata": {},
   "outputs": [
    {
     "data": {
      "text/latex": [
       "$\\displaystyle \\left[\\begin{matrix}- \\frac{\\sqrt{2}}{2} & \\frac{\\sqrt{2}}{2}\\\\\\frac{\\sqrt{2}}{2} & \\frac{\\sqrt{2}}{2}\\end{matrix}\\right]$"
      ],
      "text/plain": [
       "Matrix([\n",
       "[-sqrt(2)/2, sqrt(2)/2],\n",
       "[ sqrt(2)/2, sqrt(2)/2]])"
      ]
     },
     "execution_count": 11,
     "metadata": {},
     "output_type": "execute_result"
    }
   ],
   "source": [
    "V"
   ]
  },
  {
   "cell_type": "code",
   "execution_count": null,
   "id": "fd49fcbf-62bf-4821-8f60-b90a50215caa",
   "metadata": {},
   "outputs": [],
   "source": []
  }
 ],
 "metadata": {
  "kernelspec": {
   "display_name": "Python 3 (ipykernel)",
   "language": "python",
   "name": "python3"
  },
  "language_info": {
   "codemirror_mode": {
    "name": "ipython",
    "version": 3
   },
   "file_extension": ".py",
   "mimetype": "text/x-python",
   "name": "python",
   "nbconvert_exporter": "python",
   "pygments_lexer": "ipython3",
   "version": "3.10.9"
  }
 },
 "nbformat": 4,
 "nbformat_minor": 5
}
