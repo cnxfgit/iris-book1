{
 "cells": [
  {
   "cell_type": "code",
   "execution_count": 1,
   "id": "b4240f9c-2102-4425-9f99-dd7a9f5ef231",
   "metadata": {},
   "outputs": [],
   "source": [
    "from sympy import symbols, solve, Eq"
   ]
  },
  {
   "cell_type": "code",
   "execution_count": 2,
   "id": "d098c060-2762-4d58-a0e8-d558f9a8e6d6",
   "metadata": {},
   "outputs": [],
   "source": [
    "x = symbols('x')"
   ]
  },
  {
   "cell_type": "code",
   "execution_count": 3,
   "id": "484001cd-8dcb-4e26-a991-b2bbbb7ae83a",
   "metadata": {},
   "outputs": [],
   "source": [
    "equation_1 = Eq(x**2, 1)"
   ]
  },
  {
   "cell_type": "code",
   "execution_count": 4,
   "id": "b3d2de1b-343b-43a9-bf54-5f564e0996a6",
   "metadata": {},
   "outputs": [
    {
     "data": {
      "text/plain": [
       "[-1, 1]"
      ]
     },
     "execution_count": 4,
     "metadata": {},
     "output_type": "execute_result"
    }
   ],
   "source": [
    "solve(equation_1, x)"
   ]
  },
  {
   "cell_type": "code",
   "execution_count": 5,
   "id": "581a0922-bb59-4610-a62a-6344a59a13fd",
   "metadata": {},
   "outputs": [],
   "source": [
    "a,b,c = symbols(\"a,b,c\", real=True)"
   ]
  },
  {
   "cell_type": "code",
   "execution_count": 6,
   "id": "39a8e893-ee03-449c-b42f-715f08cbf092",
   "metadata": {},
   "outputs": [],
   "source": [
    "equation_2 = Eq(a*x**2+b*x+c,0)"
   ]
  },
  {
   "cell_type": "code",
   "execution_count": 7,
   "id": "7538d0be-529b-4a72-8ac7-05825481a9da",
   "metadata": {},
   "outputs": [
    {
     "data": {
      "text/latex": [
       "$\\displaystyle a$"
      ],
      "text/plain": [
       "a"
      ]
     },
     "execution_count": 7,
     "metadata": {},
     "output_type": "execute_result"
    }
   ],
   "source": [
    "a"
   ]
  },
  {
   "cell_type": "code",
   "execution_count": 8,
   "id": "c5e6f9b2-5e4e-4595-8e17-175494d550e7",
   "metadata": {},
   "outputs": [
    {
     "data": {
      "text/latex": [
       "$\\displaystyle x^{2} = 1$"
      ],
      "text/plain": [
       "Eq(x**2, 1)"
      ]
     },
     "execution_count": 8,
     "metadata": {},
     "output_type": "execute_result"
    }
   ],
   "source": [
    "equation_1"
   ]
  },
  {
   "cell_type": "code",
   "execution_count": 9,
   "id": "1f47e0b6-fede-4264-bc0e-b755d1429cfa",
   "metadata": {},
   "outputs": [
    {
     "data": {
      "text/latex": [
       "$\\displaystyle a x^{2} + b x + c = 0$"
      ],
      "text/plain": [
       "Eq(a*x**2 + b*x + c, 0)"
      ]
     },
     "execution_count": 9,
     "metadata": {},
     "output_type": "execute_result"
    }
   ],
   "source": [
    "equation_2"
   ]
  },
  {
   "cell_type": "code",
   "execution_count": 10,
   "id": "44b4a924-6983-4147-be1a-dadfbd1883c5",
   "metadata": {},
   "outputs": [
    {
     "data": {
      "text/plain": [
       "[(-b - sqrt(-4*a*c + b**2))/(2*a), (-b + sqrt(-4*a*c + b**2))/(2*a)]"
      ]
     },
     "execution_count": 10,
     "metadata": {},
     "output_type": "execute_result"
    }
   ],
   "source": [
    "solve(equation_2, x)"
   ]
  },
  {
   "cell_type": "code",
   "execution_count": null,
   "id": "73306a61-2fb8-4f7d-83ba-dbc78e0cc512",
   "metadata": {},
   "outputs": [],
   "source": []
  }
 ],
 "metadata": {
  "kernelspec": {
   "display_name": "Python 3 (ipykernel)",
   "language": "python",
   "name": "python3"
  },
  "language_info": {
   "codemirror_mode": {
    "name": "ipython",
    "version": 3
   },
   "file_extension": ".py",
   "mimetype": "text/x-python",
   "name": "python",
   "nbconvert_exporter": "python",
   "pygments_lexer": "ipython3",
   "version": "3.10.9"
  }
 },
 "nbformat": 4,
 "nbformat_minor": 5
}
