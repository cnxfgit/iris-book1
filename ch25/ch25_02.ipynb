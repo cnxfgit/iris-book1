{
 "cells": [
  {
   "cell_type": "code",
   "execution_count": 1,
   "id": "e20c8b84-0dc9-400b-90eb-201e65962d99",
   "metadata": {},
   "outputs": [],
   "source": [
    "from sympy import symbols, sympify"
   ]
  },
  {
   "cell_type": "code",
   "execution_count": 2,
   "id": "34f7a150-554b-4af1-b5bd-4749250ec72d",
   "metadata": {},
   "outputs": [],
   "source": [
    "x, y = symbols('x y')"
   ]
  },
  {
   "cell_type": "code",
   "execution_count": 3,
   "id": "b69a73d1-4fc8-4d0b-9231-b780ab6115cd",
   "metadata": {},
   "outputs": [],
   "source": [
    "str_expression = 'x**3 + x**2 + x + 1'"
   ]
  },
  {
   "cell_type": "code",
   "execution_count": 4,
   "id": "8f01fc1a-cdcd-45bd-a600-db43364c84de",
   "metadata": {},
   "outputs": [],
   "source": [
    "str_2_sym = sympify(str_expression)"
   ]
  },
  {
   "cell_type": "code",
   "execution_count": 5,
   "id": "fb32d71e-2483-44d9-b3b3-98d8cb84630f",
   "metadata": {},
   "outputs": [
    {
     "data": {
      "text/latex": [
       "$\\displaystyle x^{3} + x^{2} + x + 1$"
      ],
      "text/plain": [
       "x**3 + x**2 + x + 1"
      ]
     },
     "execution_count": 5,
     "metadata": {},
     "output_type": "execute_result"
    }
   ],
   "source": [
    "str_2_sym"
   ]
  },
  {
   "cell_type": "code",
   "execution_count": 6,
   "id": "191f274b-ef23-4f95-9881-fb526ab76260",
   "metadata": {},
   "outputs": [
    {
     "data": {
      "text/latex": [
       "$\\displaystyle y^{3} + y^{2} + y + 1$"
      ],
      "text/plain": [
       "y**3 + y**2 + y + 1"
      ]
     },
     "execution_count": 6,
     "metadata": {},
     "output_type": "execute_result"
    }
   ],
   "source": [
    "str_2_sym.subs(x, y)"
   ]
  },
  {
   "cell_type": "code",
   "execution_count": 7,
   "id": "93b197a3-c5e2-434d-b81c-eda358d2af5e",
   "metadata": {},
   "outputs": [
    {
     "data": {
      "text/latex": [
       "$\\displaystyle 1$"
      ],
      "text/plain": [
       "1"
      ]
     },
     "execution_count": 7,
     "metadata": {},
     "output_type": "execute_result"
    }
   ],
   "source": [
    "str_2_sym.subs(x ,0)"
   ]
  },
  {
   "cell_type": "code",
   "execution_count": null,
   "id": "6d6f668d-1c3b-43f4-b1a9-fd14c57f20b5",
   "metadata": {},
   "outputs": [],
   "source": []
  }
 ],
 "metadata": {
  "kernelspec": {
   "display_name": "Python 3 (ipykernel)",
   "language": "python",
   "name": "python3"
  },
  "language_info": {
   "codemirror_mode": {
    "name": "ipython",
    "version": 3
   },
   "file_extension": ".py",
   "mimetype": "text/x-python",
   "name": "python",
   "nbconvert_exporter": "python",
   "pygments_lexer": "ipython3",
   "version": "3.10.9"
  }
 },
 "nbformat": 4,
 "nbformat_minor": 5
}
