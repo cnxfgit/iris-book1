{
 "cells": [
  {
   "cell_type": "code",
   "execution_count": 1,
   "id": "7fa94694-d917-4591-a1bc-e624968ae00a",
   "metadata": {},
   "outputs": [],
   "source": [
    "class Chicken:\n",
    "    def __init__(self, name, age,\n",
    "                 color = '黄色', weight = '2'):\n",
    "        self.name = name\n",
    "        self.age = age\n",
    "        self.color = color\n",
    "        self.weight = weight"
   ]
  },
  {
   "cell_type": "code",
   "execution_count": 2,
   "id": "f4e3df35-f449-4f42-9c77-b2996298f365",
   "metadata": {},
   "outputs": [],
   "source": [
    "chicken_01 = Chicken(\"小红\", 1, \"白色\")"
   ]
  },
  {
   "cell_type": "code",
   "execution_count": 3,
   "id": "d05c40d9-487b-463b-a716-8f5537c03e52",
   "metadata": {},
   "outputs": [
    {
     "name": "stdout",
     "output_type": "stream",
     "text": [
      "小红\n"
     ]
    }
   ],
   "source": [
    "print(chicken_01.name)"
   ]
  },
  {
   "cell_type": "code",
   "execution_count": 4,
   "id": "618a713e-0ba5-4727-969b-e87620ba111f",
   "metadata": {},
   "outputs": [
    {
     "name": "stdout",
     "output_type": "stream",
     "text": [
      "1\n"
     ]
    }
   ],
   "source": [
    "print(chicken_01.age)"
   ]
  },
  {
   "cell_type": "code",
   "execution_count": 5,
   "id": "a52091a5-d0b4-4fe6-883a-bd231e255ebd",
   "metadata": {},
   "outputs": [
    {
     "name": "stdout",
     "output_type": "stream",
     "text": [
      "白色\n"
     ]
    }
   ],
   "source": [
    "print(chicken_01.color)"
   ]
  },
  {
   "cell_type": "code",
   "execution_count": 6,
   "id": "c3c5a4bc-d6e3-4df7-b903-c042ca121d35",
   "metadata": {},
   "outputs": [
    {
     "name": "stdout",
     "output_type": "stream",
     "text": [
      "2\n"
     ]
    }
   ],
   "source": [
    "print(chicken_01.weight)"
   ]
  },
  {
   "cell_type": "code",
   "execution_count": null,
   "id": "ccb07d90-5d06-43dd-8cb5-58e6bdb9eb28",
   "metadata": {},
   "outputs": [],
   "source": []
  }
 ],
 "metadata": {
  "kernelspec": {
   "display_name": "Python 3 (ipykernel)",
   "language": "python",
   "name": "python3"
  },
  "language_info": {
   "codemirror_mode": {
    "name": "ipython",
    "version": 3
   },
   "file_extension": ".py",
   "mimetype": "text/x-python",
   "name": "python",
   "nbconvert_exporter": "python",
   "pygments_lexer": "ipython3",
   "version": "3.10.9"
  }
 },
 "nbformat": 4,
 "nbformat_minor": 5
}
