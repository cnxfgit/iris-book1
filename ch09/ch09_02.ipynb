{
 "cells": [
  {
   "cell_type": "code",
   "execution_count": 1,
   "id": "66e44a0b-d8a1-4447-ab9c-487dbe4bfc69",
   "metadata": {},
   "outputs": [],
   "source": [
    "class Chicken:\n",
    "    def __init__(self, name, age, color, weight):\n",
    "        self.name = name\n",
    "        self.age = age\n",
    "        self.color = color\n",
    "        self.weight = weight"
   ]
  },
  {
   "cell_type": "code",
   "execution_count": 2,
   "id": "976d5d99-dfd9-447b-958c-0de06a1d8c66",
   "metadata": {},
   "outputs": [],
   "source": [
    "chicken_01 = Chicken(\"小红\", 1, \"黄色\", 1.5)"
   ]
  },
  {
   "cell_type": "code",
   "execution_count": 3,
   "id": "fe25a14e-3f55-4dd6-885c-e398484b5afe",
   "metadata": {},
   "outputs": [],
   "source": [
    "chicken_02 = Chicken(\"小黄\", 1.2, \"红色\", 2)"
   ]
  },
  {
   "cell_type": "code",
   "execution_count": 4,
   "id": "538bf5cc-516a-4809-adf8-df44f87cb305",
   "metadata": {},
   "outputs": [
    {
     "name": "stdout",
     "output_type": "stream",
     "text": [
      "小红\n"
     ]
    }
   ],
   "source": [
    "print(chicken_01.name)"
   ]
  },
  {
   "cell_type": "code",
   "execution_count": 5,
   "id": "ba67b359-1791-42da-96c8-50493f5632b1",
   "metadata": {},
   "outputs": [
    {
     "name": "stdout",
     "output_type": "stream",
     "text": [
      "1\n"
     ]
    }
   ],
   "source": [
    "print(chicken_01.age)"
   ]
  },
  {
   "cell_type": "code",
   "execution_count": 6,
   "id": "057f9864-ce0f-494d-a815-397a7ebf6dce",
   "metadata": {},
   "outputs": [
    {
     "name": "stdout",
     "output_type": "stream",
     "text": [
      "黄色\n"
     ]
    }
   ],
   "source": [
    "print(chicken_01.color)"
   ]
  },
  {
   "cell_type": "code",
   "execution_count": 7,
   "id": "d8e93e51-361a-4a1d-a550-506fc6575def",
   "metadata": {},
   "outputs": [
    {
     "name": "stdout",
     "output_type": "stream",
     "text": [
      "1.5\n"
     ]
    }
   ],
   "source": [
    "print(chicken_01.weight)"
   ]
  }
 ],
 "metadata": {
  "kernelspec": {
   "display_name": "Python 3 (ipykernel)",
   "language": "python",
   "name": "python3"
  },
  "language_info": {
   "codemirror_mode": {
    "name": "ipython",
    "version": 3
   },
   "file_extension": ".py",
   "mimetype": "text/x-python",
   "name": "python",
   "nbconvert_exporter": "python",
   "pygments_lexer": "ipython3",
   "version": "3.10.9"
  }
 },
 "nbformat": 4,
 "nbformat_minor": 5
}
