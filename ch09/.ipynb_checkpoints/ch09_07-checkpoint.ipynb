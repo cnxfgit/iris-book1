{
 "cells": [
  {
   "cell_type": "code",
   "execution_count": 1,
   "id": "c191d5c6-5b01-4caf-8697-d1fd02f4e7eb",
   "metadata": {},
   "outputs": [],
   "source": [
    "class Animal:\n",
    "    def __init__(self, name, age):\n",
    "        self.name = name\n",
    "        self.age = age\n",
    "\n",
    "    def eat(self):\n",
    "        print(f\"{self.name} is eating.\")\n",
    "\n",
    "    def sleep(self):\n",
    "        print(f\"{self.name} is sleeping.\")"
   ]
  },
  {
   "cell_type": "code",
   "execution_count": 2,
   "id": "bf33acb1-a4c0-4fb0-919a-c3432b4b4048",
   "metadata": {},
   "outputs": [],
   "source": [
    "class Chicken(Animal):\n",
    "    def __init__(self, name, age, color):\n",
    "        super().__init__(name, age)\n",
    "        self.color = color\n",
    "\n",
    "    def lay_egg(self):\n",
    "        print(f\"{self.name} is laying an egg.\")"
   ]
  },
  {
   "cell_type": "code",
   "execution_count": 3,
   "id": "a8900f8c-f955-4d86-97c8-3ffc8f6d4b49",
   "metadata": {},
   "outputs": [],
   "source": [
    "class Rabbit(Animal):\n",
    "    def __init__(self, name, age, speed):\n",
    "        super().__init__(name, age)\n",
    "        self.speed = speed\n",
    "\n",
    "    def jump(self):\n",
    "        print(f\"{self.name} is jumping.\")"
   ]
  },
  {
   "cell_type": "code",
   "execution_count": 4,
   "id": "299079cc-4775-4636-b9e1-ecabf534a83f",
   "metadata": {},
   "outputs": [],
   "source": [
    "class Pig(Animal):\n",
    "    def __init__(self, name, age, weight):\n",
    "        super().__init__(name, age)\n",
    "        self.weight = weight\n",
    "\n",
    "    def roll(self):\n",
    "        print(f\"{self.name} is rolling around.\")"
   ]
  },
  {
   "cell_type": "code",
   "execution_count": 5,
   "id": "650a861c-b054-4cf2-ab81-af7ba0589b99",
   "metadata": {},
   "outputs": [
    {
     "name": "stdout",
     "output_type": "stream",
     "text": [
      "chicken1 is eating.\n",
      "chicken1 is laying an egg.\n"
     ]
    }
   ],
   "source": [
    "chicken1 = Chicken('chicken1', 1, 'white')\n",
    "chicken1.eat()\n",
    "chicken1.lay_egg()"
   ]
  },
  {
   "cell_type": "code",
   "execution_count": 6,
   "id": "dda229b6-72b8-4467-a3c3-2accee4767d2",
   "metadata": {},
   "outputs": [
    {
     "name": "stdout",
     "output_type": "stream",
     "text": [
      "rabbit1 is sleeping.\n",
      "rabbit1 is jumping.\n"
     ]
    }
   ],
   "source": [
    "rabbit1 = Rabbit('rabbit1', 2, 10)\n",
    "rabbit1.sleep()\n",
    "rabbit1.jump()"
   ]
  },
  {
   "cell_type": "code",
   "execution_count": 7,
   "id": "02f22c88-a1a1-4615-88dc-58a0586be89a",
   "metadata": {},
   "outputs": [
    {
     "name": "stdout",
     "output_type": "stream",
     "text": [
      "pig1 is eating.\n",
      "pig1 is rolling around.\n"
     ]
    }
   ],
   "source": [
    "pig1 = Pig('pig1', 3, 100)\n",
    "pig1.eat()\n",
    "pig1.roll()"
   ]
  },
  {
   "cell_type": "code",
   "execution_count": null,
   "id": "fa1cfad3-054e-4343-83a6-2398eee035de",
   "metadata": {},
   "outputs": [],
   "source": []
  }
 ],
 "metadata": {
  "kernelspec": {
   "display_name": "Python 3 (ipykernel)",
   "language": "python",
   "name": "python3"
  },
  "language_info": {
   "codemirror_mode": {
    "name": "ipython",
    "version": 3
   },
   "file_extension": ".py",
   "mimetype": "text/x-python",
   "name": "python",
   "nbconvert_exporter": "python",
   "pygments_lexer": "ipython3",
   "version": "3.10.9"
  }
 },
 "nbformat": 4,
 "nbformat_minor": 5
}
