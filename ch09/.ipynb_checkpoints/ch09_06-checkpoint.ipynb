{
 "cells": [
  {
   "cell_type": "code",
   "execution_count": 1,
   "id": "8eec72d8-f1ac-437d-8590-82847bd3a6d9",
   "metadata": {},
   "outputs": [],
   "source": [
    "class ListStatistics:\n",
    "    def __init__(self):\n",
    "        self._data = []\n",
    "\n",
    "    @property\n",
    "    def data(self):\n",
    "        return self._data\n",
    "\n",
    "    @data.setter\n",
    "    def data(self, new_list):\n",
    "        if self._are_all_numeric(new_list):\n",
    "            self._data = new_list\n",
    "        else:\n",
    "            print('错误：列表中的元素必须全部是数值')\n",
    "\n",
    "    @classmethod\n",
    "    def _are_all_numeric(cls, input_list):\n",
    "        for element in input_list:\n",
    "            if not isinstance(element, (int, float)):\n",
    "                return False\n",
    "        return True"
   ]
  },
  {
   "cell_type": "code",
   "execution_count": 2,
   "id": "76b568a2-3652-44d5-9ad5-d7b7a93702b2",
   "metadata": {},
   "outputs": [],
   "source": [
    "data = [8.8, 1.8, 7.8, 3.8, 2.8, 5.6, '3.9', 6.9]"
   ]
  },
  {
   "cell_type": "code",
   "execution_count": 3,
   "id": "f0ebcd18-5bff-4651-9b57-f4e1e75f125a",
   "metadata": {},
   "outputs": [],
   "source": [
    "float_list_obj = ListStatistics()"
   ]
  },
  {
   "cell_type": "code",
   "execution_count": 4,
   "id": "2f79da6c-31f2-4b05-ab27-e23a9690e956",
   "metadata": {},
   "outputs": [
    {
     "name": "stdout",
     "output_type": "stream",
     "text": [
      "错误：列表中的元素必须全部是数值\n"
     ]
    }
   ],
   "source": [
    "float_list_obj.data = data"
   ]
  }
 ],
 "metadata": {
  "kernelspec": {
   "display_name": "Python 3 (ipykernel)",
   "language": "python",
   "name": "python3"
  },
  "language_info": {
   "codemirror_mode": {
    "name": "ipython",
    "version": 3
   },
   "file_extension": ".py",
   "mimetype": "text/x-python",
   "name": "python",
   "nbconvert_exporter": "python",
   "pygments_lexer": "ipython3",
   "version": "3.10.9"
  }
 },
 "nbformat": 4,
 "nbformat_minor": 5
}
