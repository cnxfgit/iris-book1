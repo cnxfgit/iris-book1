{
 "cells": [
  {
   "cell_type": "code",
   "execution_count": 2,
   "id": "d1acbdf6-9279-4612-bb93-86555a370bc9",
   "metadata": {},
   "outputs": [],
   "source": [
    "class ListStatistics:\n",
    "    def __init__(self, data):\n",
    "        self.data = data\n",
    "\n",
    "    def list_length(self):\n",
    "        return len(self.data)\n",
    "\n",
    "    def list_sum(self):\n",
    "        return sum(self.data)\n",
    "\n",
    "    def list_mean(self):\n",
    "        return sum(self.data)/self.list_length()\n",
    "\n",
    "    def list_variance(self, ddof = 1):\n",
    "        sum_squares = sum((x_i - self.list_mean()) ** 2\n",
    "                         for x_i in self.data)\n",
    "        return sum_squares / (self.list_length() - ddof)"
   ]
  },
  {
   "cell_type": "code",
   "execution_count": 3,
   "id": "321ad99c-dae2-4fa7-b619-17b276067bd0",
   "metadata": {},
   "outputs": [],
   "source": [
    "data = [8.8, 1.8, 7.8, 3.8, 2.8, 5.6, 3.9, 6.9]"
   ]
  },
  {
   "cell_type": "code",
   "execution_count": 4,
   "id": "df5c5481-a1aa-4c3d-8304-f7d7ff91e533",
   "metadata": {},
   "outputs": [],
   "source": [
    "float_list = ListStatistics(data)"
   ]
  },
  {
   "cell_type": "code",
   "execution_count": 5,
   "id": "5f5fd273-066c-46dd-89be-77bfa9a4eedb",
   "metadata": {},
   "outputs": [
    {
     "name": "stdout",
     "output_type": "stream",
     "text": [
      "列表长度:  8\n"
     ]
    }
   ],
   "source": [
    "print('列表长度: ', float_list.list_length())"
   ]
  },
  {
   "cell_type": "code",
   "execution_count": 6,
   "id": "264e640d-4bb2-4fb3-a437-29799623e0ea",
   "metadata": {},
   "outputs": [
    {
     "name": "stdout",
     "output_type": "stream",
     "text": [
      "列表和:  41.4\n"
     ]
    }
   ],
   "source": [
    "print('列表和: ', float_list.list_sum())"
   ]
  },
  {
   "cell_type": "code",
   "execution_count": 7,
   "id": "9ef90170-3fcc-4d6c-9419-86743771b4d0",
   "metadata": {},
   "outputs": [
    {
     "name": "stdout",
     "output_type": "stream",
     "text": [
      "列表平均值:  5.175\n"
     ]
    }
   ],
   "source": [
    "print('列表平均值: ', float_list.list_mean())"
   ]
  },
  {
   "cell_type": "code",
   "execution_count": 8,
   "id": "4548a33f-e2fd-40cb-b21e-a2d265b698df",
   "metadata": {},
   "outputs": [
    {
     "name": "stdout",
     "output_type": "stream",
     "text": [
      "列表方差:  6.247857142857144\n"
     ]
    }
   ],
   "source": [
    "print('列表方差: ', float_list.list_variance())"
   ]
  },
  {
   "cell_type": "code",
   "execution_count": 9,
   "id": "5dc64545-6920-4e6b-93f0-180e2fe0e4e2",
   "metadata": {},
   "outputs": [
    {
     "name": "stdout",
     "output_type": "stream",
     "text": [
      "列表方差(ddof=0):  5.466875000000001\n"
     ]
    }
   ],
   "source": [
    "print('列表方差(ddof=0): ', float_list.list_variance(0))"
   ]
  },
  {
   "cell_type": "code",
   "execution_count": null,
   "id": "53584650-b607-455c-86a6-375511c74dad",
   "metadata": {},
   "outputs": [],
   "source": []
  }
 ],
 "metadata": {
  "kernelspec": {
   "display_name": "Python 3 (ipykernel)",
   "language": "python",
   "name": "python3"
  },
  "language_info": {
   "codemirror_mode": {
    "name": "ipython",
    "version": 3
   },
   "file_extension": ".py",
   "mimetype": "text/x-python",
   "name": "python",
   "nbconvert_exporter": "python",
   "pygments_lexer": "ipython3",
   "version": "3.10.9"
  }
 },
 "nbformat": 4,
 "nbformat_minor": 5
}
