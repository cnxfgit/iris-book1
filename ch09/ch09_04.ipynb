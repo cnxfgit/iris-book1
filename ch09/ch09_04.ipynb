{
 "cells": [
  {
   "cell_type": "code",
   "execution_count": 1,
   "id": "c1b96e78-ac6d-482d-99f0-fea4a445ddec",
   "metadata": {},
   "outputs": [],
   "source": [
    "class Chicken:\n",
    "    def __init__(self):\n",
    "        self.name = ''\n",
    "        self.age = ''\n",
    "        self.color = ''\n",
    "        self.weight = ''"
   ]
  },
  {
   "cell_type": "code",
   "execution_count": 2,
   "id": "555f7935-4b30-4a21-97a1-3d75050cbc4c",
   "metadata": {},
   "outputs": [],
   "source": [
    "chicken_01 = Chicken()\n",
    "chicken_01.name = '小红'\n",
    "chicken_01.age = 1\n",
    "chicken_01.color = '黄色'\n",
    "chicken_01.weight = 1.5"
   ]
  },
  {
   "cell_type": "code",
   "execution_count": null,
   "id": "2e49aa32-97af-41ab-81d7-4e4e3135a37e",
   "metadata": {},
   "outputs": [],
   "source": []
  }
 ],
 "metadata": {
  "kernelspec": {
   "display_name": "Python 3 (ipykernel)",
   "language": "python",
   "name": "python3"
  },
  "language_info": {
   "codemirror_mode": {
    "name": "ipython",
    "version": 3
   },
   "file_extension": ".py",
   "mimetype": "text/x-python",
   "name": "python",
   "nbconvert_exporter": "python",
   "pygments_lexer": "ipython3",
   "version": "3.10.9"
  }
 },
 "nbformat": 4,
 "nbformat_minor": 5
}
