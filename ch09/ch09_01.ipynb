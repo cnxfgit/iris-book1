{
 "cells": [
  {
   "cell_type": "code",
   "execution_count": 3,
   "id": "8212f90e-488a-4d4d-9096-136853b46355",
   "metadata": {},
   "outputs": [],
   "source": [
    "class Rectangle:\n",
    "    def __init__(self, width, height):\n",
    "        self.width = width\n",
    "        self.height = height\n",
    "\n",
    "    def circumference(self):\n",
    "        return 2 * (self.width + self.height)\n",
    "\n",
    "    def area(self):\n",
    "        return self.width * self.height"
   ]
  },
  {
   "cell_type": "code",
   "execution_count": 4,
   "id": "505e34b1-86d5-4d17-a86d-04de184bb8fd",
   "metadata": {},
   "outputs": [],
   "source": [
    "rect_width_5_height_10 = Rectangle(5, 10)"
   ]
  },
  {
   "cell_type": "code",
   "execution_count": 5,
   "id": "66a96450-8de5-4688-a34b-050727de9809",
   "metadata": {},
   "outputs": [
    {
     "name": "stdout",
     "output_type": "stream",
     "text": [
      "矩形周长 30\n"
     ]
    }
   ],
   "source": [
    "print('矩形周长', rect_width_5_height_10.circumference())"
   ]
  },
  {
   "cell_type": "code",
   "execution_count": 6,
   "id": "da2ee0f5-8ebf-4f61-8595-b1aa90a5fe0f",
   "metadata": {},
   "outputs": [
    {
     "name": "stdout",
     "output_type": "stream",
     "text": [
      "矩形面积 50\n"
     ]
    }
   ],
   "source": [
    "print('矩形面积', rect_width_5_height_10.area())"
   ]
  },
  {
   "cell_type": "code",
   "execution_count": null,
   "id": "eacb152f-e1ae-4c24-bd4f-9c9090024753",
   "metadata": {},
   "outputs": [],
   "source": []
  }
 ],
 "metadata": {
  "kernelspec": {
   "display_name": "Python 3 (ipykernel)",
   "language": "python",
   "name": "python3"
  },
  "language_info": {
   "codemirror_mode": {
    "name": "ipython",
    "version": 3
   },
   "file_extension": ".py",
   "mimetype": "text/x-python",
   "name": "python",
   "nbconvert_exporter": "python",
   "pygments_lexer": "ipython3",
   "version": "3.10.9"
  }
 },
 "nbformat": 4,
 "nbformat_minor": 5
}
